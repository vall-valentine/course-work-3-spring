{
  "cells": [
    {
      "cell_type": "code",
      "source": [
        "!pip install gensim\n",
        "!pip install numpy==1.26.4"
      ],
      "metadata": {
        "colab": {
          "base_uri": "https://localhost:8080/"
        },
        "collapsed": true,
        "id": "MObmzS2UDfFg",
        "outputId": "bc5fbc4f-2b44-4749-c73a-ad3f9f64d301"
      },
      "id": "MObmzS2UDfFg",
      "execution_count": null,
      "outputs": [
        {
          "output_type": "stream",
          "name": "stdout",
          "text": [
            "Requirement already satisfied: gensim in /usr/local/lib/python3.11/dist-packages (4.3.3)\n",
            "Requirement already satisfied: numpy<2.0,>=1.18.5 in /usr/local/lib/python3.11/dist-packages (from gensim) (1.26.4)\n",
            "Requirement already satisfied: scipy<1.14.0,>=1.7.0 in /usr/local/lib/python3.11/dist-packages (from gensim) (1.13.1)\n",
            "Requirement already satisfied: smart-open>=1.8.1 in /usr/local/lib/python3.11/dist-packages (from gensim) (7.1.0)\n",
            "Requirement already satisfied: wrapt in /usr/local/lib/python3.11/dist-packages (from smart-open>=1.8.1->gensim) (1.17.2)\n",
            "Requirement already satisfied: numpy==1.26.4 in /usr/local/lib/python3.11/dist-packages (1.26.4)\n"
          ]
        }
      ]
    },
    {
      "cell_type": "code",
      "source": [
        "!wget https://storage.yandexcloud.net/ds-ods/files/materials/8164c5a7/train_supervised_dataset.csv -O train_supervised_dataset.csv\n",
        "!wget https://storage.yandexcloud.net/ds-ods/files/materials/60673a7c/test_dataset.csv -O test_dataset.csv"
      ],
      "metadata": {
        "colab": {
          "base_uri": "https://localhost:8080/"
        },
        "collapsed": true,
        "id": "uGIZxcOyAvzQ",
        "outputId": "89df0d88-7204-4721-e68c-a05227422b80"
      },
      "id": "uGIZxcOyAvzQ",
      "execution_count": null,
      "outputs": [
        {
          "output_type": "stream",
          "name": "stdout",
          "text": [
            "--2025-05-14 18:20:12--  https://storage.yandexcloud.net/ds-ods/files/materials/8164c5a7/train_supervised_dataset.csv\n",
            "Resolving storage.yandexcloud.net (storage.yandexcloud.net)... 213.180.193.243, 2a02:6b8::1d9\n",
            "Connecting to storage.yandexcloud.net (storage.yandexcloud.net)|213.180.193.243|:443... connected.\n",
            "HTTP request sent, awaiting response... 200 OK\n",
            "Length: 2379415 (2.3M) [text/csv]\n",
            "Saving to: ‘train_supervised_dataset.csv’\n",
            "\n",
            "train_supervised_da 100%[===================>]   2.27M  6.40MB/s    in 0.4s    \n",
            "\n",
            "2025-05-14 18:20:13 (6.40 MB/s) - ‘train_supervised_dataset.csv’ saved [2379415/2379415]\n",
            "\n",
            "--2025-05-14 18:20:13--  https://storage.yandexcloud.net/ds-ods/files/materials/60673a7c/test_dataset.csv\n",
            "Resolving storage.yandexcloud.net (storage.yandexcloud.net)... 213.180.193.243, 2a02:6b8::1d9\n",
            "Connecting to storage.yandexcloud.net (storage.yandexcloud.net)|213.180.193.243|:443... connected.\n",
            "HTTP request sent, awaiting response... 200 OK\n",
            "Length: 356302 (348K) [text/csv]\n",
            "Saving to: ‘test_dataset.csv’\n",
            "\n",
            "test_dataset.csv    100%[===================>] 347.95K  1.56MB/s    in 0.2s    \n",
            "\n",
            "2025-05-14 18:20:14 (1.56 MB/s) - ‘test_dataset.csv’ saved [356302/356302]\n",
            "\n"
          ]
        }
      ]
    },
    {
      "cell_type": "code",
      "source": [
        "from gensim.models.fasttext import FastText\n",
        "import pandas as pd\n",
        "import numpy as np"
      ],
      "metadata": {
        "id": "plhs2P_xD1GX"
      },
      "id": "plhs2P_xD1GX",
      "execution_count": null,
      "outputs": []
    },
    {
      "cell_type": "code",
      "source": [
        "TRAIN_DATASET_PATH = \"train_supervised_dataset.csv\"\n",
        "TEST_DATASET_PATH = \"test_dataset.csv\"\n",
        "FASTTEXT_PATH = \"fasttext.model\""
      ],
      "metadata": {
        "id": "jf4jBcR1EDur"
      },
      "id": "jf4jBcR1EDur",
      "execution_count": null,
      "outputs": []
    },
    {
      "cell_type": "markdown",
      "source": [
        "# Предварительный анализ"
      ],
      "metadata": {
        "id": "n3mCUN-949Op"
      },
      "id": "n3mCUN-949Op"
    },
    {
      "cell_type": "markdown",
      "source": [
        "Источник данных: Соревнование по структуризации чеков ОФД (https://ods.ai/competitions/nlp-receipts)\n",
        "\n",
        "Данные чеков ОФД содержат детальную информацию о тратах клиентов Альфа-Банка.\n",
        "\n",
        "В предположении что каждая чековая позиция описывает какой-либо товар, наименование этого товара, являются главной информацией, которую можно извлечь из чека. По итогу задача структуризации этих данных ограничивается выделением и нормализацией товаров."
      ],
      "metadata": {
        "id": "Ku58qfVZ9a_e"
      },
      "id": "Ku58qfVZ9a_e"
    },
    {
      "cell_type": "code",
      "source": [
        "train_df = pd.read_csv(TRAIN_DATASET_PATH).fillna(\"\")\n",
        "train_df.head()"
      ],
      "metadata": {
        "id": "okSXjP2u5PfC",
        "colab": {
          "base_uri": "https://localhost:8080/",
          "height": 206
        },
        "outputId": "cfc3b37f-92b4-4752-92e2-2968655ccd63"
      },
      "id": "okSXjP2u5PfC",
      "execution_count": null,
      "outputs": [
        {
          "output_type": "execute_result",
          "data": {
            "text/plain": [
              "   id                                            name      good          brand\n",
              "0   0         Petmax Бантик леопард с красн розой 2шт    бантик         petmax\n",
              "1   1                87191 Бусы для елки шарики_87191      бусы               \n",
              "2   2              Футболка Piazza Italia WR011446881  футболка  piazza italia\n",
              "3   3  7) YI572-03X-ONE ЗАКОЛКА ДЛЯ ВОЛОС ДЛЯ ДЕВОЧКИ   заколка               \n",
              "4   4                               Одежда (вес) 1500    одежда               "
            ],
            "text/html": [
              "\n",
              "  <div id=\"df-7606fa9c-7524-4e4f-97f5-02387e0010f4\" class=\"colab-df-container\">\n",
              "    <div>\n",
              "<style scoped>\n",
              "    .dataframe tbody tr th:only-of-type {\n",
              "        vertical-align: middle;\n",
              "    }\n",
              "\n",
              "    .dataframe tbody tr th {\n",
              "        vertical-align: top;\n",
              "    }\n",
              "\n",
              "    .dataframe thead th {\n",
              "        text-align: right;\n",
              "    }\n",
              "</style>\n",
              "<table border=\"1\" class=\"dataframe\">\n",
              "  <thead>\n",
              "    <tr style=\"text-align: right;\">\n",
              "      <th></th>\n",
              "      <th>id</th>\n",
              "      <th>name</th>\n",
              "      <th>good</th>\n",
              "      <th>brand</th>\n",
              "    </tr>\n",
              "  </thead>\n",
              "  <tbody>\n",
              "    <tr>\n",
              "      <th>0</th>\n",
              "      <td>0</td>\n",
              "      <td>Petmax Бантик леопард с красн розой 2шт</td>\n",
              "      <td>бантик</td>\n",
              "      <td>petmax</td>\n",
              "    </tr>\n",
              "    <tr>\n",
              "      <th>1</th>\n",
              "      <td>1</td>\n",
              "      <td>87191 Бусы для елки шарики_87191</td>\n",
              "      <td>бусы</td>\n",
              "      <td></td>\n",
              "    </tr>\n",
              "    <tr>\n",
              "      <th>2</th>\n",
              "      <td>2</td>\n",
              "      <td>Футболка Piazza Italia WR011446881</td>\n",
              "      <td>футболка</td>\n",
              "      <td>piazza italia</td>\n",
              "    </tr>\n",
              "    <tr>\n",
              "      <th>3</th>\n",
              "      <td>3</td>\n",
              "      <td>7) YI572-03X-ONE ЗАКОЛКА ДЛЯ ВОЛОС ДЛЯ ДЕВОЧКИ</td>\n",
              "      <td>заколка</td>\n",
              "      <td></td>\n",
              "    </tr>\n",
              "    <tr>\n",
              "      <th>4</th>\n",
              "      <td>4</td>\n",
              "      <td>Одежда (вес) 1500</td>\n",
              "      <td>одежда</td>\n",
              "      <td></td>\n",
              "    </tr>\n",
              "  </tbody>\n",
              "</table>\n",
              "</div>\n",
              "    <div class=\"colab-df-buttons\">\n",
              "\n",
              "  <div class=\"colab-df-container\">\n",
              "    <button class=\"colab-df-convert\" onclick=\"convertToInteractive('df-7606fa9c-7524-4e4f-97f5-02387e0010f4')\"\n",
              "            title=\"Convert this dataframe to an interactive table.\"\n",
              "            style=\"display:none;\">\n",
              "\n",
              "  <svg xmlns=\"http://www.w3.org/2000/svg\" height=\"24px\" viewBox=\"0 -960 960 960\">\n",
              "    <path d=\"M120-120v-720h720v720H120Zm60-500h600v-160H180v160Zm220 220h160v-160H400v160Zm0 220h160v-160H400v160ZM180-400h160v-160H180v160Zm440 0h160v-160H620v160ZM180-180h160v-160H180v160Zm440 0h160v-160H620v160Z\"/>\n",
              "  </svg>\n",
              "    </button>\n",
              "\n",
              "  <style>\n",
              "    .colab-df-container {\n",
              "      display:flex;\n",
              "      gap: 12px;\n",
              "    }\n",
              "\n",
              "    .colab-df-convert {\n",
              "      background-color: #E8F0FE;\n",
              "      border: none;\n",
              "      border-radius: 50%;\n",
              "      cursor: pointer;\n",
              "      display: none;\n",
              "      fill: #1967D2;\n",
              "      height: 32px;\n",
              "      padding: 0 0 0 0;\n",
              "      width: 32px;\n",
              "    }\n",
              "\n",
              "    .colab-df-convert:hover {\n",
              "      background-color: #E2EBFA;\n",
              "      box-shadow: 0px 1px 2px rgba(60, 64, 67, 0.3), 0px 1px 3px 1px rgba(60, 64, 67, 0.15);\n",
              "      fill: #174EA6;\n",
              "    }\n",
              "\n",
              "    .colab-df-buttons div {\n",
              "      margin-bottom: 4px;\n",
              "    }\n",
              "\n",
              "    [theme=dark] .colab-df-convert {\n",
              "      background-color: #3B4455;\n",
              "      fill: #D2E3FC;\n",
              "    }\n",
              "\n",
              "    [theme=dark] .colab-df-convert:hover {\n",
              "      background-color: #434B5C;\n",
              "      box-shadow: 0px 1px 3px 1px rgba(0, 0, 0, 0.15);\n",
              "      filter: drop-shadow(0px 1px 2px rgba(0, 0, 0, 0.3));\n",
              "      fill: #FFFFFF;\n",
              "    }\n",
              "  </style>\n",
              "\n",
              "    <script>\n",
              "      const buttonEl =\n",
              "        document.querySelector('#df-7606fa9c-7524-4e4f-97f5-02387e0010f4 button.colab-df-convert');\n",
              "      buttonEl.style.display =\n",
              "        google.colab.kernel.accessAllowed ? 'block' : 'none';\n",
              "\n",
              "      async function convertToInteractive(key) {\n",
              "        const element = document.querySelector('#df-7606fa9c-7524-4e4f-97f5-02387e0010f4');\n",
              "        const dataTable =\n",
              "          await google.colab.kernel.invokeFunction('convertToInteractive',\n",
              "                                                    [key], {});\n",
              "        if (!dataTable) return;\n",
              "\n",
              "        const docLinkHtml = 'Like what you see? Visit the ' +\n",
              "          '<a target=\"_blank\" href=https://colab.research.google.com/notebooks/data_table.ipynb>data table notebook</a>'\n",
              "          + ' to learn more about interactive tables.';\n",
              "        element.innerHTML = '';\n",
              "        dataTable['output_type'] = 'display_data';\n",
              "        await google.colab.output.renderOutput(dataTable, element);\n",
              "        const docLink = document.createElement('div');\n",
              "        docLink.innerHTML = docLinkHtml;\n",
              "        element.appendChild(docLink);\n",
              "      }\n",
              "    </script>\n",
              "  </div>\n",
              "\n",
              "\n",
              "    <div id=\"df-444b5f73-8366-4316-90e0-b0b8fce50c65\">\n",
              "      <button class=\"colab-df-quickchart\" onclick=\"quickchart('df-444b5f73-8366-4316-90e0-b0b8fce50c65')\"\n",
              "                title=\"Suggest charts\"\n",
              "                style=\"display:none;\">\n",
              "\n",
              "<svg xmlns=\"http://www.w3.org/2000/svg\" height=\"24px\"viewBox=\"0 0 24 24\"\n",
              "     width=\"24px\">\n",
              "    <g>\n",
              "        <path d=\"M19 3H5c-1.1 0-2 .9-2 2v14c0 1.1.9 2 2 2h14c1.1 0 2-.9 2-2V5c0-1.1-.9-2-2-2zM9 17H7v-7h2v7zm4 0h-2V7h2v10zm4 0h-2v-4h2v4z\"/>\n",
              "    </g>\n",
              "</svg>\n",
              "      </button>\n",
              "\n",
              "<style>\n",
              "  .colab-df-quickchart {\n",
              "      --bg-color: #E8F0FE;\n",
              "      --fill-color: #1967D2;\n",
              "      --hover-bg-color: #E2EBFA;\n",
              "      --hover-fill-color: #174EA6;\n",
              "      --disabled-fill-color: #AAA;\n",
              "      --disabled-bg-color: #DDD;\n",
              "  }\n",
              "\n",
              "  [theme=dark] .colab-df-quickchart {\n",
              "      --bg-color: #3B4455;\n",
              "      --fill-color: #D2E3FC;\n",
              "      --hover-bg-color: #434B5C;\n",
              "      --hover-fill-color: #FFFFFF;\n",
              "      --disabled-bg-color: #3B4455;\n",
              "      --disabled-fill-color: #666;\n",
              "  }\n",
              "\n",
              "  .colab-df-quickchart {\n",
              "    background-color: var(--bg-color);\n",
              "    border: none;\n",
              "    border-radius: 50%;\n",
              "    cursor: pointer;\n",
              "    display: none;\n",
              "    fill: var(--fill-color);\n",
              "    height: 32px;\n",
              "    padding: 0;\n",
              "    width: 32px;\n",
              "  }\n",
              "\n",
              "  .colab-df-quickchart:hover {\n",
              "    background-color: var(--hover-bg-color);\n",
              "    box-shadow: 0 1px 2px rgba(60, 64, 67, 0.3), 0 1px 3px 1px rgba(60, 64, 67, 0.15);\n",
              "    fill: var(--button-hover-fill-color);\n",
              "  }\n",
              "\n",
              "  .colab-df-quickchart-complete:disabled,\n",
              "  .colab-df-quickchart-complete:disabled:hover {\n",
              "    background-color: var(--disabled-bg-color);\n",
              "    fill: var(--disabled-fill-color);\n",
              "    box-shadow: none;\n",
              "  }\n",
              "\n",
              "  .colab-df-spinner {\n",
              "    border: 2px solid var(--fill-color);\n",
              "    border-color: transparent;\n",
              "    border-bottom-color: var(--fill-color);\n",
              "    animation:\n",
              "      spin 1s steps(1) infinite;\n",
              "  }\n",
              "\n",
              "  @keyframes spin {\n",
              "    0% {\n",
              "      border-color: transparent;\n",
              "      border-bottom-color: var(--fill-color);\n",
              "      border-left-color: var(--fill-color);\n",
              "    }\n",
              "    20% {\n",
              "      border-color: transparent;\n",
              "      border-left-color: var(--fill-color);\n",
              "      border-top-color: var(--fill-color);\n",
              "    }\n",
              "    30% {\n",
              "      border-color: transparent;\n",
              "      border-left-color: var(--fill-color);\n",
              "      border-top-color: var(--fill-color);\n",
              "      border-right-color: var(--fill-color);\n",
              "    }\n",
              "    40% {\n",
              "      border-color: transparent;\n",
              "      border-right-color: var(--fill-color);\n",
              "      border-top-color: var(--fill-color);\n",
              "    }\n",
              "    60% {\n",
              "      border-color: transparent;\n",
              "      border-right-color: var(--fill-color);\n",
              "    }\n",
              "    80% {\n",
              "      border-color: transparent;\n",
              "      border-right-color: var(--fill-color);\n",
              "      border-bottom-color: var(--fill-color);\n",
              "    }\n",
              "    90% {\n",
              "      border-color: transparent;\n",
              "      border-bottom-color: var(--fill-color);\n",
              "    }\n",
              "  }\n",
              "</style>\n",
              "\n",
              "      <script>\n",
              "        async function quickchart(key) {\n",
              "          const quickchartButtonEl =\n",
              "            document.querySelector('#' + key + ' button');\n",
              "          quickchartButtonEl.disabled = true;  // To prevent multiple clicks.\n",
              "          quickchartButtonEl.classList.add('colab-df-spinner');\n",
              "          try {\n",
              "            const charts = await google.colab.kernel.invokeFunction(\n",
              "                'suggestCharts', [key], {});\n",
              "          } catch (error) {\n",
              "            console.error('Error during call to suggestCharts:', error);\n",
              "          }\n",
              "          quickchartButtonEl.classList.remove('colab-df-spinner');\n",
              "          quickchartButtonEl.classList.add('colab-df-quickchart-complete');\n",
              "        }\n",
              "        (() => {\n",
              "          let quickchartButtonEl =\n",
              "            document.querySelector('#df-444b5f73-8366-4316-90e0-b0b8fce50c65 button');\n",
              "          quickchartButtonEl.style.display =\n",
              "            google.colab.kernel.accessAllowed ? 'block' : 'none';\n",
              "        })();\n",
              "      </script>\n",
              "    </div>\n",
              "    </div>\n",
              "  </div>\n"
            ],
            "application/vnd.google.colaboratory.intrinsic+json": {
              "type": "dataframe",
              "variable_name": "train_df",
              "summary": "{\n  \"name\": \"train_df\",\n  \"rows\": 25000,\n  \"fields\": [\n    {\n      \"column\": \"id\",\n      \"properties\": {\n        \"dtype\": \"number\",\n        \"std\": 7217,\n        \"min\": 0,\n        \"max\": 24999,\n        \"num_unique_values\": 25000,\n        \"samples\": [\n          6868,\n          24016,\n          9668\n        ],\n        \"semantic_type\": \"\",\n        \"description\": \"\"\n      }\n    },\n    {\n      \"column\": \"name\",\n      \"properties\": {\n        \"dtype\": \"string\",\n        \"num_unique_values\": 24994,\n        \"samples\": [\n          \"2000149523451 \\u0416\\u0415\\u041d\\u0421\\u041a\\u0418\\u0415 \\u0422\\u0420\\u0423\\u0421\\u042b          R    \",\n          \"3 2157574195545 \\u0424\\u0423\\u0422\\u0411\\u041e\\u041b\\u041a\\u0410 \\u041c/DKNY/N5_6\",\n          \"1/1 \\u041d\\u0438\\u043c\\u0435\\u0441\\u0443\\u043b\\u0438\\u0434 \\u043e\\u0437\\u043e\\u043d \\u0433\\u0435\\u043b\\u044c 1% 20\\u0433 n 1\"\n        ],\n        \"semantic_type\": \"\",\n        \"description\": \"\"\n      }\n    },\n    {\n      \"column\": \"good\",\n      \"properties\": {\n        \"dtype\": \"category\",\n        \"num_unique_values\": 2820,\n        \"samples\": [\n          \"\\u0447\\u0443\\u043b\\u043a\\u0438\",\n          \"\\u043a\\u043e\\u0444\\u0435\\u0432\\u0430\\u0440\\u043a\\u0430\",\n          \"\\u0448\\u0442\\u0430\\u043d\\u0433\\u0435\\u043d\\u0446\\u0438\\u0440\\u043a\\u0443\\u043b\\u044c\"\n        ],\n        \"semantic_type\": \"\",\n        \"description\": \"\"\n      }\n    },\n    {\n      \"column\": \"brand\",\n      \"properties\": {\n        \"dtype\": \"category\",\n        \"num_unique_values\": 6976,\n        \"samples\": [\n          \"\\u0434\\u0436\\u0430\\u0437\",\n          \"eurohouse\",\n          \"infinity kids\"\n        ],\n        \"semantic_type\": \"\",\n        \"description\": \"\"\n      }\n    }\n  ]\n}"
            }
          },
          "metadata": {},
          "execution_count": 4
        }
      ]
    },
    {
      "cell_type": "code",
      "source": [
        "pd.read_csv(TRAIN_DATASET_PATH).info()"
      ],
      "metadata": {
        "id": "TVCC4S0G5QWG",
        "colab": {
          "base_uri": "https://localhost:8080/"
        },
        "outputId": "eb1c74c5-de51-4552-9a41-ea6d67eacf56"
      },
      "id": "TVCC4S0G5QWG",
      "execution_count": null,
      "outputs": [
        {
          "output_type": "stream",
          "name": "stdout",
          "text": [
            "<class 'pandas.core.frame.DataFrame'>\n",
            "RangeIndex: 25000 entries, 0 to 24999\n",
            "Data columns (total 4 columns):\n",
            " #   Column  Non-Null Count  Dtype \n",
            "---  ------  --------------  ----- \n",
            " 0   id      25000 non-null  int64 \n",
            " 1   name    25000 non-null  object\n",
            " 2   good    24181 non-null  object\n",
            " 3   brand   16495 non-null  object\n",
            "dtypes: int64(1), object(3)\n",
            "memory usage: 781.4+ KB\n"
          ]
        }
      ]
    },
    {
      "cell_type": "code",
      "source": [
        "train_df.info()"
      ],
      "metadata": {
        "id": "lUnCVu7w5R2d",
        "colab": {
          "base_uri": "https://localhost:8080/"
        },
        "outputId": "7d511edf-7542-4acc-e306-6c33159b34c3"
      },
      "id": "lUnCVu7w5R2d",
      "execution_count": null,
      "outputs": [
        {
          "output_type": "stream",
          "name": "stdout",
          "text": [
            "<class 'pandas.core.frame.DataFrame'>\n",
            "RangeIndex: 25000 entries, 0 to 24999\n",
            "Data columns (total 4 columns):\n",
            " #   Column  Non-Null Count  Dtype \n",
            "---  ------  --------------  ----- \n",
            " 0   id      25000 non-null  int64 \n",
            " 1   name    25000 non-null  object\n",
            " 2   good    25000 non-null  object\n",
            " 3   brand   25000 non-null  object\n",
            "dtypes: int64(1), object(3)\n",
            "memory usage: 781.4+ KB\n"
          ]
        }
      ]
    },
    {
      "cell_type": "code",
      "source": [
        "test_df = pd.read_csv(TEST_DATASET_PATH)\n",
        "test_df.head()"
      ],
      "metadata": {
        "id": "n7-yklzO5Smi",
        "colab": {
          "base_uri": "https://localhost:8080/",
          "height": 206
        },
        "outputId": "aa04ca58-bc31-4eb7-d6a1-0ca226213e8c"
      },
      "id": "n7-yklzO5Smi",
      "execution_count": null,
      "outputs": [
        {
          "output_type": "execute_result",
          "data": {
            "text/plain": [
              "   id                                             name\n",
              "0   0  469-210 ЕРМАК Клей универсальный, 15мл, блистер\n",
              "1   1                  Торт СЛАДУШКА Зимняя вишня 700г\n",
              "2   2             Смеситель \"CALORIE\" 1023 А06 д/кухни\n",
              "3   3                                   Лимон 50гр БАР\n",
              "4   4            Коньяк САРАДЖИШВИЛИ 5 лет 0,5л Грузия"
            ],
            "text/html": [
              "\n",
              "  <div id=\"df-2224b488-f263-4e8d-9d66-c1683e4b4d5e\" class=\"colab-df-container\">\n",
              "    <div>\n",
              "<style scoped>\n",
              "    .dataframe tbody tr th:only-of-type {\n",
              "        vertical-align: middle;\n",
              "    }\n",
              "\n",
              "    .dataframe tbody tr th {\n",
              "        vertical-align: top;\n",
              "    }\n",
              "\n",
              "    .dataframe thead th {\n",
              "        text-align: right;\n",
              "    }\n",
              "</style>\n",
              "<table border=\"1\" class=\"dataframe\">\n",
              "  <thead>\n",
              "    <tr style=\"text-align: right;\">\n",
              "      <th></th>\n",
              "      <th>id</th>\n",
              "      <th>name</th>\n",
              "    </tr>\n",
              "  </thead>\n",
              "  <tbody>\n",
              "    <tr>\n",
              "      <th>0</th>\n",
              "      <td>0</td>\n",
              "      <td>469-210 ЕРМАК Клей универсальный, 15мл, блистер</td>\n",
              "    </tr>\n",
              "    <tr>\n",
              "      <th>1</th>\n",
              "      <td>1</td>\n",
              "      <td>Торт СЛАДУШКА Зимняя вишня 700г</td>\n",
              "    </tr>\n",
              "    <tr>\n",
              "      <th>2</th>\n",
              "      <td>2</td>\n",
              "      <td>Смеситель \"CALORIE\" 1023 А06 д/кухни</td>\n",
              "    </tr>\n",
              "    <tr>\n",
              "      <th>3</th>\n",
              "      <td>3</td>\n",
              "      <td>Лимон 50гр БАР</td>\n",
              "    </tr>\n",
              "    <tr>\n",
              "      <th>4</th>\n",
              "      <td>4</td>\n",
              "      <td>Коньяк САРАДЖИШВИЛИ 5 лет 0,5л Грузия</td>\n",
              "    </tr>\n",
              "  </tbody>\n",
              "</table>\n",
              "</div>\n",
              "    <div class=\"colab-df-buttons\">\n",
              "\n",
              "  <div class=\"colab-df-container\">\n",
              "    <button class=\"colab-df-convert\" onclick=\"convertToInteractive('df-2224b488-f263-4e8d-9d66-c1683e4b4d5e')\"\n",
              "            title=\"Convert this dataframe to an interactive table.\"\n",
              "            style=\"display:none;\">\n",
              "\n",
              "  <svg xmlns=\"http://www.w3.org/2000/svg\" height=\"24px\" viewBox=\"0 -960 960 960\">\n",
              "    <path d=\"M120-120v-720h720v720H120Zm60-500h600v-160H180v160Zm220 220h160v-160H400v160Zm0 220h160v-160H400v160ZM180-400h160v-160H180v160Zm440 0h160v-160H620v160ZM180-180h160v-160H180v160Zm440 0h160v-160H620v160Z\"/>\n",
              "  </svg>\n",
              "    </button>\n",
              "\n",
              "  <style>\n",
              "    .colab-df-container {\n",
              "      display:flex;\n",
              "      gap: 12px;\n",
              "    }\n",
              "\n",
              "    .colab-df-convert {\n",
              "      background-color: #E8F0FE;\n",
              "      border: none;\n",
              "      border-radius: 50%;\n",
              "      cursor: pointer;\n",
              "      display: none;\n",
              "      fill: #1967D2;\n",
              "      height: 32px;\n",
              "      padding: 0 0 0 0;\n",
              "      width: 32px;\n",
              "    }\n",
              "\n",
              "    .colab-df-convert:hover {\n",
              "      background-color: #E2EBFA;\n",
              "      box-shadow: 0px 1px 2px rgba(60, 64, 67, 0.3), 0px 1px 3px 1px rgba(60, 64, 67, 0.15);\n",
              "      fill: #174EA6;\n",
              "    }\n",
              "\n",
              "    .colab-df-buttons div {\n",
              "      margin-bottom: 4px;\n",
              "    }\n",
              "\n",
              "    [theme=dark] .colab-df-convert {\n",
              "      background-color: #3B4455;\n",
              "      fill: #D2E3FC;\n",
              "    }\n",
              "\n",
              "    [theme=dark] .colab-df-convert:hover {\n",
              "      background-color: #434B5C;\n",
              "      box-shadow: 0px 1px 3px 1px rgba(0, 0, 0, 0.15);\n",
              "      filter: drop-shadow(0px 1px 2px rgba(0, 0, 0, 0.3));\n",
              "      fill: #FFFFFF;\n",
              "    }\n",
              "  </style>\n",
              "\n",
              "    <script>\n",
              "      const buttonEl =\n",
              "        document.querySelector('#df-2224b488-f263-4e8d-9d66-c1683e4b4d5e button.colab-df-convert');\n",
              "      buttonEl.style.display =\n",
              "        google.colab.kernel.accessAllowed ? 'block' : 'none';\n",
              "\n",
              "      async function convertToInteractive(key) {\n",
              "        const element = document.querySelector('#df-2224b488-f263-4e8d-9d66-c1683e4b4d5e');\n",
              "        const dataTable =\n",
              "          await google.colab.kernel.invokeFunction('convertToInteractive',\n",
              "                                                    [key], {});\n",
              "        if (!dataTable) return;\n",
              "\n",
              "        const docLinkHtml = 'Like what you see? Visit the ' +\n",
              "          '<a target=\"_blank\" href=https://colab.research.google.com/notebooks/data_table.ipynb>data table notebook</a>'\n",
              "          + ' to learn more about interactive tables.';\n",
              "        element.innerHTML = '';\n",
              "        dataTable['output_type'] = 'display_data';\n",
              "        await google.colab.output.renderOutput(dataTable, element);\n",
              "        const docLink = document.createElement('div');\n",
              "        docLink.innerHTML = docLinkHtml;\n",
              "        element.appendChild(docLink);\n",
              "      }\n",
              "    </script>\n",
              "  </div>\n",
              "\n",
              "\n",
              "    <div id=\"df-4b5df50c-9478-4c5b-8111-4ed853d75151\">\n",
              "      <button class=\"colab-df-quickchart\" onclick=\"quickchart('df-4b5df50c-9478-4c5b-8111-4ed853d75151')\"\n",
              "                title=\"Suggest charts\"\n",
              "                style=\"display:none;\">\n",
              "\n",
              "<svg xmlns=\"http://www.w3.org/2000/svg\" height=\"24px\"viewBox=\"0 0 24 24\"\n",
              "     width=\"24px\">\n",
              "    <g>\n",
              "        <path d=\"M19 3H5c-1.1 0-2 .9-2 2v14c0 1.1.9 2 2 2h14c1.1 0 2-.9 2-2V5c0-1.1-.9-2-2-2zM9 17H7v-7h2v7zm4 0h-2V7h2v10zm4 0h-2v-4h2v4z\"/>\n",
              "    </g>\n",
              "</svg>\n",
              "      </button>\n",
              "\n",
              "<style>\n",
              "  .colab-df-quickchart {\n",
              "      --bg-color: #E8F0FE;\n",
              "      --fill-color: #1967D2;\n",
              "      --hover-bg-color: #E2EBFA;\n",
              "      --hover-fill-color: #174EA6;\n",
              "      --disabled-fill-color: #AAA;\n",
              "      --disabled-bg-color: #DDD;\n",
              "  }\n",
              "\n",
              "  [theme=dark] .colab-df-quickchart {\n",
              "      --bg-color: #3B4455;\n",
              "      --fill-color: #D2E3FC;\n",
              "      --hover-bg-color: #434B5C;\n",
              "      --hover-fill-color: #FFFFFF;\n",
              "      --disabled-bg-color: #3B4455;\n",
              "      --disabled-fill-color: #666;\n",
              "  }\n",
              "\n",
              "  .colab-df-quickchart {\n",
              "    background-color: var(--bg-color);\n",
              "    border: none;\n",
              "    border-radius: 50%;\n",
              "    cursor: pointer;\n",
              "    display: none;\n",
              "    fill: var(--fill-color);\n",
              "    height: 32px;\n",
              "    padding: 0;\n",
              "    width: 32px;\n",
              "  }\n",
              "\n",
              "  .colab-df-quickchart:hover {\n",
              "    background-color: var(--hover-bg-color);\n",
              "    box-shadow: 0 1px 2px rgba(60, 64, 67, 0.3), 0 1px 3px 1px rgba(60, 64, 67, 0.15);\n",
              "    fill: var(--button-hover-fill-color);\n",
              "  }\n",
              "\n",
              "  .colab-df-quickchart-complete:disabled,\n",
              "  .colab-df-quickchart-complete:disabled:hover {\n",
              "    background-color: var(--disabled-bg-color);\n",
              "    fill: var(--disabled-fill-color);\n",
              "    box-shadow: none;\n",
              "  }\n",
              "\n",
              "  .colab-df-spinner {\n",
              "    border: 2px solid var(--fill-color);\n",
              "    border-color: transparent;\n",
              "    border-bottom-color: var(--fill-color);\n",
              "    animation:\n",
              "      spin 1s steps(1) infinite;\n",
              "  }\n",
              "\n",
              "  @keyframes spin {\n",
              "    0% {\n",
              "      border-color: transparent;\n",
              "      border-bottom-color: var(--fill-color);\n",
              "      border-left-color: var(--fill-color);\n",
              "    }\n",
              "    20% {\n",
              "      border-color: transparent;\n",
              "      border-left-color: var(--fill-color);\n",
              "      border-top-color: var(--fill-color);\n",
              "    }\n",
              "    30% {\n",
              "      border-color: transparent;\n",
              "      border-left-color: var(--fill-color);\n",
              "      border-top-color: var(--fill-color);\n",
              "      border-right-color: var(--fill-color);\n",
              "    }\n",
              "    40% {\n",
              "      border-color: transparent;\n",
              "      border-right-color: var(--fill-color);\n",
              "      border-top-color: var(--fill-color);\n",
              "    }\n",
              "    60% {\n",
              "      border-color: transparent;\n",
              "      border-right-color: var(--fill-color);\n",
              "    }\n",
              "    80% {\n",
              "      border-color: transparent;\n",
              "      border-right-color: var(--fill-color);\n",
              "      border-bottom-color: var(--fill-color);\n",
              "    }\n",
              "    90% {\n",
              "      border-color: transparent;\n",
              "      border-bottom-color: var(--fill-color);\n",
              "    }\n",
              "  }\n",
              "</style>\n",
              "\n",
              "      <script>\n",
              "        async function quickchart(key) {\n",
              "          const quickchartButtonEl =\n",
              "            document.querySelector('#' + key + ' button');\n",
              "          quickchartButtonEl.disabled = true;  // To prevent multiple clicks.\n",
              "          quickchartButtonEl.classList.add('colab-df-spinner');\n",
              "          try {\n",
              "            const charts = await google.colab.kernel.invokeFunction(\n",
              "                'suggestCharts', [key], {});\n",
              "          } catch (error) {\n",
              "            console.error('Error during call to suggestCharts:', error);\n",
              "          }\n",
              "          quickchartButtonEl.classList.remove('colab-df-spinner');\n",
              "          quickchartButtonEl.classList.add('colab-df-quickchart-complete');\n",
              "        }\n",
              "        (() => {\n",
              "          let quickchartButtonEl =\n",
              "            document.querySelector('#df-4b5df50c-9478-4c5b-8111-4ed853d75151 button');\n",
              "          quickchartButtonEl.style.display =\n",
              "            google.colab.kernel.accessAllowed ? 'block' : 'none';\n",
              "        })();\n",
              "      </script>\n",
              "    </div>\n",
              "    </div>\n",
              "  </div>\n"
            ],
            "application/vnd.google.colaboratory.intrinsic+json": {
              "type": "dataframe",
              "variable_name": "test_df",
              "summary": "{\n  \"name\": \"test_df\",\n  \"rows\": 5000,\n  \"fields\": [\n    {\n      \"column\": \"id\",\n      \"properties\": {\n        \"dtype\": \"number\",\n        \"std\": 1443,\n        \"min\": 0,\n        \"max\": 4999,\n        \"num_unique_values\": 5000,\n        \"samples\": [\n          1501,\n          2586,\n          2653\n        ],\n        \"semantic_type\": \"\",\n        \"description\": \"\"\n      }\n    },\n    {\n      \"column\": \"name\",\n      \"properties\": {\n        \"dtype\": \"string\",\n        \"num_unique_values\": 5000,\n        \"samples\": [\n          \"\\u0411\\u043e\\u043b\\u0442 12 \\u0445 30 \\u0432\\u044b\\u0441\\u043e\\u043a\\u043e\\u043f\\u0440. 8.8 \\u0413\\u041e\\u0421\\u04227798  1 \\u0448\\u0442\",\n          \"\\u041f\\u0438\\u0432\\u043e \\u0440\\u0430\\u0437\\u043b\\u0438\\u0432\\u043d\\u043e\\u0435 \\\"\\u0414\\u0432\\u0430 \\u0411\\u043e\\u0431\\u0440\\u0430\\\" \\u0441\\u0432\\u0435\\u0442\\u043b\\u043e\\u0435 \\u0444\\u0438\\u043b\\u044c\\u0442\\u0440\\u043e\\u0432\\u0430\\u043d\\u043d\\u043e\\u0435, \\u0430\\u043b\\u043a. 4,8%, \\u043b, \\u0412\\u043e\\u0440\\u043e\\u043d\\u0435\\u0436\",\n          \"Beauty 365 \\u0414\\u0435\\u0437\\u043e\\u0434\\u043e\\u0440\\u0430\\u043d\\u0442 \\u043c\\u0438\\u043d\\u0435\\u0440\\u0430\\u043b\\u044c\\u043d\\u044b\\u0439 \\u043d\\u0430\\u0442\\u0443\\u0440\\u0430\\u043b\\u044c\\u043d\\u044b\\u0439 100\\u043c\\u043b.\"\n        ],\n        \"semantic_type\": \"\",\n        \"description\": \"\"\n      }\n    }\n  ]\n}"
            }
          },
          "metadata": {},
          "execution_count": 5
        }
      ]
    },
    {
      "cell_type": "code",
      "source": [
        "names = pd.concat((train_df[[\"name\"]], test_df)).reset_index(drop=True)\n",
        "names = names.drop([\"id\"], axis=1)\n",
        "names.head()"
      ],
      "metadata": {
        "id": "CCZzEAAX5UI5",
        "colab": {
          "base_uri": "https://localhost:8080/",
          "height": 206
        },
        "outputId": "20a21f00-94e5-4e90-ae1b-11a093bfa198"
      },
      "id": "CCZzEAAX5UI5",
      "execution_count": null,
      "outputs": [
        {
          "output_type": "execute_result",
          "data": {
            "text/plain": [
              "                                             name\n",
              "0         Petmax Бантик леопард с красн розой 2шт\n",
              "1                87191 Бусы для елки шарики_87191\n",
              "2              Футболка Piazza Italia WR011446881\n",
              "3  7) YI572-03X-ONE ЗАКОЛКА ДЛЯ ВОЛОС ДЛЯ ДЕВОЧКИ\n",
              "4                               Одежда (вес) 1500"
            ],
            "text/html": [
              "\n",
              "  <div id=\"df-7b14da2f-adff-47dc-8037-23d3d84a6651\" class=\"colab-df-container\">\n",
              "    <div>\n",
              "<style scoped>\n",
              "    .dataframe tbody tr th:only-of-type {\n",
              "        vertical-align: middle;\n",
              "    }\n",
              "\n",
              "    .dataframe tbody tr th {\n",
              "        vertical-align: top;\n",
              "    }\n",
              "\n",
              "    .dataframe thead th {\n",
              "        text-align: right;\n",
              "    }\n",
              "</style>\n",
              "<table border=\"1\" class=\"dataframe\">\n",
              "  <thead>\n",
              "    <tr style=\"text-align: right;\">\n",
              "      <th></th>\n",
              "      <th>name</th>\n",
              "    </tr>\n",
              "  </thead>\n",
              "  <tbody>\n",
              "    <tr>\n",
              "      <th>0</th>\n",
              "      <td>Petmax Бантик леопард с красн розой 2шт</td>\n",
              "    </tr>\n",
              "    <tr>\n",
              "      <th>1</th>\n",
              "      <td>87191 Бусы для елки шарики_87191</td>\n",
              "    </tr>\n",
              "    <tr>\n",
              "      <th>2</th>\n",
              "      <td>Футболка Piazza Italia WR011446881</td>\n",
              "    </tr>\n",
              "    <tr>\n",
              "      <th>3</th>\n",
              "      <td>7) YI572-03X-ONE ЗАКОЛКА ДЛЯ ВОЛОС ДЛЯ ДЕВОЧКИ</td>\n",
              "    </tr>\n",
              "    <tr>\n",
              "      <th>4</th>\n",
              "      <td>Одежда (вес) 1500</td>\n",
              "    </tr>\n",
              "  </tbody>\n",
              "</table>\n",
              "</div>\n",
              "    <div class=\"colab-df-buttons\">\n",
              "\n",
              "  <div class=\"colab-df-container\">\n",
              "    <button class=\"colab-df-convert\" onclick=\"convertToInteractive('df-7b14da2f-adff-47dc-8037-23d3d84a6651')\"\n",
              "            title=\"Convert this dataframe to an interactive table.\"\n",
              "            style=\"display:none;\">\n",
              "\n",
              "  <svg xmlns=\"http://www.w3.org/2000/svg\" height=\"24px\" viewBox=\"0 -960 960 960\">\n",
              "    <path d=\"M120-120v-720h720v720H120Zm60-500h600v-160H180v160Zm220 220h160v-160H400v160Zm0 220h160v-160H400v160ZM180-400h160v-160H180v160Zm440 0h160v-160H620v160ZM180-180h160v-160H180v160Zm440 0h160v-160H620v160Z\"/>\n",
              "  </svg>\n",
              "    </button>\n",
              "\n",
              "  <style>\n",
              "    .colab-df-container {\n",
              "      display:flex;\n",
              "      gap: 12px;\n",
              "    }\n",
              "\n",
              "    .colab-df-convert {\n",
              "      background-color: #E8F0FE;\n",
              "      border: none;\n",
              "      border-radius: 50%;\n",
              "      cursor: pointer;\n",
              "      display: none;\n",
              "      fill: #1967D2;\n",
              "      height: 32px;\n",
              "      padding: 0 0 0 0;\n",
              "      width: 32px;\n",
              "    }\n",
              "\n",
              "    .colab-df-convert:hover {\n",
              "      background-color: #E2EBFA;\n",
              "      box-shadow: 0px 1px 2px rgba(60, 64, 67, 0.3), 0px 1px 3px 1px rgba(60, 64, 67, 0.15);\n",
              "      fill: #174EA6;\n",
              "    }\n",
              "\n",
              "    .colab-df-buttons div {\n",
              "      margin-bottom: 4px;\n",
              "    }\n",
              "\n",
              "    [theme=dark] .colab-df-convert {\n",
              "      background-color: #3B4455;\n",
              "      fill: #D2E3FC;\n",
              "    }\n",
              "\n",
              "    [theme=dark] .colab-df-convert:hover {\n",
              "      background-color: #434B5C;\n",
              "      box-shadow: 0px 1px 3px 1px rgba(0, 0, 0, 0.15);\n",
              "      filter: drop-shadow(0px 1px 2px rgba(0, 0, 0, 0.3));\n",
              "      fill: #FFFFFF;\n",
              "    }\n",
              "  </style>\n",
              "\n",
              "    <script>\n",
              "      const buttonEl =\n",
              "        document.querySelector('#df-7b14da2f-adff-47dc-8037-23d3d84a6651 button.colab-df-convert');\n",
              "      buttonEl.style.display =\n",
              "        google.colab.kernel.accessAllowed ? 'block' : 'none';\n",
              "\n",
              "      async function convertToInteractive(key) {\n",
              "        const element = document.querySelector('#df-7b14da2f-adff-47dc-8037-23d3d84a6651');\n",
              "        const dataTable =\n",
              "          await google.colab.kernel.invokeFunction('convertToInteractive',\n",
              "                                                    [key], {});\n",
              "        if (!dataTable) return;\n",
              "\n",
              "        const docLinkHtml = 'Like what you see? Visit the ' +\n",
              "          '<a target=\"_blank\" href=https://colab.research.google.com/notebooks/data_table.ipynb>data table notebook</a>'\n",
              "          + ' to learn more about interactive tables.';\n",
              "        element.innerHTML = '';\n",
              "        dataTable['output_type'] = 'display_data';\n",
              "        await google.colab.output.renderOutput(dataTable, element);\n",
              "        const docLink = document.createElement('div');\n",
              "        docLink.innerHTML = docLinkHtml;\n",
              "        element.appendChild(docLink);\n",
              "      }\n",
              "    </script>\n",
              "  </div>\n",
              "\n",
              "\n",
              "    <div id=\"df-9da55913-b429-485c-b2cd-e52aa013dfd8\">\n",
              "      <button class=\"colab-df-quickchart\" onclick=\"quickchart('df-9da55913-b429-485c-b2cd-e52aa013dfd8')\"\n",
              "                title=\"Suggest charts\"\n",
              "                style=\"display:none;\">\n",
              "\n",
              "<svg xmlns=\"http://www.w3.org/2000/svg\" height=\"24px\"viewBox=\"0 0 24 24\"\n",
              "     width=\"24px\">\n",
              "    <g>\n",
              "        <path d=\"M19 3H5c-1.1 0-2 .9-2 2v14c0 1.1.9 2 2 2h14c1.1 0 2-.9 2-2V5c0-1.1-.9-2-2-2zM9 17H7v-7h2v7zm4 0h-2V7h2v10zm4 0h-2v-4h2v4z\"/>\n",
              "    </g>\n",
              "</svg>\n",
              "      </button>\n",
              "\n",
              "<style>\n",
              "  .colab-df-quickchart {\n",
              "      --bg-color: #E8F0FE;\n",
              "      --fill-color: #1967D2;\n",
              "      --hover-bg-color: #E2EBFA;\n",
              "      --hover-fill-color: #174EA6;\n",
              "      --disabled-fill-color: #AAA;\n",
              "      --disabled-bg-color: #DDD;\n",
              "  }\n",
              "\n",
              "  [theme=dark] .colab-df-quickchart {\n",
              "      --bg-color: #3B4455;\n",
              "      --fill-color: #D2E3FC;\n",
              "      --hover-bg-color: #434B5C;\n",
              "      --hover-fill-color: #FFFFFF;\n",
              "      --disabled-bg-color: #3B4455;\n",
              "      --disabled-fill-color: #666;\n",
              "  }\n",
              "\n",
              "  .colab-df-quickchart {\n",
              "    background-color: var(--bg-color);\n",
              "    border: none;\n",
              "    border-radius: 50%;\n",
              "    cursor: pointer;\n",
              "    display: none;\n",
              "    fill: var(--fill-color);\n",
              "    height: 32px;\n",
              "    padding: 0;\n",
              "    width: 32px;\n",
              "  }\n",
              "\n",
              "  .colab-df-quickchart:hover {\n",
              "    background-color: var(--hover-bg-color);\n",
              "    box-shadow: 0 1px 2px rgba(60, 64, 67, 0.3), 0 1px 3px 1px rgba(60, 64, 67, 0.15);\n",
              "    fill: var(--button-hover-fill-color);\n",
              "  }\n",
              "\n",
              "  .colab-df-quickchart-complete:disabled,\n",
              "  .colab-df-quickchart-complete:disabled:hover {\n",
              "    background-color: var(--disabled-bg-color);\n",
              "    fill: var(--disabled-fill-color);\n",
              "    box-shadow: none;\n",
              "  }\n",
              "\n",
              "  .colab-df-spinner {\n",
              "    border: 2px solid var(--fill-color);\n",
              "    border-color: transparent;\n",
              "    border-bottom-color: var(--fill-color);\n",
              "    animation:\n",
              "      spin 1s steps(1) infinite;\n",
              "  }\n",
              "\n",
              "  @keyframes spin {\n",
              "    0% {\n",
              "      border-color: transparent;\n",
              "      border-bottom-color: var(--fill-color);\n",
              "      border-left-color: var(--fill-color);\n",
              "    }\n",
              "    20% {\n",
              "      border-color: transparent;\n",
              "      border-left-color: var(--fill-color);\n",
              "      border-top-color: var(--fill-color);\n",
              "    }\n",
              "    30% {\n",
              "      border-color: transparent;\n",
              "      border-left-color: var(--fill-color);\n",
              "      border-top-color: var(--fill-color);\n",
              "      border-right-color: var(--fill-color);\n",
              "    }\n",
              "    40% {\n",
              "      border-color: transparent;\n",
              "      border-right-color: var(--fill-color);\n",
              "      border-top-color: var(--fill-color);\n",
              "    }\n",
              "    60% {\n",
              "      border-color: transparent;\n",
              "      border-right-color: var(--fill-color);\n",
              "    }\n",
              "    80% {\n",
              "      border-color: transparent;\n",
              "      border-right-color: var(--fill-color);\n",
              "      border-bottom-color: var(--fill-color);\n",
              "    }\n",
              "    90% {\n",
              "      border-color: transparent;\n",
              "      border-bottom-color: var(--fill-color);\n",
              "    }\n",
              "  }\n",
              "</style>\n",
              "\n",
              "      <script>\n",
              "        async function quickchart(key) {\n",
              "          const quickchartButtonEl =\n",
              "            document.querySelector('#' + key + ' button');\n",
              "          quickchartButtonEl.disabled = true;  // To prevent multiple clicks.\n",
              "          quickchartButtonEl.classList.add('colab-df-spinner');\n",
              "          try {\n",
              "            const charts = await google.colab.kernel.invokeFunction(\n",
              "                'suggestCharts', [key], {});\n",
              "          } catch (error) {\n",
              "            console.error('Error during call to suggestCharts:', error);\n",
              "          }\n",
              "          quickchartButtonEl.classList.remove('colab-df-spinner');\n",
              "          quickchartButtonEl.classList.add('colab-df-quickchart-complete');\n",
              "        }\n",
              "        (() => {\n",
              "          let quickchartButtonEl =\n",
              "            document.querySelector('#df-9da55913-b429-485c-b2cd-e52aa013dfd8 button');\n",
              "          quickchartButtonEl.style.display =\n",
              "            google.colab.kernel.accessAllowed ? 'block' : 'none';\n",
              "        })();\n",
              "      </script>\n",
              "    </div>\n",
              "    </div>\n",
              "  </div>\n"
            ],
            "application/vnd.google.colaboratory.intrinsic+json": {
              "type": "dataframe",
              "variable_name": "names",
              "summary": "{\n  \"name\": \"names\",\n  \"rows\": 30000,\n  \"fields\": [\n    {\n      \"column\": \"name\",\n      \"properties\": {\n        \"dtype\": \"string\",\n        \"num_unique_values\": 29994,\n        \"samples\": [\n          \"\\u043f\\u043e\\u043b\\u043e\\u0442\\u0435\\u043d\\u0446\\u0435 \\u043c\\u0430\\u0445\\u0440\\u043e\\u0432\\u043e\\u0435, \\u0440\\u0430\\u0437\\u043c\\u0435\\u0440: 50\",\n          \"\\u0421\\u0446\\u0435\\u043f\\u043b\\u0435\\u043d\\u0438\\u0435 6DCT250 \\u043d\\u0435\\u043e\\u0440\\u0438\\u0433\\u0438\\u043d\\u0430\\u043b\",\n          \"\\u0412\\u0430\\u043b\\u0438\\u043a \\\"\\u041d\\u0435\\u0439\\u043b\\u043e\\u043d \\u041b\\u044e\\u043a\\u0441\\\" \\u0441 \\u0434\\u0432\\u0443\\u0445\\u043a\\u043e\\u043c\\u043f\\u043e\\u043d\\u0435\\u043d\\u0442\\u043d\\u043e\\u0439 \\u0440\\u0443\\u0447\\u043a\\u043e\\u0439, 180\\u043c\\u043c, \\u0432\\u043e\\u0440\\u0441 18\\u043c\\u043c, D48\\u043c\\u043c// MATRIX \\u0448\\u0442\"\n        ],\n        \"semantic_type\": \"\",\n        \"description\": \"\"\n      }\n    }\n  ]\n}"
            }
          },
          "metadata": {},
          "execution_count": 6
        }
      ]
    },
    {
      "cell_type": "code",
      "source": [
        "stats_names = pd.DataFrame()\n",
        "stats_names['name_length_chars'] = names['name'].str.len()\n",
        "stats_names['name_length_tokens'] = names['name'].str.split().apply(len)\n",
        "\n",
        "import matplotlib.pyplot as plt\n",
        "\n",
        "plt.figure(figsize=(10,5))\n",
        "\n",
        "plt.subplot(1,2,1)\n",
        "plt.hist(stats_names['name_length_chars'], bins=50, color='pink')\n",
        "plt.title('Распределение длины названий (символы)')\n",
        "plt.xlabel('Длина строки (символы)')\n",
        "plt.ylabel('Количество')\n",
        "\n",
        "plt.subplot(1,2,2)\n",
        "plt.hist(stats_names['name_length_tokens'], bins=25, color='lightgreen')\n",
        "plt.title('Распределение длины названий (слова)')\n",
        "plt.xlabel('Количество слов')\n",
        "plt.ylabel('Количество')\n",
        "\n",
        "plt.tight_layout()\n",
        "plt.show()"
      ],
      "metadata": {
        "colab": {
          "base_uri": "https://localhost:8080/",
          "height": 507
        },
        "id": "n095OaR4ENp8",
        "outputId": "55195704-e573-4df5-f5df-1d50033f87db"
      },
      "id": "n095OaR4ENp8",
      "execution_count": null,
      "outputs": [
        {
          "output_type": "display_data",
          "data": {
            "text/plain": [
              "<Figure size 1000x500 with 2 Axes>"
            ],
            "image/png": "[encoded data removed]"
          },
          "metadata": {}
        }
      ]
    },
    {
      "cell_type": "code",
      "source": [
        "stats_names['name_length_tokens'].describe()"
      ],
      "metadata": {
        "id": "7NGWZIgs5ZXD",
        "colab": {
          "base_uri": "https://localhost:8080/",
          "height": 335
        },
        "outputId": "cfea7e5f-b075-4efe-b6a5-12d3b5faecca"
      },
      "id": "7NGWZIgs5ZXD",
      "execution_count": null,
      "outputs": [
        {
          "output_type": "execute_result",
          "data": {
            "text/plain": [
              "count    30000.000000\n",
              "mean         6.077933\n",
              "std          2.541104\n",
              "min          1.000000\n",
              "25%          4.000000\n",
              "50%          6.000000\n",
              "75%          7.000000\n",
              "max         21.000000\n",
              "Name: name_length_tokens, dtype: float64"
            ],
            "text/html": [
              "<div>\n",
              "<style scoped>\n",
              "    .dataframe tbody tr th:only-of-type {\n",
              "        vertical-align: middle;\n",
              "    }\n",
              "\n",
              "    .dataframe tbody tr th {\n",
              "        vertical-align: top;\n",
              "    }\n",
              "\n",
              "    .dataframe thead th {\n",
              "        text-align: right;\n",
              "    }\n",
              "</style>\n",
              "<table border=\"1\" class=\"dataframe\">\n",
              "  <thead>\n",
              "    <tr style=\"text-align: right;\">\n",
              "      <th></th>\n",
              "      <th>name_length_tokens</th>\n",
              "    </tr>\n",
              "  </thead>\n",
              "  <tbody>\n",
              "    <tr>\n",
              "      <th>count</th>\n",
              "      <td>30000.000000</td>\n",
              "    </tr>\n",
              "    <tr>\n",
              "      <th>mean</th>\n",
              "      <td>6.077933</td>\n",
              "    </tr>\n",
              "    <tr>\n",
              "      <th>std</th>\n",
              "      <td>2.541104</td>\n",
              "    </tr>\n",
              "    <tr>\n",
              "      <th>min</th>\n",
              "      <td>1.000000</td>\n",
              "    </tr>\n",
              "    <tr>\n",
              "      <th>25%</th>\n",
              "      <td>4.000000</td>\n",
              "    </tr>\n",
              "    <tr>\n",
              "      <th>50%</th>\n",
              "      <td>6.000000</td>\n",
              "    </tr>\n",
              "    <tr>\n",
              "      <th>75%</th>\n",
              "      <td>7.000000</td>\n",
              "    </tr>\n",
              "    <tr>\n",
              "      <th>max</th>\n",
              "      <td>21.000000</td>\n",
              "    </tr>\n",
              "  </tbody>\n",
              "</table>\n",
              "</div><br><label><b>dtype:</b> float64</label>"
            ]
          },
          "metadata": {},
          "execution_count": 13
        }
      ]
    },
    {
      "cell_type": "code",
      "source": [
        "stats_names['name_length_chars'].describe()"
      ],
      "metadata": {
        "id": "I50fj4l95a6c",
        "colab": {
          "base_uri": "https://localhost:8080/",
          "height": 335
        },
        "outputId": "4d2fb209-0afb-4572-d43e-9444063f8f0b"
      },
      "id": "I50fj4l95a6c",
      "execution_count": null,
      "outputs": [
        {
          "output_type": "execute_result",
          "data": {
            "text/plain": [
              "count    30000.000000\n",
              "mean        41.727833\n",
              "std         16.908393\n",
              "min          5.000000\n",
              "25%         30.000000\n",
              "50%         39.000000\n",
              "75%         50.000000\n",
              "max        128.000000\n",
              "Name: name_length_chars, dtype: float64"
            ],
            "text/html": [
              "<div>\n",
              "<style scoped>\n",
              "    .dataframe tbody tr th:only-of-type {\n",
              "        vertical-align: middle;\n",
              "    }\n",
              "\n",
              "    .dataframe tbody tr th {\n",
              "        vertical-align: top;\n",
              "    }\n",
              "\n",
              "    .dataframe thead th {\n",
              "        text-align: right;\n",
              "    }\n",
              "</style>\n",
              "<table border=\"1\" class=\"dataframe\">\n",
              "  <thead>\n",
              "    <tr style=\"text-align: right;\">\n",
              "      <th></th>\n",
              "      <th>name_length_chars</th>\n",
              "    </tr>\n",
              "  </thead>\n",
              "  <tbody>\n",
              "    <tr>\n",
              "      <th>count</th>\n",
              "      <td>30000.000000</td>\n",
              "    </tr>\n",
              "    <tr>\n",
              "      <th>mean</th>\n",
              "      <td>41.727833</td>\n",
              "    </tr>\n",
              "    <tr>\n",
              "      <th>std</th>\n",
              "      <td>16.908393</td>\n",
              "    </tr>\n",
              "    <tr>\n",
              "      <th>min</th>\n",
              "      <td>5.000000</td>\n",
              "    </tr>\n",
              "    <tr>\n",
              "      <th>25%</th>\n",
              "      <td>30.000000</td>\n",
              "    </tr>\n",
              "    <tr>\n",
              "      <th>50%</th>\n",
              "      <td>39.000000</td>\n",
              "    </tr>\n",
              "    <tr>\n",
              "      <th>75%</th>\n",
              "      <td>50.000000</td>\n",
              "    </tr>\n",
              "    <tr>\n",
              "      <th>max</th>\n",
              "      <td>128.000000</td>\n",
              "    </tr>\n",
              "  </tbody>\n",
              "</table>\n",
              "</div><br><label><b>dtype:</b> float64</label>"
            ]
          },
          "metadata": {},
          "execution_count": 14
        }
      ]
    },
    {
      "cell_type": "markdown",
      "source": [
        "# Очистка данных"
      ],
      "metadata": {
        "id": "meCSMafV5cmJ"
      },
      "id": "meCSMafV5cmJ"
    },
    {
      "cell_type": "code",
      "source": [
        "import re\n",
        "import nltk\n",
        "from nltk.corpus import stopwords\n",
        "from collections import Counter\n",
        "\n",
        "nltk.download('stopwords')\n",
        "russian_stopwords = set(stopwords.words('russian'))\n",
        "custom_stopwords = russian_stopwords.union({\"ст\", \"см\", \"гр\", \"г\", \"л\", \"мл\", \"кг\", \"шт\", \"мкм\", \"м\", \"lm\"})\n",
        "\n",
        "def clean_text(text, max_digit_len=5, stopwords_set=None):\n",
        "    text = text.lower()\n",
        "    # Удаляем точки и запятые\n",
        "    text = re.sub(r'[.,]', ' ', text)\n",
        "    # Удаляем числа длиннее max_digit_len\n",
        "    text = re.sub(r'\\d{' + str(max_digit_len) + r',}', ' ', text)\n",
        "    # Удаляем числа с единицами измерения (с пробелом и без)\n",
        "    text = re.sub(r'(\\d+\\s?(ст|см|гр|г|л|мл|кг|шт|мкм|м))', ' ', text)\n",
        "    # Удаляем скобки и содержимое\n",
        "    text = re.sub(r'\\([^)]*\\)|\\[[^\\]]*\\]|\\{[^}]*\\}', ' ', text)\n",
        "    # Удаляем процентное содержание\n",
        "    text = re.sub(r'\\d+(\\.\\d+)?%', ' ', text)\n",
        "    # Удаляем мусорные символы\n",
        "    text = re.sub(r'[\"\\'\\/°€#$%=]+', ' ', text)\n",
        "    # Удаляем лишние пробелы\n",
        "    text = re.sub(r'\\s+', ' ', text).strip()\n",
        "\n",
        "    tokens = text.split()\n",
        "\n",
        "    # Удаляем одиночные символы и цифры\n",
        "    tokens = [t for t in tokens if len(t) > 1 and not t.isdigit()]\n",
        "\n",
        "    # Удаляем стоп-слова\n",
        "    tokens = text.split()\n",
        "    tokens = [t for t in tokens if len(t) > 1 and not t.isdigit()]\n",
        "    if stopwords_set is not None:\n",
        "        tokens = [t for t in tokens if t not in stopwords_set]\n",
        "    return tokens\n",
        "\n",
        "names['tokens'] = names['name'].apply(lambda x: clean_text(x, stopwords_set=custom_stopwords))\n",
        "names.head()"
      ],
      "metadata": {
        "colab": {
          "base_uri": "https://localhost:8080/",
          "height": 241
        },
        "id": "w3xD5uPTEaTM",
        "outputId": "fd87f472-a119-4380-ce3d-6ee8deecff40"
      },
      "id": "w3xD5uPTEaTM",
      "execution_count": null,
      "outputs": [
        {
          "output_type": "stream",
          "name": "stderr",
          "text": [
            "[nltk_data] Downloading package stopwords to /root/nltk_data...\n",
            "[nltk_data]   Package stopwords is already up-to-date!\n"
          ]
        },
        {
          "output_type": "execute_result",
          "data": {
            "text/plain": [
              "                                             name  \\\n",
              "0         Petmax Бантик леопард с красн розой 2шт   \n",
              "1                87191 Бусы для елки шарики_87191   \n",
              "2              Футболка Piazza Italia WR011446881   \n",
              "3  7) YI572-03X-ONE ЗАКОЛКА ДЛЯ ВОЛОС ДЛЯ ДЕВОЧКИ   \n",
              "4                               Одежда (вес) 1500   \n",
              "\n",
              "                                         tokens  \n",
              "0       [petmax, бантик, леопард, красн, розой]  \n",
              "1                         [бусы, елки, шарики_]  \n",
              "2                [футболка, piazza, italia, wr]  \n",
              "3  [7), yi572-03x-one, заколка, волос, девочки]  \n",
              "4                                      [одежда]  "
            ],
            "text/html": [
              "\n",
              "  <div id=\"df-94627d22-ea52-4c22-a2e1-95519dbad37d\" class=\"colab-df-container\">\n",
              "    <div>\n",
              "<style scoped>\n",
              "    .dataframe tbody tr th:only-of-type {\n",
              "        vertical-align: middle;\n",
              "    }\n",
              "\n",
              "    .dataframe tbody tr th {\n",
              "        vertical-align: top;\n",
              "    }\n",
              "\n",
              "    .dataframe thead th {\n",
              "        text-align: right;\n",
              "    }\n",
              "</style>\n",
              "<table border=\"1\" class=\"dataframe\">\n",
              "  <thead>\n",
              "    <tr style=\"text-align: right;\">\n",
              "      <th></th>\n",
              "      <th>name</th>\n",
              "      <th>tokens</th>\n",
              "    </tr>\n",
              "  </thead>\n",
              "  <tbody>\n",
              "    <tr>\n",
              "      <th>0</th>\n",
              "      <td>Petmax Бантик леопард с красн розой 2шт</td>\n",
              "      <td>[petmax, бантик, леопард, красн, розой]</td>\n",
              "    </tr>\n",
              "    <tr>\n",
              "      <th>1</th>\n",
              "      <td>87191 Бусы для елки шарики_87191</td>\n",
              "      <td>[бусы, елки, шарики_]</td>\n",
              "    </tr>\n",
              "    <tr>\n",
              "      <th>2</th>\n",
              "      <td>Футболка Piazza Italia WR011446881</td>\n",
              "      <td>[футболка, piazza, italia, wr]</td>\n",
              "    </tr>\n",
              "    <tr>\n",
              "      <th>3</th>\n",
              "      <td>7) YI572-03X-ONE ЗАКОЛКА ДЛЯ ВОЛОС ДЛЯ ДЕВОЧКИ</td>\n",
              "      <td>[7), yi572-03x-one, заколка, волос, девочки]</td>\n",
              "    </tr>\n",
              "    <tr>\n",
              "      <th>4</th>\n",
              "      <td>Одежда (вес) 1500</td>\n",
              "      <td>[одежда]</td>\n",
              "    </tr>\n",
              "  </tbody>\n",
              "</table>\n",
              "</div>\n",
              "    <div class=\"colab-df-buttons\">\n",
              "\n",
              "  <div class=\"colab-df-container\">\n",
              "    <button class=\"colab-df-convert\" onclick=\"convertToInteractive('df-94627d22-ea52-4c22-a2e1-95519dbad37d')\"\n",
              "            title=\"Convert this dataframe to an interactive table.\"\n",
              "            style=\"display:none;\">\n",
              "\n",
              "  <svg xmlns=\"http://www.w3.org/2000/svg\" height=\"24px\" viewBox=\"0 -960 960 960\">\n",
              "    <path d=\"M120-120v-720h720v720H120Zm60-500h600v-160H180v160Zm220 220h160v-160H400v160Zm0 220h160v-160H400v160ZM180-400h160v-160H180v160Zm440 0h160v-160H620v160ZM180-180h160v-160H180v160Zm440 0h160v-160H620v160Z\"/>\n",
              "  </svg>\n",
              "    </button>\n",
              "\n",
              "  <style>\n",
              "    .colab-df-container {\n",
              "      display:flex;\n",
              "      gap: 12px;\n",
              "    }\n",
              "\n",
              "    .colab-df-convert {\n",
              "      background-color: #E8F0FE;\n",
              "      border: none;\n",
              "      border-radius: 50%;\n",
              "      cursor: pointer;\n",
              "      display: none;\n",
              "      fill: #1967D2;\n",
              "      height: 32px;\n",
              "      padding: 0 0 0 0;\n",
              "      width: 32px;\n",
              "    }\n",
              "\n",
              "    .colab-df-convert:hover {\n",
              "      background-color: #E2EBFA;\n",
              "      box-shadow: 0px 1px 2px rgba(60, 64, 67, 0.3), 0px 1px 3px 1px rgba(60, 64, 67, 0.15);\n",
              "      fill: #174EA6;\n",
              "    }\n",
              "\n",
              "    .colab-df-buttons div {\n",
              "      margin-bottom: 4px;\n",
              "    }\n",
              "\n",
              "    [theme=dark] .colab-df-convert {\n",
              "      background-color: #3B4455;\n",
              "      fill: #D2E3FC;\n",
              "    }\n",
              "\n",
              "    [theme=dark] .colab-df-convert:hover {\n",
              "      background-color: #434B5C;\n",
              "      box-shadow: 0px 1px 3px 1px rgba(0, 0, 0, 0.15);\n",
              "      filter: drop-shadow(0px 1px 2px rgba(0, 0, 0, 0.3));\n",
              "      fill: #FFFFFF;\n",
              "    }\n",
              "  </style>\n",
              "\n",
              "    <script>\n",
              "      const buttonEl =\n",
              "        document.querySelector('#df-94627d22-ea52-4c22-a2e1-95519dbad37d button.colab-df-convert');\n",
              "      buttonEl.style.display =\n",
              "        google.colab.kernel.accessAllowed ? 'block' : 'none';\n",
              "\n",
              "      async function convertToInteractive(key) {\n",
              "        const element = document.querySelector('#df-94627d22-ea52-4c22-a2e1-95519dbad37d');\n",
              "        const dataTable =\n",
              "          await google.colab.kernel.invokeFunction('convertToInteractive',\n",
              "                                                    [key], {});\n",
              "        if (!dataTable) return;\n",
              "\n",
              "        const docLinkHtml = 'Like what you see? Visit the ' +\n",
              "          '<a target=\"_blank\" href=https://colab.research.google.com/notebooks/data_table.ipynb>data table notebook</a>'\n",
              "          + ' to learn more about interactive tables.';\n",
              "        element.innerHTML = '';\n",
              "        dataTable['output_type'] = 'display_data';\n",
              "        await google.colab.output.renderOutput(dataTable, element);\n",
              "        const docLink = document.createElement('div');\n",
              "        docLink.innerHTML = docLinkHtml;\n",
              "        element.appendChild(docLink);\n",
              "      }\n",
              "    </script>\n",
              "  </div>\n",
              "\n",
              "\n",
              "    <div id=\"df-aa830ed0-ddc6-464a-a0fb-b870270292c2\">\n",
              "      <button class=\"colab-df-quickchart\" onclick=\"quickchart('df-aa830ed0-ddc6-464a-a0fb-b870270292c2')\"\n",
              "                title=\"Suggest charts\"\n",
              "                style=\"display:none;\">\n",
              "\n",
              "<svg xmlns=\"http://www.w3.org/2000/svg\" height=\"24px\"viewBox=\"0 0 24 24\"\n",
              "     width=\"24px\">\n",
              "    <g>\n",
              "        <path d=\"M19 3H5c-1.1 0-2 .9-2 2v14c0 1.1.9 2 2 2h14c1.1 0 2-.9 2-2V5c0-1.1-.9-2-2-2zM9 17H7v-7h2v7zm4 0h-2V7h2v10zm4 0h-2v-4h2v4z\"/>\n",
              "    </g>\n",
              "</svg>\n",
              "      </button>\n",
              "\n",
              "<style>\n",
              "  .colab-df-quickchart {\n",
              "      --bg-color: #E8F0FE;\n",
              "      --fill-color: #1967D2;\n",
              "      --hover-bg-color: #E2EBFA;\n",
              "      --hover-fill-color: #174EA6;\n",
              "      --disabled-fill-color: #AAA;\n",
              "      --disabled-bg-color: #DDD;\n",
              "  }\n",
              "\n",
              "  [theme=dark] .colab-df-quickchart {\n",
              "      --bg-color: #3B4455;\n",
              "      --fill-color: #D2E3FC;\n",
              "      --hover-bg-color: #434B5C;\n",
              "      --hover-fill-color: #FFFFFF;\n",
              "      --disabled-bg-color: #3B4455;\n",
              "      --disabled-fill-color: #666;\n",
              "  }\n",
              "\n",
              "  .colab-df-quickchart {\n",
              "    background-color: var(--bg-color);\n",
              "    border: none;\n",
              "    border-radius: 50%;\n",
              "    cursor: pointer;\n",
              "    display: none;\n",
              "    fill: var(--fill-color);\n",
              "    height: 32px;\n",
              "    padding: 0;\n",
              "    width: 32px;\n",
              "  }\n",
              "\n",
              "  .colab-df-quickchart:hover {\n",
              "    background-color: var(--hover-bg-color);\n",
              "    box-shadow: 0 1px 2px rgba(60, 64, 67, 0.3), 0 1px 3px 1px rgba(60, 64, 67, 0.15);\n",
              "    fill: var(--button-hover-fill-color);\n",
              "  }\n",
              "\n",
              "  .colab-df-quickchart-complete:disabled,\n",
              "  .colab-df-quickchart-complete:disabled:hover {\n",
              "    background-color: var(--disabled-bg-color);\n",
              "    fill: var(--disabled-fill-color);\n",
              "    box-shadow: none;\n",
              "  }\n",
              "\n",
              "  .colab-df-spinner {\n",
              "    border: 2px solid var(--fill-color);\n",
              "    border-color: transparent;\n",
              "    border-bottom-color: var(--fill-color);\n",
              "    animation:\n",
              "      spin 1s steps(1) infinite;\n",
              "  }\n",
              "\n",
              "  @keyframes spin {\n",
              "    0% {\n",
              "      border-color: transparent;\n",
              "      border-bottom-color: var(--fill-color);\n",
              "      border-left-color: var(--fill-color);\n",
              "    }\n",
              "    20% {\n",
              "      border-color: transparent;\n",
              "      border-left-color: var(--fill-color);\n",
              "      border-top-color: var(--fill-color);\n",
              "    }\n",
              "    30% {\n",
              "      border-color: transparent;\n",
              "      border-left-color: var(--fill-color);\n",
              "      border-top-color: var(--fill-color);\n",
              "      border-right-color: var(--fill-color);\n",
              "    }\n",
              "    40% {\n",
              "      border-color: transparent;\n",
              "      border-right-color: var(--fill-color);\n",
              "      border-top-color: var(--fill-color);\n",
              "    }\n",
              "    60% {\n",
              "      border-color: transparent;\n",
              "      border-right-color: var(--fill-color);\n",
              "    }\n",
              "    80% {\n",
              "      border-color: transparent;\n",
              "      border-right-color: var(--fill-color);\n",
              "      border-bottom-color: var(--fill-color);\n",
              "    }\n",
              "    90% {\n",
              "      border-color: transparent;\n",
              "      border-bottom-color: var(--fill-color);\n",
              "    }\n",
              "  }\n",
              "</style>\n",
              "\n",
              "      <script>\n",
              "        async function quickchart(key) {\n",
              "          const quickchartButtonEl =\n",
              "            document.querySelector('#' + key + ' button');\n",
              "          quickchartButtonEl.disabled = true;  // To prevent multiple clicks.\n",
              "          quickchartButtonEl.classList.add('colab-df-spinner');\n",
              "          try {\n",
              "            const charts = await google.colab.kernel.invokeFunction(\n",
              "                'suggestCharts', [key], {});\n",
              "          } catch (error) {\n",
              "            console.error('Error during call to suggestCharts:', error);\n",
              "          }\n",
              "          quickchartButtonEl.classList.remove('colab-df-spinner');\n",
              "          quickchartButtonEl.classList.add('colab-df-quickchart-complete');\n",
              "        }\n",
              "        (() => {\n",
              "          let quickchartButtonEl =\n",
              "            document.querySelector('#df-aa830ed0-ddc6-464a-a0fb-b870270292c2 button');\n",
              "          quickchartButtonEl.style.display =\n",
              "            google.colab.kernel.accessAllowed ? 'block' : 'none';\n",
              "        })();\n",
              "      </script>\n",
              "    </div>\n",
              "    </div>\n",
              "  </div>\n"
            ],
            "application/vnd.google.colaboratory.intrinsic+json": {
              "type": "dataframe",
              "variable_name": "names",
              "summary": "{\n  \"name\": \"names\",\n  \"rows\": 30000,\n  \"fields\": [\n    {\n      \"column\": \"name\",\n      \"properties\": {\n        \"dtype\": \"string\",\n        \"num_unique_values\": 29994,\n        \"samples\": [\n          \"\\u043f\\u043e\\u043b\\u043e\\u0442\\u0435\\u043d\\u0446\\u0435 \\u043c\\u0430\\u0445\\u0440\\u043e\\u0432\\u043e\\u0435, \\u0440\\u0430\\u0437\\u043c\\u0435\\u0440: 50\",\n          \"\\u0421\\u0446\\u0435\\u043f\\u043b\\u0435\\u043d\\u0438\\u0435 6DCT250 \\u043d\\u0435\\u043e\\u0440\\u0438\\u0433\\u0438\\u043d\\u0430\\u043b\",\n          \"\\u0412\\u0430\\u043b\\u0438\\u043a \\\"\\u041d\\u0435\\u0439\\u043b\\u043e\\u043d \\u041b\\u044e\\u043a\\u0441\\\" \\u0441 \\u0434\\u0432\\u0443\\u0445\\u043a\\u043e\\u043c\\u043f\\u043e\\u043d\\u0435\\u043d\\u0442\\u043d\\u043e\\u0439 \\u0440\\u0443\\u0447\\u043a\\u043e\\u0439, 180\\u043c\\u043c, \\u0432\\u043e\\u0440\\u0441 18\\u043c\\u043c, D48\\u043c\\u043c// MATRIX \\u0448\\u0442\"\n        ],\n        \"semantic_type\": \"\",\n        \"description\": \"\"\n      }\n    },\n    {\n      \"column\": \"tokens\",\n      \"properties\": {\n        \"dtype\": \"object\",\n        \"semantic_type\": \"\",\n        \"description\": \"\"\n      }\n    }\n  ]\n}"
            }
          },
          "metadata": {},
          "execution_count": 7
        }
      ]
    },
    {
      "cell_type": "code",
      "source": [
        "all_tokens = names['tokens'].explode()\n",
        "token_counts = Counter(all_tokens)\n",
        "\n",
        "print(\"Топ-30 самых частых слов после очистки:\")\n",
        "for word, count in token_counts.most_common(30):\n",
        "    print(f\"{word}: {count}\")"
      ],
      "metadata": {
        "colab": {
          "base_uri": "https://localhost:8080/"
        },
        "id": "1akWj2sVEguo",
        "outputId": "c14b5840-c004-4470-e954-5290e9eb6427"
      },
      "id": "1akWj2sVEguo",
      "execution_count": null,
      "outputs": [
        {
          "output_type": "stream",
          "name": "stdout",
          "text": [
            "Топ-30 самых частых слов после очистки:\n",
            "футболка: 416\n",
            "бзмж: 390\n",
            "белый: 375\n",
            "вода: 369\n",
            "брюки: 358\n",
            "жен: 357\n",
            "пиво: 349\n",
            "черный: 334\n",
            "сыр: 329\n",
            "печенье: 298\n",
            "напиток: 295\n",
            "чай: 290\n",
            "арт: 280\n",
            "шоколад: 274\n",
            "масло: 259\n",
            "молоко: 258\n",
            "набор: 250\n",
            "пэт: 243\n",
            "носки: 237\n",
            "вес: 229\n",
            "россия: 225\n",
            "мороженое: 224\n",
            "муж: 218\n",
            "женские: 213\n",
            "йогурт: 204\n",
            "сигареты: 199\n",
            "таб: 197\n",
            "газ: 197\n",
            "сок: 195\n",
            "корм: 191\n"
          ]
        }
      ]
    },
    {
      "cell_type": "code",
      "source": [
        "print(\"Общее количество записей:\", len(names))"
      ],
      "metadata": {
        "colab": {
          "base_uri": "https://localhost:8080/"
        },
        "id": "nG9ZOrUtEjPb",
        "outputId": "84652696-48d1-482f-a22d-801a9538f1c9"
      },
      "id": "nG9ZOrUtEjPb",
      "execution_count": null,
      "outputs": [
        {
          "output_type": "stream",
          "name": "stdout",
          "text": [
            "Общее количество записей: 30000\n"
          ]
        }
      ]
    },
    {
      "cell_type": "markdown",
      "source": [
        "Обученные векторы сохраняются в файл fasttext.model для использования в моделях.\n",
        "\n",
        "Для построения fasttext используем все данные, включая неразмечаенный test_df."
      ],
      "metadata": {
        "id": "9c4lU8FCEnP8"
      },
      "id": "9c4lU8FCEnP8"
    },
    {
      "cell_type": "code",
      "source": [
        "FastText(names[\"tokens\"], vector_size=300).save(\"fasttext.model\")"
      ],
      "metadata": {
        "id": "T2lHPKdjEkRC"
      },
      "id": "T2lHPKdjEkRC",
      "execution_count": null,
      "outputs": []
    },
    {
      "cell_type": "code",
      "source": [
        "!pip install pytorch_lightning\n",
        "!pip install seqeval\n",
        "!pip install torch"
      ],
      "metadata": {
        "colab": {
          "base_uri": "https://localhost:8080/"
        },
        "collapsed": true,
        "id": "ltvH_mYlEvhe",
        "outputId": "b05bddd0-a194-4ffd-94de-04b0059fa991"
      },
      "id": "ltvH_mYlEvhe",
      "execution_count": null,
      "outputs": [
        {
          "output_type": "stream",
          "name": "stdout",
          "text": [
            "Requirement already satisfied: pytorch_lightning in /usr/local/lib/python3.11/dist-packages (2.5.1.post0)\n",
            "Requirement already satisfied: torch>=2.1.0 in /usr/local/lib/python3.11/dist-packages (from pytorch_lightning) (2.6.0+cu124)\n",
            "Requirement already satisfied: tqdm>=4.57.0 in /usr/local/lib/python3.11/dist-packages (from pytorch_lightning) (4.67.1)\n",
            "Requirement already satisfied: PyYAML>=5.4 in /usr/local/lib/python3.11/dist-packages (from pytorch_lightning) (6.0.2)\n",
            "Requirement already satisfied: fsspec>=2022.5.0 in /usr/local/lib/python3.11/dist-packages (from fsspec[http]>=2022.5.0->pytorch_lightning) (2025.3.2)\n",
            "Requirement already satisfied: torchmetrics>=0.7.0 in /usr/local/lib/python3.11/dist-packages (from pytorch_lightning) (1.7.1)\n",
            "Requirement already satisfied: packaging>=20.0 in /usr/local/lib/python3.11/dist-packages (from pytorch_lightning) (24.2)\n",
            "Requirement already satisfied: typing-extensions>=4.4.0 in /usr/local/lib/python3.11/dist-packages (from pytorch_lightning) (4.13.2)\n",
            "Requirement already satisfied: lightning-utilities>=0.10.0 in /usr/local/lib/python3.11/dist-packages (from pytorch_lightning) (0.14.3)\n",
            "Requirement already satisfied: aiohttp!=4.0.0a0,!=4.0.0a1 in /usr/local/lib/python3.11/dist-packages (from fsspec[http]>=2022.5.0->pytorch_lightning) (3.11.15)\n",
            "Requirement already satisfied: setuptools in /usr/local/lib/python3.11/dist-packages (from lightning-utilities>=0.10.0->pytorch_lightning) (75.2.0)\n",
            "Requirement already satisfied: filelock in /usr/local/lib/python3.11/dist-packages (from torch>=2.1.0->pytorch_lightning) (3.18.0)\n",
            "Requirement already satisfied: networkx in /usr/local/lib/python3.11/dist-packages (from torch>=2.1.0->pytorch_lightning) (3.4.2)\n",
            "Requirement already satisfied: jinja2 in /usr/local/lib/python3.11/dist-packages (from torch>=2.1.0->pytorch_lightning) (3.1.6)\n",
            "Requirement already satisfied: nvidia-cuda-nvrtc-cu12==12.4.127 in /usr/local/lib/python3.11/dist-packages (from torch>=2.1.0->pytorch_lightning) (12.4.127)\n",
            "Requirement already satisfied: nvidia-cuda-runtime-cu12==12.4.127 in /usr/local/lib/python3.11/dist-packages (from torch>=2.1.0->pytorch_lightning) (12.4.127)\n",
            "Requirement already satisfied: nvidia-cuda-cupti-cu12==12.4.127 in /usr/local/lib/python3.11/dist-packages (from torch>=2.1.0->pytorch_lightning) (12.4.127)\n",
            "Requirement already satisfied: nvidia-cudnn-cu12==9.1.0.70 in /usr/local/lib/python3.11/dist-packages (from torch>=2.1.0->pytorch_lightning) (9.1.0.70)\n",
            "Requirement already satisfied: nvidia-cublas-cu12==12.4.5.8 in /usr/local/lib/python3.11/dist-packages (from torch>=2.1.0->pytorch_lightning) (12.4.5.8)\n",
            "Requirement already satisfied: nvidia-cufft-cu12==11.2.1.3 in /usr/local/lib/python3.11/dist-packages (from torch>=2.1.0->pytorch_lightning) (11.2.1.3)\n",
            "Requirement already satisfied: nvidia-curand-cu12==10.3.5.147 in /usr/local/lib/python3.11/dist-packages (from torch>=2.1.0->pytorch_lightning) (10.3.5.147)\n",
            "Requirement already satisfied: nvidia-cusolver-cu12==11.6.1.9 in /usr/local/lib/python3.11/dist-packages (from torch>=2.1.0->pytorch_lightning) (11.6.1.9)\n",
            "Requirement already satisfied: nvidia-cusparse-cu12==12.3.1.170 in /usr/local/lib/python3.11/dist-packages (from torch>=2.1.0->pytorch_lightning) (12.3.1.170)\n",
            "Requirement already satisfied: nvidia-cusparselt-cu12==0.6.2 in /usr/local/lib/python3.11/dist-packages (from torch>=2.1.0->pytorch_lightning) (0.6.2)\n",
            "Requirement already satisfied: nvidia-nccl-cu12==2.21.5 in /usr/local/lib/python3.11/dist-packages (from torch>=2.1.0->pytorch_lightning) (2.21.5)\n",
            "Requirement already satisfied: nvidia-nvtx-cu12==12.4.127 in /usr/local/lib/python3.11/dist-packages (from torch>=2.1.0->pytorch_lightning) (12.4.127)\n",
            "Requirement already satisfied: nvidia-nvjitlink-cu12==12.4.127 in /usr/local/lib/python3.11/dist-packages (from torch>=2.1.0->pytorch_lightning) (12.4.127)\n",
            "Requirement already satisfied: triton==3.2.0 in /usr/local/lib/python3.11/dist-packages (from torch>=2.1.0->pytorch_lightning) (3.2.0)\n",
            "Requirement already satisfied: sympy==1.13.1 in /usr/local/lib/python3.11/dist-packages (from torch>=2.1.0->pytorch_lightning) (1.13.1)\n",
            "Requirement already satisfied: mpmath<1.4,>=1.1.0 in /usr/local/lib/python3.11/dist-packages (from sympy==1.13.1->torch>=2.1.0->pytorch_lightning) (1.3.0)\n",
            "Requirement already satisfied: numpy>1.20.0 in /usr/local/lib/python3.11/dist-packages (from torchmetrics>=0.7.0->pytorch_lightning) (1.26.4)\n",
            "Requirement already satisfied: aiohappyeyeballs>=2.3.0 in /usr/local/lib/python3.11/dist-packages (from aiohttp!=4.0.0a0,!=4.0.0a1->fsspec[http]>=2022.5.0->pytorch_lightning) (2.6.1)\n",
            "Requirement already satisfied: aiosignal>=1.1.2 in /usr/local/lib/python3.11/dist-packages (from aiohttp!=4.0.0a0,!=4.0.0a1->fsspec[http]>=2022.5.0->pytorch_lightning) (1.3.2)\n",
            "Requirement already satisfied: attrs>=17.3.0 in /usr/local/lib/python3.11/dist-packages (from aiohttp!=4.0.0a0,!=4.0.0a1->fsspec[http]>=2022.5.0->pytorch_lightning) (25.3.0)\n",
            "Requirement already satisfied: frozenlist>=1.1.1 in /usr/local/lib/python3.11/dist-packages (from aiohttp!=4.0.0a0,!=4.0.0a1->fsspec[http]>=2022.5.0->pytorch_lightning) (1.6.0)\n",
            "Requirement already satisfied: multidict<7.0,>=4.5 in /usr/local/lib/python3.11/dist-packages (from aiohttp!=4.0.0a0,!=4.0.0a1->fsspec[http]>=2022.5.0->pytorch_lightning) (6.4.3)\n",
            "Requirement already satisfied: propcache>=0.2.0 in /usr/local/lib/python3.11/dist-packages (from aiohttp!=4.0.0a0,!=4.0.0a1->fsspec[http]>=2022.5.0->pytorch_lightning) (0.3.1)\n",
            "Requirement already satisfied: yarl<2.0,>=1.17.0 in /usr/local/lib/python3.11/dist-packages (from aiohttp!=4.0.0a0,!=4.0.0a1->fsspec[http]>=2022.5.0->pytorch_lightning) (1.20.0)\n",
            "Requirement already satisfied: MarkupSafe>=2.0 in /usr/local/lib/python3.11/dist-packages (from jinja2->torch>=2.1.0->pytorch_lightning) (3.0.2)\n",
            "Requirement already satisfied: idna>=2.0 in /usr/local/lib/python3.11/dist-packages (from yarl<2.0,>=1.17.0->aiohttp!=4.0.0a0,!=4.0.0a1->fsspec[http]>=2022.5.0->pytorch_lightning) (3.10)\n",
            "Requirement already satisfied: seqeval in /usr/local/lib/python3.11/dist-packages (1.2.2)\n",
            "Requirement already satisfied: numpy>=1.14.0 in /usr/local/lib/python3.11/dist-packages (from seqeval) (1.26.4)\n",
            "Requirement already satisfied: scikit-learn>=0.21.3 in /usr/local/lib/python3.11/dist-packages (from seqeval) (1.6.1)\n",
            "Requirement already satisfied: scipy>=1.6.0 in /usr/local/lib/python3.11/dist-packages (from scikit-learn>=0.21.3->seqeval) (1.13.1)\n",
            "Requirement already satisfied: joblib>=1.2.0 in /usr/local/lib/python3.11/dist-packages (from scikit-learn>=0.21.3->seqeval) (1.5.0)\n",
            "Requirement already satisfied: threadpoolctl>=3.1.0 in /usr/local/lib/python3.11/dist-packages (from scikit-learn>=0.21.3->seqeval) (3.6.0)\n",
            "Requirement already satisfied: torch in /usr/local/lib/python3.11/dist-packages (2.6.0+cu124)\n",
            "Requirement already satisfied: filelock in /usr/local/lib/python3.11/dist-packages (from torch) (3.18.0)\n",
            "Requirement already satisfied: typing-extensions>=4.10.0 in /usr/local/lib/python3.11/dist-packages (from torch) (4.13.2)\n",
            "Requirement already satisfied: networkx in /usr/local/lib/python3.11/dist-packages (from torch) (3.4.2)\n",
            "Requirement already satisfied: jinja2 in /usr/local/lib/python3.11/dist-packages (from torch) (3.1.6)\n",
            "Requirement already satisfied: fsspec in /usr/local/lib/python3.11/dist-packages (from torch) (2025.3.2)\n",
            "Requirement already satisfied: nvidia-cuda-nvrtc-cu12==12.4.127 in /usr/local/lib/python3.11/dist-packages (from torch) (12.4.127)\n",
            "Requirement already satisfied: nvidia-cuda-runtime-cu12==12.4.127 in /usr/local/lib/python3.11/dist-packages (from torch) (12.4.127)\n",
            "Requirement already satisfied: nvidia-cuda-cupti-cu12==12.4.127 in /usr/local/lib/python3.11/dist-packages (from torch) (12.4.127)\n",
            "Requirement already satisfied: nvidia-cudnn-cu12==9.1.0.70 in /usr/local/lib/python3.11/dist-packages (from torch) (9.1.0.70)\n",
            "Requirement already satisfied: nvidia-cublas-cu12==12.4.5.8 in /usr/local/lib/python3.11/dist-packages (from torch) (12.4.5.8)\n",
            "Requirement already satisfied: nvidia-cufft-cu12==11.2.1.3 in /usr/local/lib/python3.11/dist-packages (from torch) (11.2.1.3)\n",
            "Requirement already satisfied: nvidia-curand-cu12==10.3.5.147 in /usr/local/lib/python3.11/dist-packages (from torch) (10.3.5.147)\n",
            "Requirement already satisfied: nvidia-cusolver-cu12==11.6.1.9 in /usr/local/lib/python3.11/dist-packages (from torch) (11.6.1.9)\n",
            "Requirement already satisfied: nvidia-cusparse-cu12==12.3.1.170 in /usr/local/lib/python3.11/dist-packages (from torch) (12.3.1.170)\n",
            "Requirement already satisfied: nvidia-cusparselt-cu12==0.6.2 in /usr/local/lib/python3.11/dist-packages (from torch) (0.6.2)\n",
            "Requirement already satisfied: nvidia-nccl-cu12==2.21.5 in /usr/local/lib/python3.11/dist-packages (from torch) (2.21.5)\n",
            "Requirement already satisfied: nvidia-nvtx-cu12==12.4.127 in /usr/local/lib/python3.11/dist-packages (from torch) (12.4.127)\n",
            "Requirement already satisfied: nvidia-nvjitlink-cu12==12.4.127 in /usr/local/lib/python3.11/dist-packages (from torch) (12.4.127)\n",
            "Requirement already satisfied: triton==3.2.0 in /usr/local/lib/python3.11/dist-packages (from torch) (3.2.0)\n",
            "Requirement already satisfied: sympy==1.13.1 in /usr/local/lib/python3.11/dist-packages (from torch) (1.13.1)\n",
            "Requirement already satisfied: mpmath<1.4,>=1.1.0 in /usr/local/lib/python3.11/dist-packages (from sympy==1.13.1->torch) (1.3.0)\n",
            "Requirement already satisfied: MarkupSafe>=2.0 in /usr/local/lib/python3.11/dist-packages (from jinja2->torch) (3.0.2)\n"
          ]
        }
      ]
    },
    {
      "cell_type": "code",
      "execution_count": null,
      "id": "7e740225",
      "metadata": {
        "ExecuteTime": {
          "end_time": "2023-06-08T10:54:51.745439800Z",
          "start_time": "2023-06-08T10:54:49.267906Z"
        },
        "id": "7e740225"
      },
      "outputs": [],
      "source": [
        "from gensim.models.fasttext import FastText\n",
        "import pandas as pd\n",
        "import numpy as np\n",
        "import pytorch_lightning as pl\n",
        "from seqeval.metrics.sequence_labeling import get_entities\n",
        "from sklearn.model_selection import train_test_split\n",
        "import torch\n",
        "import torch.nn as nn\n",
        "from torch.nn.utils.rnn import pad_sequence\n",
        "from torch.utils.data import Dataset, DataLoader\n",
        "\n",
        "torch.set_float32_matmul_precision(\"high\")"
      ]
    },
    {
      "cell_type": "markdown",
      "source": [
        "# Преобразование данных"
      ],
      "metadata": {
        "id": "UkVINTjZ5qMA"
      },
      "id": "UkVINTjZ5qMA"
    },
    {
      "cell_type": "markdown",
      "id": "6be248c7",
      "metadata": {
        "id": "6be248c7"
      },
      "source": [
        "Полезные функции для работы с BIO-тегами"
      ]
    },
    {
      "cell_type": "code",
      "execution_count": null,
      "id": "a45c869f",
      "metadata": {
        "ExecuteTime": {
          "end_time": "2023-06-08T10:54:51.749953400Z",
          "start_time": "2023-06-08T10:54:51.748949Z"
        },
        "id": "a45c869f"
      },
      "outputs": [],
      "source": [
        "def apply_bio_tagging(row):\n",
        "    \"\"\"\n",
        "    По токенам чека и разметке (то есть выделенным товарам и брендам) строим BIO-теги\n",
        "    \"\"\"\n",
        "    tokens = row[\"tokens\"]\n",
        "    good = row[\"good\"].split(',')[0].split()\n",
        "    tags = ['O'] * len(tokens)\n",
        "    for i, token in enumerate(tokens):\n",
        "        if len(good) > 0 and tokens[i:i + len(good)] == good:\n",
        "            tags[i] = \"B-GOOD\"\n",
        "            for j in range(i + 1, i + len(good)):\n",
        "                tags[j] = \"I-GOOD\"\n",
        "    return tags"
      ]
    },
    {
      "cell_type": "markdown",
      "source": [
        "Прямое и обратное преобразование тегов в индексы"
      ],
      "metadata": {
        "collapsed": false,
        "id": "LrHoaHfrDXjl"
      },
      "id": "LrHoaHfrDXjl"
    },
    {
      "cell_type": "code",
      "execution_count": null,
      "id": "6b873cc7",
      "metadata": {
        "ExecuteTime": {
          "end_time": "2023-06-08T10:54:51.763150200Z",
          "start_time": "2023-06-08T10:54:51.752090200Z"
        },
        "id": "6b873cc7"
      },
      "outputs": [],
      "source": [
        "index_to_tag = [\"O\", \"B-GOOD\", \"I-GOOD\", \"PAD\"]\n",
        "tag_to_index = {tag: index for index, tag in enumerate(index_to_tag)}"
      ]
    },
    {
      "cell_type": "markdown",
      "id": "053a8c3d",
      "metadata": {
        "id": "053a8c3d"
      },
      "source": [
        "# Datamodule\n",
        "\n",
        "Подготовим данные для модели. Для этого определим наследника `torch.nn.utils.Dataset` - `ReceiptsDataset`"
      ]
    },
    {
      "cell_type": "code",
      "execution_count": null,
      "id": "58c5aaec",
      "metadata": {
        "ExecuteTime": {
          "end_time": "2023-06-08T10:54:51.770658400Z",
          "start_time": "2023-06-08T10:54:51.763150200Z"
        },
        "id": "58c5aaec"
      },
      "outputs": [],
      "source": [
        "class ReceiptsDataset(Dataset):\n",
        "    def __init__(self, df, fasttext):\n",
        "        super().__init__()\n",
        "        self.is_predict = \"tags\" not in df.columns\n",
        "        self.data = df[[\"tokens\", \"good\", \"tags\"]] if not self.is_predict else df[[\"tokens\", \"id\"]]\n",
        "        self.data = self.data.values\n",
        "        self.fasttext = fasttext\n",
        "\n",
        "    def __getitem__(self, index):\n",
        "        identifier = 0 if not self.is_predict else self.data[index][1]\n",
        "        tokens = self.data[index][0]\n",
        "\n",
        "        if not tokens or len(tokens) == 0:\n",
        "            embedding_dim = self.fasttext.wv.vector_size\n",
        "            embeddings = np.zeros((1, embedding_dim))\n",
        "        else:\n",
        "            embeddings = self.fasttext.wv[tokens]\n",
        "\n",
        "        goods = self.data[index][1].split(',') if not self.is_predict else list()\n",
        "        tags = self.data[index][2] if not self.is_predict else [\"O\"] * len(tokens)\n",
        "        target = [tag_to_index[tag] for tag in tags]\n",
        "        return identifier, tokens, embeddings, goods, target\n",
        "\n",
        "    def __len__(self):\n",
        "        return len(self.data)"
      ]
    },
    {
      "cell_type": "markdown",
      "source": [
        "Для объединения примеров в батчи нужна специальная `collate_fn`, в которой происходит паддинг"
      ],
      "metadata": {
        "collapsed": false,
        "id": "SV6VncFvDXjm"
      },
      "id": "SV6VncFvDXjm"
    },
    {
      "cell_type": "code",
      "execution_count": null,
      "id": "847269bd",
      "metadata": {
        "ExecuteTime": {
          "end_time": "2023-06-08T10:54:51.785171100Z",
          "start_time": "2023-06-08T10:54:51.772659Z"
        },
        "id": "847269bd"
      },
      "outputs": [],
      "source": [
        "def collate_fn(batch):\n",
        "    ids, tokens_sequence, embeddings_sequence, goods, targets = list(zip(*batch))\n",
        "    embeddings_sequence = pad_sequence([torch.FloatTensor(sequence) for sequence in embeddings_sequence],\n",
        "                                       batch_first=True)\n",
        "    targets = pad_sequence([torch.LongTensor(target) for target in targets], batch_first=True,\n",
        "                           padding_value=tag_to_index[\"PAD\"])\n",
        "    return ids, tokens_sequence, embeddings_sequence, goods, targets"
      ]
    },
    {
      "cell_type": "markdown",
      "source": [
        "Используем LightningDataModule для задания пайплайна\n",
        "\n",
        "1. prepare_data\n",
        "    1. Токенизируем текст\n",
        "    2. Выделяем BIO-теги в размеченной части\n",
        "2. setup\n",
        "    1. Разделяем размеченную выборку на обучающую и валидационную\n",
        "    2. Создаем `ReceiptsDataset` под каждую выборку"
      ],
      "metadata": {
        "collapsed": false,
        "id": "KtnQ94AwDXjm"
      },
      "id": "KtnQ94AwDXjm"
    },
    {
      "cell_type": "code",
      "execution_count": null,
      "id": "2d6ab59e",
      "metadata": {
        "ExecuteTime": {
          "end_time": "2023-06-08T10:54:51.792214800Z",
          "start_time": "2023-06-08T10:54:51.784173Z"
        },
        "id": "2d6ab59e"
      },
      "outputs": [],
      "source": [
        "class ReceiptsDataModule(pl.LightningDataModule):\n",
        "    def __init__(self,\n",
        "                 train_dataset_path,\n",
        "                 test_dataset_path,\n",
        "                 fasttext_path,\n",
        "                 val_split_size,\n",
        "                 batch_size,\n",
        "                 num_workers):\n",
        "        super().__init__()\n",
        "        self.train_dataset_path = train_dataset_path\n",
        "        self.test_dataset_path = test_dataset_path\n",
        "        self.fasttext_path = fasttext_path\n",
        "        self.val_split_size = val_split_size\n",
        "        self.batch_size = batch_size\n",
        "        self.num_workers = num_workers\n",
        "\n",
        "    def prepare_data(self):\n",
        "        self.fasttext = FastText.load(self.fasttext_path)\n",
        "        self.train_df = pd.read_csv(self.train_dataset_path).fillna(\"\")\n",
        "        self.test_df = pd.read_csv(self.test_dataset_path)\n",
        "\n",
        "        self.train_df[\"tokens\"] = self.train_df[\"name\"].apply(lambda x: clean_text(x, stopwords_set=custom_stopwords))\n",
        "        self.test_df[\"tokens\"] = self.test_df[\"name\"].apply(lambda x: clean_text(x, stopwords_set=custom_stopwords))\n",
        "        self.train_df[\"tags\"] = self.train_df.apply(apply_bio_tagging, axis=1)\n",
        "\n",
        "    def setup(self, stage: str):\n",
        "        self.train_df, val_test_df = train_test_split(self.train_df, test_size=self.val_split_size)\n",
        "        self.val_df, self.tst_df = train_test_split(val_test_df, test_size=0.5)\n",
        "\n",
        "        self.train_dataset = ReceiptsDataset(self.train_df, self.fasttext)\n",
        "        self.val_dataset = ReceiptsDataset(self.val_df, self.fasttext)\n",
        "        self.test_dataset = ReceiptsDataset(self.tst_df, self.fasttext)\n",
        "        self.predict_dataset = ReceiptsDataset(self.test_df, self.fasttext)\n",
        "\n",
        "    def train_dataloader(self):\n",
        "        return DataLoader(self.train_dataset,\n",
        "                          batch_size=self.batch_size,\n",
        "                          num_workers=self.num_workers,\n",
        "                          collate_fn=collate_fn)\n",
        "\n",
        "    def val_dataloader(self):\n",
        "        return DataLoader(self.val_dataset,\n",
        "                          batch_size=self.batch_size,\n",
        "                          num_workers=self.num_workers,\n",
        "                          collate_fn=collate_fn)\n",
        "    def test_dataloader(self):\n",
        "        return DataLoader(self.test_dataset,\n",
        "                          batch_size=self.batch_size,\n",
        "                          num_workers=self.num_workers,\n",
        "                          collate_fn=collate_fn)\n",
        "    def predict_dataloader(self):\n",
        "        return torch.utils.data.DataLoader(self.predict_dataset,\n",
        "                                           batch_size=self.batch_size,\n",
        "                                           num_workers=self.num_workers,\n",
        "                                           collate_fn=collate_fn)"
      ]
    },
    {
      "cell_type": "markdown",
      "source": [
        "Train_df делится на обучающую, валидационную и тестовую выборки в отношении 0.8 : 0.1 : 0.1, так как для обучения необходимо много данных."
      ],
      "metadata": {
        "id": "T6_Dndl76ICK"
      },
      "id": "T6_Dndl76ICK"
    },
    {
      "cell_type": "code",
      "execution_count": null,
      "id": "8c3aac1b",
      "metadata": {
        "ExecuteTime": {
          "end_time": "2023-06-08T10:54:51.804924800Z",
          "start_time": "2023-06-08T10:54:51.794242200Z"
        },
        "id": "8c3aac1b"
      },
      "outputs": [],
      "source": [
        "VAL_SPLIT_SIZE = 0.2\n",
        "BATCH_SIZE = 512\n",
        "NUM_WORKERS = 2"
      ]
    },
    {
      "cell_type": "code",
      "execution_count": null,
      "id": "8c641742",
      "metadata": {
        "ExecuteTime": {
          "end_time": "2023-06-08T10:54:51.814434200Z",
          "start_time": "2023-06-08T10:54:51.805924300Z"
        },
        "id": "8c641742"
      },
      "outputs": [],
      "source": [
        "dm = ReceiptsDataModule(\n",
        "    TRAIN_DATASET_PATH,\n",
        "    TEST_DATASET_PATH,\n",
        "    FASTTEXT_PATH,\n",
        "    VAL_SPLIT_SIZE,\n",
        "    BATCH_SIZE,\n",
        "    NUM_WORKERS\n",
        ")"
      ]
    },
    {
      "cell_type": "markdown",
      "source": [
        "Метрики для задачи NER:\n",
        "- `F1` (оптимальность для несбалансированных данных)\n",
        "- `Presision` (контроль ложных срабатываний)\n",
        "- `Recall` (поиск всех сущностей)"
      ],
      "metadata": {
        "id": "qZ_NAswI-1h7"
      },
      "id": "qZ_NAswI-1h7"
    },
    {
      "cell_type": "code",
      "execution_count": null,
      "id": "7db73afb",
      "metadata": {
        "ExecuteTime": {
          "end_time": "2023-06-08T10:54:51.827296700Z",
          "start_time": "2023-06-08T10:54:51.814434200Z"
        },
        "id": "7db73afb"
      },
      "outputs": [],
      "source": [
        "class F1Score:\n",
        "    def __init__(self):\n",
        "        self.tp = 0\n",
        "        self.fp = 0\n",
        "        self.fn = 0\n",
        "\n",
        "    def update(self, pred, target):\n",
        "        pred = frozenset(x for x in pred)\n",
        "        target = frozenset(x for x in target)\n",
        "        self.tp += len(pred & target)\n",
        "        self.fp += len(pred - target)\n",
        "        self.fn += len(target - pred)\n",
        "\n",
        "    def reset(self):\n",
        "        self.tp = 0\n",
        "        self.fp = 0\n",
        "        self.fn = 0\n",
        "\n",
        "    def get_f1(self):\n",
        "        if self.tp == 0:\n",
        "            return 0.0\n",
        "        precision = self.get_precision()\n",
        "        recall = self.get_recall()\n",
        "        return 2 * (precision * recall) / (precision + recall)\n",
        "\n",
        "    def get_precision(self):\n",
        "        if self.tp + self.fp == 0:\n",
        "            return 0.0\n",
        "        return self.tp / (self.tp + self.fp)\n",
        "\n",
        "    def get_recall(self):\n",
        "        if self.tp + self.fn == 0:\n",
        "            return 0.0\n",
        "        return self.tp / (self.tp + self.fn)"
      ]
    },
    {
      "cell_type": "markdown",
      "id": "09717716",
      "metadata": {
        "id": "09717716"
      },
      "source": [
        "# Модель\n",
        "\n",
        "В качестве бейзлайна используется модель NER, состоящая из RNN поверх эмбеддингов FastText.\n",
        "\n",
        "Бейзлайн реализован на библиотеке PyTorch с использованием PyTorch-Lightning для упрощения кода\n"
      ]
    },
    {
      "cell_type": "markdown",
      "source": [
        "Зададим саму модель, ее шаги на обучении, валидации и инференсе, а также способ обучения"
      ],
      "metadata": {
        "collapsed": false,
        "id": "hpOjIJklDXjn"
      },
      "id": "hpOjIJklDXjn"
    },
    {
      "cell_type": "code",
      "execution_count": null,
      "id": "469a277a",
      "metadata": {
        "ExecuteTime": {
          "end_time": "2023-06-08T10:54:51.841898200Z",
          "start_time": "2023-06-08T10:54:51.832413Z"
        },
        "id": "469a277a"
      },
      "outputs": [],
      "source": [
        "class ReceiptsModule(pl.LightningModule):\n",
        "    def __init__(self,\n",
        "                 rnn_input_size,\n",
        "                 rnn_hidden_size,\n",
        "                 rnn_num_layers,\n",
        "                 rnn_dropout,\n",
        "                 mlp_hidden_size,\n",
        "                 learning_rate):\n",
        "        super().__init__()\n",
        "        self.learning_rate = learning_rate\n",
        "        self.lstm = nn.RNN(input_size=rnn_input_size,\n",
        "                           hidden_size=rnn_hidden_size,\n",
        "                           num_layers=rnn_num_layers,\n",
        "                           batch_first=True,\n",
        "                           dropout=rnn_dropout)\n",
        "        self.mlp = nn.Sequential(\n",
        "            nn.Linear(rnn_hidden_size, mlp_hidden_size),\n",
        "            nn.ReLU(),\n",
        "            nn.Linear(mlp_hidden_size, len(index_to_tag))\n",
        "        )\n",
        "        self.criterion = nn.CrossEntropyLoss(ignore_index=tag_to_index[\"PAD\"], reduction=\"mean\")\n",
        "        self.f1_good_train = F1Score()\n",
        "        self.f1_good_val = F1Score()\n",
        "\n",
        "    def forward(self, sequences):\n",
        "        sequences, _ = self.lstm(sequences)\n",
        "        logits = self.mlp(sequences)\n",
        "        return logits\n",
        "\n",
        "    def training_step(self, batch, _):\n",
        "        ids, tokens_sequence, embeddings_sequence, goods, targets = batch\n",
        "        logits = self(embeddings_sequence)\n",
        "        loss = self.criterion(logits.transpose(1, 2), targets)\n",
        "        tags_indices_sequence = torch.argmax(logits, dim=-1).detach().cpu().numpy().tolist()\n",
        "        for i, tags_indices in enumerate(tags_indices_sequence):\n",
        "            tags = [index_to_tag[index] for index in tags_indices[:len(tokens_sequence[i])]]\n",
        "            entities = get_entities(tags)\n",
        "            goods_pred = [' '.join(tokens_sequence[i][start:finish + 1]) for t, start, finish in entities if t == \"GOOD\"]\n",
        "            self.f1_good_train.update(goods_pred, goods[i])\n",
        "        self.log(\"loss/train\", loss, on_epoch=True, batch_size=len(tags_indices_sequence))\n",
        "        return loss\n",
        "\n",
        "    def on_train_epoch_end(self):\n",
        "        f1 = self.f1_good_train.get_f1()\n",
        "        precision = self.f1_good_train.get_precision()\n",
        "        recall = self.f1_good_train.get_recall()\n",
        "\n",
        "        self.log(\"metric/f1_good_train\", f1)\n",
        "        self.log(\"metric/precision_good_train\", precision)\n",
        "        self.log(\"metric/recall_good_train\", recall)\n",
        "\n",
        "        self.f1_good_train.reset()\n",
        "\n",
        "    def on_validation_epoch_end(self):\n",
        "        f1 = self.f1_good_val.get_f1()\n",
        "        precision = self.f1_good_val.get_precision()\n",
        "        recall = self.f1_good_val.get_recall()\n",
        "\n",
        "        self.log(\"metric/f1_good_val\", f1)\n",
        "        self.log(\"metric/precision_good_val\", precision)\n",
        "        self.log(\"metric/recall_good_val\", recall)\n",
        "\n",
        "        self.f1_good_val.reset()\n",
        "\n",
        "    def validation_step(self, batch, _):\n",
        "        ids, tokens_sequence, embeddings_sequence, goods, targets = batch\n",
        "        logits = self(embeddings_sequence)\n",
        "        loss = self.criterion(logits.transpose(1, 2), targets)\n",
        "        tags_indices_sequence = torch.argmax(logits, dim=-1).detach().cpu().numpy().tolist()\n",
        "        for i, tags_indices in enumerate(tags_indices_sequence):\n",
        "            tags = [index_to_tag[index] for index in tags_indices[:len(tokens_sequence[i])]]\n",
        "            entities = get_entities(tags)\n",
        "            goods_pred = [' '.join(tokens_sequence[i][start:finish + 1]) for t, start, finish in entities if t == \"GOOD\"]\n",
        "            self.f1_good_val.update(goods_pred, goods[i])\n",
        "        self.log(\"loss/val\", loss, batch_size=len(tags_indices_sequence))\n",
        "\n",
        "    def predict_step(self, batch, _):\n",
        "        ids, tokens_sequence, embeddings_sequence, _, _ = batch\n",
        "        logits = self(embeddings_sequence)\n",
        "        tags_indices_sequence = torch.argmax(logits, dim=-1).detach().cpu().numpy().tolist()\n",
        "        result = list()\n",
        "        for i, tags_indices in enumerate(tags_indices_sequence):\n",
        "            tags = [index_to_tag[index] for index in tags_indices[:len(tokens_sequence[i])]]\n",
        "            entities = get_entities(tags)\n",
        "            goods_pred = ','.join([' '.join(tokens_sequence[i][start:finish + 1]) for t, start, finish in entities if t == \"GOOD\"])\n",
        "            result.append([ids[i], goods_pred])\n",
        "        return result\n",
        "\n",
        "    def configure_optimizers(self):\n",
        "        return torch.optim.Adam(self.parameters(), self.learning_rate, weight_decay=0.001)"
      ]
    },
    {
      "cell_type": "code",
      "execution_count": null,
      "id": "7c6e6593",
      "metadata": {
        "ExecuteTime": {
          "end_time": "2023-06-08T10:54:51.855590100Z",
          "start_time": "2023-06-08T10:54:51.838893600Z"
        },
        "id": "7c6e6593"
      },
      "outputs": [],
      "source": [
        "RNN_INPUT_SIZE = 300\n",
        "RNN_HIDDEN_SIZE = 300\n",
        "RNN_NUM_LAYERS = 3\n",
        "RNN_DROPOUT = 0.1\n",
        "MLP_HIDDEN_SIZE = 500\n",
        "LEARNING_RATE = 1e-4\n",
        "model = ReceiptsModule(\n",
        "    RNN_INPUT_SIZE,\n",
        "    RNN_HIDDEN_SIZE,\n",
        "    RNN_NUM_LAYERS,\n",
        "    RNN_DROPOUT,\n",
        "    MLP_HIDDEN_SIZE,\n",
        "    LEARNING_RATE\n",
        ")"
      ]
    },
    {
      "cell_type": "markdown",
      "source": [
        "Ранняя остановка для борьбы с переобучением"
      ],
      "metadata": {
        "id": "x_4_EgX46tGJ"
      },
      "id": "x_4_EgX46tGJ"
    },
    {
      "cell_type": "code",
      "source": [
        "from pytorch_lightning.callbacks import EarlyStopping\n",
        "\n",
        "early_stop_callback = EarlyStopping(\n",
        "    monitor='metric/f1_good_val',\n",
        "    patience=10,\n",
        "    verbose=True,\n",
        "    mode='max'\n",
        ")"
      ],
      "metadata": {
        "id": "4y7QAc4t6sHT"
      },
      "id": "4y7QAc4t6sHT",
      "execution_count": null,
      "outputs": []
    },
    {
      "cell_type": "markdown",
      "source": [
        "# Обучение модели (с отслеживанием метрик и визуализацией с помощью TensorBoard)"
      ],
      "metadata": {
        "id": "AtQv-ybN6v4M"
      },
      "id": "AtQv-ybN6v4M"
    },
    {
      "cell_type": "code",
      "execution_count": null,
      "id": "87bbedf0",
      "metadata": {
        "ExecuteTime": {
          "end_time": "2023-06-08T10:54:51.960372Z",
          "start_time": "2023-06-08T10:54:51.856590400Z"
        },
        "colab": {
          "base_uri": "https://localhost:8080/"
        },
        "id": "87bbedf0",
        "outputId": "e90447fa-706c-4156-8782-223ca9e781ac"
      },
      "outputs": [
        {
          "output_type": "stream",
          "name": "stderr",
          "text": [
            "INFO:pytorch_lightning.utilities.rank_zero:Using default `ModelCheckpoint`. Consider installing `litmodels` package to enable `LitModelCheckpoint` for automatic upload to the Lightning model registry.\n",
            "INFO:pytorch_lightning.utilities.rank_zero:GPU available: True (cuda), used: True\n",
            "INFO:pytorch_lightning.utilities.rank_zero:TPU available: False, using: 0 TPU cores\n",
            "INFO:pytorch_lightning.utilities.rank_zero:HPU available: False, using: 0 HPUs\n"
          ]
        }
      ],
      "source": [
        "trainer = pl.Trainer(\n",
        "    accelerator=\"gpu\",\n",
        "    devices=[0],\n",
        "    logger=pl.loggers.TensorBoardLogger(\"tb_logs\", name=\"ner_rnn_baseline\"),\n",
        "    max_epochs=70,\n",
        "    log_every_n_steps=1\n",
        ")"
      ]
    },
    {
      "cell_type": "markdown",
      "source": [
        "Обучение модели"
      ],
      "metadata": {
        "collapsed": false,
        "id": "UzILm_WCDXjo"
      },
      "id": "UzILm_WCDXjo"
    },
    {
      "cell_type": "code",
      "source": [
        "%load_ext tensorboard\n",
        "%tensorboard --logdir=tb_logs"
      ],
      "metadata": {
        "id": "Fkm3V25dNoU7"
      },
      "id": "Fkm3V25dNoU7",
      "execution_count": null,
      "outputs": []
    },
    {
      "cell_type": "code",
      "execution_count": null,
      "id": "855166b1",
      "metadata": {
        "ExecuteTime": {
          "end_time": "2023-06-08T10:57:08.087368500Z",
          "start_time": "2023-06-08T10:54:52.005941600Z"
        },
        "id": "855166b1"
      },
      "outputs": [],
      "source": [
        "trainer.fit(model, datamodule=dm)"
      ]
    },
    {
      "cell_type": "markdown",
      "source": [
        "# Оценка качества модели"
      ],
      "metadata": {
        "id": "BsJY_UGE7DI5"
      },
      "id": "BsJY_UGE7DI5"
    },
    {
      "cell_type": "code",
      "source": [
        "from sklearn.metrics import precision_score, recall_score, f1_score, classification_report, confusion_matrix\n",
        "import seaborn as sns\n",
        "\n",
        "def evaluate_model(model, val_dataloader):\n",
        "    device = next(model.parameters()).device\n",
        "\n",
        "    all_true_tags = []\n",
        "    all_pred_tags = []\n",
        "\n",
        "    model.eval()\n",
        "    with torch.no_grad():\n",
        "        for batch in val_dataloader:\n",
        "            _, tokens_sequence, embeddings_sequence, _, targets = batch\n",
        "            embeddings_sequence = embeddings_sequence.to(device)\n",
        "            targets = targets.to(device)\n",
        "\n",
        "            logits = model(embeddings_sequence)\n",
        "            preds = torch.argmax(logits, dim=-1)\n",
        "\n",
        "            for i in range(len(tokens_sequence)):\n",
        "                seq_len = len(tokens_sequence[i])\n",
        "                true_tags = targets[i][:seq_len].cpu().numpy()\n",
        "                pred_tags = preds[i][:seq_len].cpu().numpy()\n",
        "\n",
        "                all_true_tags.extend(true_tags)\n",
        "                all_pred_tags.extend(pred_tags)\n",
        "\n",
        "    true_tags = [index_to_tag[idx] for idx in all_true_tags if idx != tag_to_index[\"PAD\"]]\n",
        "    pred_tags = [index_to_tag[idx] for idx in all_pred_tags if idx != tag_to_index[\"PAD\"]]\n",
        "\n",
        "    overall_precision = precision_score(true_tags, pred_tags,\n",
        "                                      average='weighted', zero_division=0)\n",
        "    overall_recall = recall_score(true_tags, pred_tags,\n",
        "                                 average='weighted', zero_division=0)\n",
        "    overall_f1 = f1_score(true_tags, pred_tags,\n",
        "                          average='weighted', zero_division=0)\n",
        "\n",
        "    print(\"Итоговый результат:\")\n",
        "    print(f\"F1-score (weighted): {overall_f1:.4f}\")\n",
        "    print(f\"Precision (weighted): {overall_precision:.4f}\")\n",
        "    print(f\"Recall (weighted): {overall_recall:.4f}\\n\")\n",
        "\n",
        "    print(\"\\nОтчёт по классам:\")\n",
        "    for idx in range(len(true_tags) - true_tags.count('I-GOOD')):\n",
        "        if true_tags[idx] == 'I-GOOD':\n",
        "            true_tags.pop(idx)\n",
        "            pred_tags.pop(idx)\n",
        "    report = classification_report(true_tags, pred_tags, zero_division=0)\n",
        "    print(report)\n",
        "\n",
        "    tags = sorted(set(true_tags) | set(pred_tags))\n",
        "    cm = confusion_matrix(true_tags, pred_tags, labels=tags)\n",
        "\n",
        "    plt.figure(figsize=(5, 5))\n",
        "    sns.heatmap(cm, annot=True, fmt='d', cmap='Blues',\n",
        "                xticklabels=tags, yticklabels=tags)\n",
        "    plt.title('Confusion Matrix')\n",
        "    plt.xlabel('Предсказанные')\n",
        "    plt.ylabel('Истинные')\n",
        "    plt.xticks(rotation=45)\n",
        "    plt.yticks(rotation=0)\n",
        "    plt.tight_layout()\n",
        "    plt.show()\n",
        "\n",
        "    metrics = {\n",
        "        'overall': {\n",
        "            'f1': overall_f1,\n",
        "            'precision': overall_precision,\n",
        "            'recall': overall_recall\n",
        "        },\n",
        "        'detailed': classification_report(true_tags, pred_tags, output_dict=True)\n",
        "    }\n",
        "\n",
        "    return metrics"
      ],
      "metadata": {
        "id": "ShyJ4aTuRqd6"
      },
      "id": "ShyJ4aTuRqd6",
      "execution_count": null,
      "outputs": []
    },
    {
      "cell_type": "code",
      "source": [
        "metrics_train = evaluate_model(model, dm.train_dataloader())"
      ],
      "metadata": {
        "colab": {
          "base_uri": "https://localhost:8080/",
          "height": 981
        },
        "id": "Z7aoEiAVRtOl",
        "outputId": "dd3fc7df-1bc4-4b70-871c-f55c93eff82d"
      },
      "id": "Z7aoEiAVRtOl",
      "execution_count": null,
      "outputs": [
        {
          "output_type": "stream",
          "name": "stderr",
          "text": [
            "/usr/local/lib/python3.11/dist-packages/torch/utils/data/dataloader.py:624: UserWarning: This DataLoader will create 5 worker processes in total. Our suggested max number of worker in current system is 2, which is smaller than what this DataLoader is going to create. Please be aware that excessive worker creation might get DataLoader running slow or even freeze, lower the worker number to avoid potential slowness/freeze if necessary.\n",
            "  warnings.warn(\n"
          ]
        },
        {
          "output_type": "stream",
          "name": "stdout",
          "text": [
            "Итоговый результат:\n",
            "F1-score (weighted): 0.9047\n",
            "Precision (weighted): 0.9033\n",
            "Recall (weighted): 0.9062\n",
            "\n",
            "\n",
            "Отчёт по классам:\n",
            "              precision    recall  f1-score   support\n",
            "\n",
            "      B-GOOD       0.77      0.76      0.77     17277\n",
            "      I-GOOD       0.00      0.00      0.00         4\n",
            "           O       0.94      0.94      0.94     69740\n",
            "\n",
            "    accuracy                           0.91     87021\n",
            "   macro avg       0.57      0.57      0.57     87021\n",
            "weighted avg       0.91      0.91      0.91     87021\n",
            "\n"
          ]
        },
        {
          "output_type": "display_data",
          "data": {
            "text/plain": [
              "<Figure size 500x500 with 2 Axes>"
            ],
            "image/png": "[encoded data removed]"
          },
          "metadata": {}
        },
        {
          "output_type": "stream",
          "name": "stderr",
          "text": [
            "/usr/local/lib/python3.11/dist-packages/sklearn/metrics/_classification.py:1565: UndefinedMetricWarning: Precision is ill-defined and being set to 0.0 in labels with no predicted samples. Use `zero_division` parameter to control this behavior.\n",
            "  _warn_prf(average, modifier, f\"{metric.capitalize()} is\", len(result))\n",
            "/usr/local/lib/python3.11/dist-packages/sklearn/metrics/_classification.py:1565: UndefinedMetricWarning: Precision is ill-defined and being set to 0.0 in labels with no predicted samples. Use `zero_division` parameter to control this behavior.\n",
            "  _warn_prf(average, modifier, f\"{metric.capitalize()} is\", len(result))\n",
            "/usr/local/lib/python3.11/dist-packages/sklearn/metrics/_classification.py:1565: UndefinedMetricWarning: Precision is ill-defined and being set to 0.0 in labels with no predicted samples. Use `zero_division` parameter to control this behavior.\n",
            "  _warn_prf(average, modifier, f\"{metric.capitalize()} is\", len(result))\n"
          ]
        }
      ]
    },
    {
      "cell_type": "code",
      "source": [
        "metrics_val = evaluate_model(model, dm.val_dataloader())"
      ],
      "metadata": {
        "colab": {
          "base_uri": "https://localhost:8080/",
          "height": 981
        },
        "id": "meveaVFcYf58",
        "outputId": "7aa44ff3-5381-43e5-d0d6-1c2bdbcad2f1"
      },
      "id": "meveaVFcYf58",
      "execution_count": null,
      "outputs": [
        {
          "output_type": "stream",
          "name": "stderr",
          "text": [
            "/usr/local/lib/python3.11/dist-packages/torch/utils/data/dataloader.py:624: UserWarning: This DataLoader will create 5 worker processes in total. Our suggested max number of worker in current system is 2, which is smaller than what this DataLoader is going to create. Please be aware that excessive worker creation might get DataLoader running slow or even freeze, lower the worker number to avoid potential slowness/freeze if necessary.\n",
            "  warnings.warn(\n"
          ]
        },
        {
          "output_type": "stream",
          "name": "stdout",
          "text": [
            "Итоговый результат:\n",
            "F1-score (weighted): 0.9071\n",
            "Precision (weighted): 0.9056\n",
            "Recall (weighted): 0.9086\n",
            "\n",
            "\n",
            "Отчёт по классам:\n",
            "              precision    recall  f1-score   support\n",
            "\n",
            "      B-GOOD       0.78      0.76      0.77      2153\n",
            "      I-GOOD       0.00      0.00      0.00         1\n",
            "           O       0.94      0.95      0.94      8764\n",
            "\n",
            "    accuracy                           0.91     10918\n",
            "   macro avg       0.57      0.57      0.57     10918\n",
            "weighted avg       0.91      0.91      0.91     10918\n",
            "\n"
          ]
        },
        {
          "output_type": "display_data",
          "data": {
            "text/plain": [
              "<Figure size 500x500 with 2 Axes>"
            ],
            "image/png": "[encoded data removed]"
          },
          "metadata": {}
        },
        {
          "output_type": "stream",
          "name": "stderr",
          "text": [
            "/usr/local/lib/python3.11/dist-packages/sklearn/metrics/_classification.py:1565: UndefinedMetricWarning: Precision is ill-defined and being set to 0.0 in labels with no predicted samples. Use `zero_division` parameter to control this behavior.\n",
            "  _warn_prf(average, modifier, f\"{metric.capitalize()} is\", len(result))\n",
            "/usr/local/lib/python3.11/dist-packages/sklearn/metrics/_classification.py:1565: UndefinedMetricWarning: Precision is ill-defined and being set to 0.0 in labels with no predicted samples. Use `zero_division` parameter to control this behavior.\n",
            "  _warn_prf(average, modifier, f\"{metric.capitalize()} is\", len(result))\n",
            "/usr/local/lib/python3.11/dist-packages/sklearn/metrics/_classification.py:1565: UndefinedMetricWarning: Precision is ill-defined and being set to 0.0 in labels with no predicted samples. Use `zero_division` parameter to control this behavior.\n",
            "  _warn_prf(average, modifier, f\"{metric.capitalize()} is\", len(result))\n"
          ]
        }
      ]
    },
    {
      "cell_type": "code",
      "source": [
        "metrics_test = evaluate_model(model, dm.test_dataloader())"
      ],
      "metadata": {
        "id": "MGE7RREi8TDR",
        "colab": {
          "base_uri": "https://localhost:8080/",
          "height": 854
        },
        "outputId": "412f5f5b-4de2-432c-8c74-004648f87d6a"
      },
      "id": "MGE7RREi8TDR",
      "execution_count": null,
      "outputs": [
        {
          "output_type": "stream",
          "name": "stderr",
          "text": [
            "/usr/local/lib/python3.11/dist-packages/torch/utils/data/dataloader.py:624: UserWarning: This DataLoader will create 5 worker processes in total. Our suggested max number of worker in current system is 2, which is smaller than what this DataLoader is going to create. Please be aware that excessive worker creation might get DataLoader running slow or even freeze, lower the worker number to avoid potential slowness/freeze if necessary.\n",
            "  warnings.warn(\n"
          ]
        },
        {
          "output_type": "stream",
          "name": "stdout",
          "text": [
            "Итоговый результат:\n",
            "F1-score (weighted): 0.9021\n",
            "Precision (weighted): 0.9006\n",
            "Recall (weighted): 0.9037\n",
            "\n",
            "\n",
            "Отчёт по классам:\n",
            "              precision    recall  f1-score   support\n",
            "\n",
            "      B-GOOD       0.78      0.75      0.76      2180\n",
            "           O       0.94      0.94      0.94      8597\n",
            "\n",
            "    accuracy                           0.91     10777\n",
            "   macro avg       0.86      0.85      0.85     10777\n",
            "weighted avg       0.90      0.91      0.91     10777\n",
            "\n"
          ]
        },
        {
          "output_type": "display_data",
          "data": {
            "text/plain": [
              "<Figure size 500x500 with 2 Axes>"
            ],
            "image/png": "[encoded data removed]"
          },
          "metadata": {}
        }
      ]
    },
    {
      "cell_type": "markdown",
      "source": [
        "# Получение предсказаний"
      ],
      "metadata": {
        "id": "whBMtvqS8ejb"
      },
      "id": "whBMtvqS8ejb"
    },
    {
      "cell_type": "code",
      "source": [
        "def print_predictions(model, val_dataloader, num_samples=5):\n",
        "    device = next(model.parameters()).device\n",
        "\n",
        "    model.eval()\n",
        "    samples_shown = 0\n",
        "\n",
        "    with torch.no_grad():\n",
        "        for batch in val_dataloader:\n",
        "            ids, tokens_sequence, embeddings_sequence, _, targets = batch\n",
        "            embeddings_sequence = embeddings_sequence.to(device)\n",
        "            targets = targets.to(device)\n",
        "\n",
        "            logits = model(embeddings_sequence)\n",
        "            preds = torch.argmax(logits, dim=-1)\n",
        "\n",
        "            for i in range(len(tokens_sequence)):\n",
        "                if samples_shown >= num_samples:\n",
        "                    return\n",
        "\n",
        "                tokens = tokens_sequence[i]\n",
        "                seq_len = len(tokens)\n",
        "\n",
        "                pred_tags = [index_to_tag[preds[i][j].item()] for j in range(seq_len)]\n",
        "                true_tags = [index_to_tag[targets[i][j].item()] for j in range(seq_len)]\n",
        "\n",
        "                print(f\"\\nПредсказание {samples_shown + 1}:\")\n",
        "                print(f\"Tokens: {tokens}\")\n",
        "                print(f\"Predicted: {pred_tags}\")\n",
        "                print(f\"True: {true_tags}\")\n",
        "\n",
        "                samples_shown += 1"
      ],
      "metadata": {
        "id": "RG6xwzaIR2rm"
      },
      "id": "RG6xwzaIR2rm",
      "execution_count": null,
      "outputs": []
    },
    {
      "cell_type": "code",
      "source": [
        "print_predictions(model, dm.val_dataloader(), num_samples=5)"
      ],
      "metadata": {
        "colab": {
          "base_uri": "https://localhost:8080/"
        },
        "id": "oCCSq2nsSwGT",
        "outputId": "83396af9-cb03-4671-dbc1-2026ba192f79"
      },
      "id": "oCCSq2nsSwGT",
      "execution_count": null,
      "outputs": [
        {
          "output_type": "stream",
          "name": "stdout",
          "text": [
            "\n",
            "Предсказание 1:\n",
            "Tokens: ['рос', 'респиратор', 'у-2к']\n",
            "Predicted: ['B-GOOD', 'O', 'O']\n",
            "True: ['O', 'B-GOOD', 'O']\n",
            "\n",
            "Предсказание 2:\n",
            "Tokens: ['чай', 'нури', 'bopf', '100пак', 'высокогорный', 'орими']\n",
            "Predicted: ['B-GOOD', 'O', 'O', 'O', 'O', 'O']\n",
            "True: ['B-GOOD', 'O', 'O', 'O', 'O', 'O']\n",
            "\n",
            "Предсказание 3:\n",
            "Tokens: ['2)', '4002d-48x-110', 'шорты', 'девочки']\n",
            "Predicted: ['O', 'O', 'O', 'O']\n",
            "True: ['O', 'O', 'B-GOOD', 'O']\n",
            "\n",
            "Предсказание 4:\n",
            "Tokens: ['напиток', 'алтайский']\n",
            "Predicted: ['B-GOOD', 'O']\n",
            "True: ['B-GOOD', 'O']\n",
            "\n",
            "Предсказание 5:\n",
            "Tokens: ['десерт', 'своя', 'корова', 'варёнкой']\n",
            "Predicted: ['B-GOOD', 'O', 'O', 'O']\n",
            "True: ['B-GOOD', 'O', 'O', 'O']\n"
          ]
        }
      ]
    },
    {
      "cell_type": "markdown",
      "source": [
        "Получение итоговых сущностей для тестового датасета"
      ],
      "metadata": {
        "id": "fu8OeMot7c0C"
      },
      "id": "fu8OeMot7c0C"
    },
    {
      "cell_type": "code",
      "execution_count": null,
      "id": "0ac2a974",
      "metadata": {
        "ExecuteTime": {
          "end_time": "2023-06-08T10:57:13.252851200Z",
          "start_time": "2023-06-08T10:57:08.087368500Z"
        },
        "colab": {
          "base_uri": "https://localhost:8080/",
          "height": 123,
          "referenced_widgets": [
            "a61be028c1bf49aea55d848920d6b88b",
            "3b22dca6d163445787a6a1094f530952",
            "0d4b36a4992f47ddb9e27f9ccafa9d2d",
            "9a64c24e14424ba481dc16515eea536e",
            "5a8bdc83082d4ac5879cd289737730fe",
            "d22b7585404243f7a734c896ecf0b4f5",
            "5c988f9e65964ab9af221d0661729af8",
            "14b77f10d249460a9f0a2d6f6d77787b",
            "cbf610a337414c3385be575601b09fc4",
            "49aae459fe154475b70ea2f55b3ad8e2",
            "c3bdb03af4e64fecb9b3c17b3caa5d06"
          ]
        },
        "id": "0ac2a974",
        "outputId": "aff20f6a-3118-4461-d341-28087d145874"
      },
      "outputs": [
        {
          "output_type": "stream",
          "name": "stderr",
          "text": [
            "INFO:pytorch_lightning.accelerators.cuda:LOCAL_RANK: 0 - CUDA_VISIBLE_DEVICES: [0]\n",
            "/usr/local/lib/python3.11/dist-packages/torch/utils/data/dataloader.py:624: UserWarning: This DataLoader will create 5 worker processes in total. Our suggested max number of worker in current system is 2, which is smaller than what this DataLoader is going to create. Please be aware that excessive worker creation might get DataLoader running slow or even freeze, lower the worker number to avoid potential slowness/freeze if necessary.\n",
            "  warnings.warn(\n"
          ]
        },
        {
          "output_type": "display_data",
          "data": {
            "text/plain": [
              "Predicting: |          | 0/? [00:00<?, ?it/s]"
            ],
            "application/vnd.jupyter.widget-view+json": {
              "version_major": 2,
              "version_minor": 0,
              "model_id": "a61be028c1bf49aea55d848920d6b88b"
            }
          },
          "metadata": {}
        }
      ],
      "source": [
        "pred = trainer.predict(model, datamodule=dm)"
      ]
    },
    {
      "cell_type": "code",
      "execution_count": null,
      "id": "f54e3b34",
      "metadata": {
        "ExecuteTime": {
          "end_time": "2023-06-08T10:57:13.267357500Z",
          "start_time": "2023-06-08T10:57:13.254926100Z"
        },
        "colab": {
          "base_uri": "https://localhost:8080/",
          "height": 206
        },
        "id": "f54e3b34",
        "outputId": "89fb981e-061a-40aa-cfcc-04c45f6bff2e"
      },
      "outputs": [
        {
          "output_type": "execute_result",
          "data": {
            "text/plain": [
              "   id       good\n",
              "0   0           \n",
              "1   1       торт\n",
              "2   2  смеситель\n",
              "3   3      лимон\n",
              "4   4     коньяк"
            ],
            "text/html": [
              "\n",
              "  <div id=\"df-bef4c77d-f2f9-46e9-9eb3-1971c067d40d\" class=\"colab-df-container\">\n",
              "    <div>\n",
              "<style scoped>\n",
              "    .dataframe tbody tr th:only-of-type {\n",
              "        vertical-align: middle;\n",
              "    }\n",
              "\n",
              "    .dataframe tbody tr th {\n",
              "        vertical-align: top;\n",
              "    }\n",
              "\n",
              "    .dataframe thead th {\n",
              "        text-align: right;\n",
              "    }\n",
              "</style>\n",
              "<table border=\"1\" class=\"dataframe\">\n",
              "  <thead>\n",
              "    <tr style=\"text-align: right;\">\n",
              "      <th></th>\n",
              "      <th>id</th>\n",
              "      <th>good</th>\n",
              "    </tr>\n",
              "  </thead>\n",
              "  <tbody>\n",
              "    <tr>\n",
              "      <th>0</th>\n",
              "      <td>0</td>\n",
              "      <td></td>\n",
              "    </tr>\n",
              "    <tr>\n",
              "      <th>1</th>\n",
              "      <td>1</td>\n",
              "      <td>торт</td>\n",
              "    </tr>\n",
              "    <tr>\n",
              "      <th>2</th>\n",
              "      <td>2</td>\n",
              "      <td>смеситель</td>\n",
              "    </tr>\n",
              "    <tr>\n",
              "      <th>3</th>\n",
              "      <td>3</td>\n",
              "      <td>лимон</td>\n",
              "    </tr>\n",
              "    <tr>\n",
              "      <th>4</th>\n",
              "      <td>4</td>\n",
              "      <td>коньяк</td>\n",
              "    </tr>\n",
              "  </tbody>\n",
              "</table>\n",
              "</div>\n",
              "    <div class=\"colab-df-buttons\">\n",
              "\n",
              "  <div class=\"colab-df-container\">\n",
              "    <button class=\"colab-df-convert\" onclick=\"convertToInteractive('df-bef4c77d-f2f9-46e9-9eb3-1971c067d40d')\"\n",
              "            title=\"Convert this dataframe to an interactive table.\"\n",
              "            style=\"display:none;\">\n",
              "\n",
              "  <svg xmlns=\"http://www.w3.org/2000/svg\" height=\"24px\" viewBox=\"0 -960 960 960\">\n",
              "    <path d=\"M120-120v-720h720v720H120Zm60-500h600v-160H180v160Zm220 220h160v-160H400v160Zm0 220h160v-160H400v160ZM180-400h160v-160H180v160Zm440 0h160v-160H620v160ZM180-180h160v-160H180v160Zm440 0h160v-160H620v160Z\"/>\n",
              "  </svg>\n",
              "    </button>\n",
              "\n",
              "  <style>\n",
              "    .colab-df-container {\n",
              "      display:flex;\n",
              "      gap: 12px;\n",
              "    }\n",
              "\n",
              "    .colab-df-convert {\n",
              "      background-color: #E8F0FE;\n",
              "      border: none;\n",
              "      border-radius: 50%;\n",
              "      cursor: pointer;\n",
              "      display: none;\n",
              "      fill: #1967D2;\n",
              "      height: 32px;\n",
              "      padding: 0 0 0 0;\n",
              "      width: 32px;\n",
              "    }\n",
              "\n",
              "    .colab-df-convert:hover {\n",
              "      background-color: #E2EBFA;\n",
              "      box-shadow: 0px 1px 2px rgba(60, 64, 67, 0.3), 0px 1px 3px 1px rgba(60, 64, 67, 0.15);\n",
              "      fill: #174EA6;\n",
              "    }\n",
              "\n",
              "    .colab-df-buttons div {\n",
              "      margin-bottom: 4px;\n",
              "    }\n",
              "\n",
              "    [theme=dark] .colab-df-convert {\n",
              "      background-color: #3B4455;\n",
              "      fill: #D2E3FC;\n",
              "    }\n",
              "\n",
              "    [theme=dark] .colab-df-convert:hover {\n",
              "      background-color: #434B5C;\n",
              "      box-shadow: 0px 1px 3px 1px rgba(0, 0, 0, 0.15);\n",
              "      filter: drop-shadow(0px 1px 2px rgba(0, 0, 0, 0.3));\n",
              "      fill: #FFFFFF;\n",
              "    }\n",
              "  </style>\n",
              "\n",
              "    <script>\n",
              "      const buttonEl =\n",
              "        document.querySelector('#df-bef4c77d-f2f9-46e9-9eb3-1971c067d40d button.colab-df-convert');\n",
              "      buttonEl.style.display =\n",
              "        google.colab.kernel.accessAllowed ? 'block' : 'none';\n",
              "\n",
              "      async function convertToInteractive(key) {\n",
              "        const element = document.querySelector('#df-bef4c77d-f2f9-46e9-9eb3-1971c067d40d');\n",
              "        const dataTable =\n",
              "          await google.colab.kernel.invokeFunction('convertToInteractive',\n",
              "                                                    [key], {});\n",
              "        if (!dataTable) return;\n",
              "\n",
              "        const docLinkHtml = 'Like what you see? Visit the ' +\n",
              "          '<a target=\"_blank\" href=https://colab.research.google.com/notebooks/data_table.ipynb>data table notebook</a>'\n",
              "          + ' to learn more about interactive tables.';\n",
              "        element.innerHTML = '';\n",
              "        dataTable['output_type'] = 'display_data';\n",
              "        await google.colab.output.renderOutput(dataTable, element);\n",
              "        const docLink = document.createElement('div');\n",
              "        docLink.innerHTML = docLinkHtml;\n",
              "        element.appendChild(docLink);\n",
              "      }\n",
              "    </script>\n",
              "  </div>\n",
              "\n",
              "\n",
              "    <div id=\"df-e4f067ea-d7d9-4f3c-ac8c-c59fd5a3f82e\">\n",
              "      <button class=\"colab-df-quickchart\" onclick=\"quickchart('df-e4f067ea-d7d9-4f3c-ac8c-c59fd5a3f82e')\"\n",
              "                title=\"Suggest charts\"\n",
              "                style=\"display:none;\">\n",
              "\n",
              "<svg xmlns=\"http://www.w3.org/2000/svg\" height=\"24px\"viewBox=\"0 0 24 24\"\n",
              "     width=\"24px\">\n",
              "    <g>\n",
              "        <path d=\"M19 3H5c-1.1 0-2 .9-2 2v14c0 1.1.9 2 2 2h14c1.1 0 2-.9 2-2V5c0-1.1-.9-2-2-2zM9 17H7v-7h2v7zm4 0h-2V7h2v10zm4 0h-2v-4h2v4z\"/>\n",
              "    </g>\n",
              "</svg>\n",
              "      </button>\n",
              "\n",
              "<style>\n",
              "  .colab-df-quickchart {\n",
              "      --bg-color: #E8F0FE;\n",
              "      --fill-color: #1967D2;\n",
              "      --hover-bg-color: #E2EBFA;\n",
              "      --hover-fill-color: #174EA6;\n",
              "      --disabled-fill-color: #AAA;\n",
              "      --disabled-bg-color: #DDD;\n",
              "  }\n",
              "\n",
              "  [theme=dark] .colab-df-quickchart {\n",
              "      --bg-color: #3B4455;\n",
              "      --fill-color: #D2E3FC;\n",
              "      --hover-bg-color: #434B5C;\n",
              "      --hover-fill-color: #FFFFFF;\n",
              "      --disabled-bg-color: #3B4455;\n",
              "      --disabled-fill-color: #666;\n",
              "  }\n",
              "\n",
              "  .colab-df-quickchart {\n",
              "    background-color: var(--bg-color);\n",
              "    border: none;\n",
              "    border-radius: 50%;\n",
              "    cursor: pointer;\n",
              "    display: none;\n",
              "    fill: var(--fill-color);\n",
              "    height: 32px;\n",
              "    padding: 0;\n",
              "    width: 32px;\n",
              "  }\n",
              "\n",
              "  .colab-df-quickchart:hover {\n",
              "    background-color: var(--hover-bg-color);\n",
              "    box-shadow: 0 1px 2px rgba(60, 64, 67, 0.3), 0 1px 3px 1px rgba(60, 64, 67, 0.15);\n",
              "    fill: var(--button-hover-fill-color);\n",
              "  }\n",
              "\n",
              "  .colab-df-quickchart-complete:disabled,\n",
              "  .colab-df-quickchart-complete:disabled:hover {\n",
              "    background-color: var(--disabled-bg-color);\n",
              "    fill: var(--disabled-fill-color);\n",
              "    box-shadow: none;\n",
              "  }\n",
              "\n",
              "  .colab-df-spinner {\n",
              "    border: 2px solid var(--fill-color);\n",
              "    border-color: transparent;\n",
              "    border-bottom-color: var(--fill-color);\n",
              "    animation:\n",
              "      spin 1s steps(1) infinite;\n",
              "  }\n",
              "\n",
              "  @keyframes spin {\n",
              "    0% {\n",
              "      border-color: transparent;\n",
              "      border-bottom-color: var(--fill-color);\n",
              "      border-left-color: var(--fill-color);\n",
              "    }\n",
              "    20% {\n",
              "      border-color: transparent;\n",
              "      border-left-color: var(--fill-color);\n",
              "      border-top-color: var(--fill-color);\n",
              "    }\n",
              "    30% {\n",
              "      border-color: transparent;\n",
              "      border-left-color: var(--fill-color);\n",
              "      border-top-color: var(--fill-color);\n",
              "      border-right-color: var(--fill-color);\n",
              "    }\n",
              "    40% {\n",
              "      border-color: transparent;\n",
              "      border-right-color: var(--fill-color);\n",
              "      border-top-color: var(--fill-color);\n",
              "    }\n",
              "    60% {\n",
              "      border-color: transparent;\n",
              "      border-right-color: var(--fill-color);\n",
              "    }\n",
              "    80% {\n",
              "      border-color: transparent;\n",
              "      border-right-color: var(--fill-color);\n",
              "      border-bottom-color: var(--fill-color);\n",
              "    }\n",
              "    90% {\n",
              "      border-color: transparent;\n",
              "      border-bottom-color: var(--fill-color);\n",
              "    }\n",
              "  }\n",
              "</style>\n",
              "\n",
              "      <script>\n",
              "        async function quickchart(key) {\n",
              "          const quickchartButtonEl =\n",
              "            document.querySelector('#' + key + ' button');\n",
              "          quickchartButtonEl.disabled = true;  // To prevent multiple clicks.\n",
              "          quickchartButtonEl.classList.add('colab-df-spinner');\n",
              "          try {\n",
              "            const charts = await google.colab.kernel.invokeFunction(\n",
              "                'suggestCharts', [key], {});\n",
              "          } catch (error) {\n",
              "            console.error('Error during call to suggestCharts:', error);\n",
              "          }\n",
              "          quickchartButtonEl.classList.remove('colab-df-spinner');\n",
              "          quickchartButtonEl.classList.add('colab-df-quickchart-complete');\n",
              "        }\n",
              "        (() => {\n",
              "          let quickchartButtonEl =\n",
              "            document.querySelector('#df-e4f067ea-d7d9-4f3c-ac8c-c59fd5a3f82e button');\n",
              "          quickchartButtonEl.style.display =\n",
              "            google.colab.kernel.accessAllowed ? 'block' : 'none';\n",
              "        })();\n",
              "      </script>\n",
              "    </div>\n",
              "    </div>\n",
              "  </div>\n"
            ],
            "application/vnd.google.colaboratory.intrinsic+json": {
              "type": "dataframe",
              "variable_name": "submission",
              "summary": "{\n  \"name\": \"submission\",\n  \"rows\": 5000,\n  \"fields\": [\n    {\n      \"column\": \"id\",\n      \"properties\": {\n        \"dtype\": \"number\",\n        \"std\": 1443,\n        \"min\": 0,\n        \"max\": 4999,\n        \"num_unique_values\": 5000,\n        \"samples\": [\n          1501,\n          2586,\n          2653\n        ],\n        \"semantic_type\": \"\",\n        \"description\": \"\"\n      }\n    },\n    {\n      \"column\": \"good\",\n      \"properties\": {\n        \"dtype\": \"category\",\n        \"num_unique_values\": 1358,\n        \"samples\": [\n          \"\\u0447\\u0435\\u0440\\u043d\\u044b\\u0439\",\n          \"\\u0441\\u0442\\u0435\\u0439\\u043a\",\n          \"\\u0448\\u043a\\u0443\\u0440\\u043a\\u0430\"\n        ],\n        \"semantic_type\": \"\",\n        \"description\": \"\"\n      }\n    }\n  ]\n}"
            }
          },
          "metadata": {},
          "execution_count": 51
        }
      ],
      "source": [
        "submission = pd.DataFrame(sum(pred, list()), columns=[\"id\", \"good\"])\n",
        "submission.head()"
      ]
    },
    {
      "cell_type": "code",
      "execution_count": null,
      "id": "d054b57d",
      "metadata": {
        "ExecuteTime": {
          "end_time": "2023-06-08T10:57:13.277342Z",
          "start_time": "2023-06-08T10:57:13.270233600Z"
        },
        "id": "d054b57d"
      },
      "outputs": [],
      "source": [
        "submission.to_csv(\"submission_baseline.csv\", index=False)"
      ]
    },
    {
      "cell_type": "markdown",
      "source": [
        "# Альтернативные архитектуры"
      ],
      "metadata": {
        "id": "lmXqf4CAQN8j"
      },
      "id": "lmXqf4CAQN8j"
    },
    {
      "cell_type": "markdown",
      "source": [
        "## LSTM"
      ],
      "metadata": {
        "id": "QretAhGnQSgr"
      },
      "id": "QretAhGnQSgr"
    },
    {
      "cell_type": "code",
      "source": [
        "class ReceiptsModule1(pl.LightningModule):\n",
        "    def __init__(self,\n",
        "                 rnn_input_size,\n",
        "                 rnn_hidden_size,\n",
        "                 rnn_num_layers,\n",
        "                 rnn_dropout,\n",
        "                 mlp_hidden_size,\n",
        "                 learning_rate):\n",
        "        super().__init__()\n",
        "        self.learning_rate = learning_rate\n",
        "        self.lstm = nn.LSTM(input_size=rnn_input_size,\n",
        "                    hidden_size=rnn_hidden_size,\n",
        "                    num_layers=rnn_num_layers,\n",
        "                    batch_first=True,\n",
        "                    dropout=rnn_dropout)\n",
        "        self.mlp = nn.Sequential(\n",
        "            nn.Linear(rnn_hidden_size, mlp_hidden_size),\n",
        "            nn.ReLU(),\n",
        "            nn.Linear(mlp_hidden_size, len(index_to_tag))\n",
        "        )\n",
        "        self.criterion = nn.CrossEntropyLoss(ignore_index=tag_to_index[\"PAD\"], reduction=\"mean\")\n",
        "        self.f1_good_train = F1Score()\n",
        "        self.f1_good_val = F1Score()\n",
        "\n",
        "    def forward(self, sequences):\n",
        "        sequences, _ = self.lstm(sequences)\n",
        "        logits = self.mlp(sequences)\n",
        "        return logits\n",
        "\n",
        "    def training_step(self, batch, _):\n",
        "        ids, tokens_sequence, embeddings_sequence, goods, targets = batch\n",
        "        logits = self(embeddings_sequence)\n",
        "        loss = self.criterion(logits.transpose(1, 2), targets)\n",
        "        tags_indices_sequence = torch.argmax(logits, dim=-1).detach().cpu().numpy().tolist()\n",
        "        for i, tags_indices in enumerate(tags_indices_sequence):\n",
        "            tags = [index_to_tag[index] for index in tags_indices[:len(tokens_sequence[i])]]\n",
        "            entities = get_entities(tags)\n",
        "            goods_pred = [' '.join(tokens_sequence[i][start:finish + 1]) for t, start, finish in entities if t == \"GOOD\"]\n",
        "            self.f1_good_train.update(goods_pred, goods[i])\n",
        "        self.log(\"loss/train\", loss, on_epoch=True, batch_size=len(tags_indices_sequence))\n",
        "        return loss\n",
        "\n",
        "    def on_train_epoch_end(self):\n",
        "        f1 = self.f1_good_train.get_f1()\n",
        "        precision = self.f1_good_train.get_precision()\n",
        "        recall = self.f1_good_train.get_recall()\n",
        "\n",
        "        self.log(\"metric/f1_good_train\", f1)\n",
        "        self.log(\"metric/precision_good_train\", precision)\n",
        "        self.log(\"metric/recall_good_train\", recall)\n",
        "\n",
        "        self.f1_good_train.reset()\n",
        "\n",
        "    def on_validation_epoch_end(self):\n",
        "        f1 = self.f1_good_val.get_f1()\n",
        "        precision = self.f1_good_val.get_precision()\n",
        "        recall = self.f1_good_val.get_recall()\n",
        "\n",
        "        self.log(\"metric/f1_good_val\", f1)\n",
        "        self.log(\"metric/precision_good_val\", precision)\n",
        "        self.log(\"metric/recall_good_val\", recall)\n",
        "\n",
        "        self.f1_good_val.reset()\n",
        "\n",
        "    def validation_step(self, batch, _):\n",
        "        ids, tokens_sequence, embeddings_sequence, goods, targets = batch\n",
        "        logits = self(embeddings_sequence)\n",
        "        loss = self.criterion(logits.transpose(1, 2), targets)\n",
        "        tags_indices_sequence = torch.argmax(logits, dim=-1).detach().cpu().numpy().tolist()\n",
        "        for i, tags_indices in enumerate(tags_indices_sequence):\n",
        "            tags = [index_to_tag[index] for index in tags_indices[:len(tokens_sequence[i])]]\n",
        "            entities = get_entities(tags)\n",
        "            goods_pred = [' '.join(tokens_sequence[i][start:finish + 1]) for t, start, finish in entities if t == \"GOOD\"]\n",
        "            self.f1_good_val.update(goods_pred, goods[i])\n",
        "        self.log(\"loss/val\", loss, batch_size=len(tags_indices_sequence))\n",
        "\n",
        "    def predict_step(self, batch, _):\n",
        "        ids, tokens_sequence, embeddings_sequence, _, _ = batch\n",
        "        logits = self(embeddings_sequence)\n",
        "        tags_indices_sequence = torch.argmax(logits, dim=-1).detach().cpu().numpy().tolist()\n",
        "        result = list()\n",
        "        for i, tags_indices in enumerate(tags_indices_sequence):\n",
        "            tags = [index_to_tag[index] for index in tags_indices[:len(tokens_sequence[i])]]\n",
        "            entities = get_entities(tags)\n",
        "            goods_pred = ','.join([' '.join(tokens_sequence[i][start:finish + 1]) for t, start, finish in entities if t == \"GOOD\"])\n",
        "            result.append([ids[i], goods_pred])\n",
        "        return result\n",
        "\n",
        "    def configure_optimizers(self):\n",
        "        return torch.optim.Adam(self.parameters(), self.learning_rate, weight_decay=0.001)"
      ],
      "metadata": {
        "id": "trYxkc5BToKq"
      },
      "id": "trYxkc5BToKq",
      "execution_count": null,
      "outputs": []
    },
    {
      "cell_type": "code",
      "execution_count": null,
      "metadata": {
        "ExecuteTime": {
          "end_time": "2023-06-08T10:54:51.855590100Z",
          "start_time": "2023-06-08T10:54:51.838893600Z"
        },
        "id": "Lus_1fvPUXQN"
      },
      "outputs": [],
      "source": [
        "RNN_INPUT_SIZE = 300\n",
        "RNN_HIDDEN_SIZE = 300\n",
        "RNN_NUM_LAYERS = 3\n",
        "RNN_DROPOUT = 0.1\n",
        "MLP_HIDDEN_SIZE = 500\n",
        "LEARNING_RATE = 1e-4\n",
        "model1 = ReceiptsModule1(\n",
        "    RNN_INPUT_SIZE,\n",
        "    RNN_HIDDEN_SIZE,\n",
        "    RNN_NUM_LAYERS,\n",
        "    RNN_DROPOUT,\n",
        "    MLP_HIDDEN_SIZE,\n",
        "    LEARNING_RATE\n",
        ")"
      ],
      "id": "Lus_1fvPUXQN"
    },
    {
      "cell_type": "code",
      "execution_count": null,
      "metadata": {
        "ExecuteTime": {
          "end_time": "2023-06-08T10:54:51.960372Z",
          "start_time": "2023-06-08T10:54:51.856590400Z"
        },
        "colab": {
          "base_uri": "https://localhost:8080/"
        },
        "outputId": "771fd525-cf77-456f-ec2e-063201a96bad",
        "id": "q1sfDCJaUXQO"
      },
      "outputs": [
        {
          "output_type": "stream",
          "name": "stderr",
          "text": [
            "INFO:pytorch_lightning.utilities.rank_zero:Using default `ModelCheckpoint`. Consider installing `litmodels` package to enable `LitModelCheckpoint` for automatic upload to the Lightning model registry.\n",
            "INFO:pytorch_lightning.utilities.rank_zero:GPU available: True (cuda), used: True\n",
            "INFO:pytorch_lightning.utilities.rank_zero:TPU available: False, using: 0 TPU cores\n",
            "INFO:pytorch_lightning.utilities.rank_zero:HPU available: False, using: 0 HPUs\n"
          ]
        }
      ],
      "source": [
        "trainer = pl.Trainer(\n",
        "    accelerator=\"gpu\",\n",
        "    devices=[0],\n",
        "    logger=pl.loggers.TensorBoardLogger(\"tb_logs\", name=\"ner_lstm_baseline\"),\n",
        "    max_epochs=70,\n",
        "    log_every_n_steps=1\n",
        ")"
      ],
      "id": "q1sfDCJaUXQO"
    },
    {
      "cell_type": "code",
      "source": [
        "%load_ext tensorboard\n",
        "%tensorboard --logdir=tb_logs"
      ],
      "metadata": {
        "id": "mkMozDZvUXQO"
      },
      "execution_count": null,
      "outputs": [],
      "id": "mkMozDZvUXQO"
    },
    {
      "cell_type": "code",
      "source": [
        "import matplotlib.pyplot as plt"
      ],
      "metadata": {
        "id": "eRemiIEkWwhZ"
      },
      "id": "eRemiIEkWwhZ",
      "execution_count": null,
      "outputs": []
    },
    {
      "cell_type": "code",
      "execution_count": null,
      "metadata": {
        "ExecuteTime": {
          "end_time": "2023-06-08T10:57:08.087368500Z",
          "start_time": "2023-06-08T10:54:52.005941600Z"
        },
        "id": "etCYZUySUXQO"
      },
      "outputs": [],
      "source": [
        "trainer.fit(model1, datamodule=dm)"
      ],
      "id": "etCYZUySUXQO"
    },
    {
      "cell_type": "code",
      "source": [
        "metrics_val = evaluate_model(model1, dm.val_dataloader())"
      ],
      "metadata": {
        "colab": {
          "base_uri": "https://localhost:8080/",
          "height": 944
        },
        "outputId": "9f1026ca-f627-48ba-9e04-1b345482cc12",
        "id": "F-5pMKLnUXQQ"
      },
      "execution_count": null,
      "outputs": [
        {
          "output_type": "stream",
          "name": "stdout",
          "text": [
            "Итоговый результат:\n",
            "F1-score (weighted): 0.8990\n",
            "Precision (weighted): 0.8966\n",
            "Recall (weighted): 0.9018\n",
            "\n",
            "\n",
            "Отчёт по классам:\n",
            "              precision    recall  f1-score   support\n",
            "\n",
            "      B-GOOD       0.77      0.73      0.75      2145\n",
            "      I-GOOD       0.00      0.00      0.00         1\n",
            "           O       0.93      0.95      0.94      8826\n",
            "\n",
            "    accuracy                           0.91     10972\n",
            "   macro avg       0.57      0.56      0.56     10972\n",
            "weighted avg       0.90      0.91      0.90     10972\n",
            "\n"
          ]
        },
        {
          "output_type": "display_data",
          "data": {
            "text/plain": [
              "<Figure size 500x500 with 2 Axes>"
            ],
            "image/png": "[encoded data removed]"
          },
          "metadata": {}
        },
        {
          "output_type": "stream",
          "name": "stderr",
          "text": [
            "/usr/local/lib/python3.11/dist-packages/sklearn/metrics/_classification.py:1565: UndefinedMetricWarning: Precision is ill-defined and being set to 0.0 in labels with no predicted samples. Use `zero_division` parameter to control this behavior.\n",
            "  _warn_prf(average, modifier, f\"{metric.capitalize()} is\", len(result))\n",
            "/usr/local/lib/python3.11/dist-packages/sklearn/metrics/_classification.py:1565: UndefinedMetricWarning: Precision is ill-defined and being set to 0.0 in labels with no predicted samples. Use `zero_division` parameter to control this behavior.\n",
            "  _warn_prf(average, modifier, f\"{metric.capitalize()} is\", len(result))\n",
            "/usr/local/lib/python3.11/dist-packages/sklearn/metrics/_classification.py:1565: UndefinedMetricWarning: Precision is ill-defined and being set to 0.0 in labels with no predicted samples. Use `zero_division` parameter to control this behavior.\n",
            "  _warn_prf(average, modifier, f\"{metric.capitalize()} is\", len(result))\n"
          ]
        }
      ],
      "id": "F-5pMKLnUXQQ"
    },
    {
      "cell_type": "code",
      "source": [
        "metrics_test = evaluate_model(model1, dm.test_dataloader())"
      ],
      "metadata": {
        "colab": {
          "base_uri": "https://localhost:8080/",
          "height": 797
        },
        "id": "otf7nnwQWRUd",
        "outputId": "9fed8516-1dd5-42a9-f111-00df83a05cf2"
      },
      "id": "otf7nnwQWRUd",
      "execution_count": null,
      "outputs": [
        {
          "output_type": "stream",
          "name": "stdout",
          "text": [
            "Итоговый результат:\n",
            "F1-score (weighted): 0.9002\n",
            "Precision (weighted): 0.8984\n",
            "Recall (weighted): 0.9025\n",
            "\n",
            "\n",
            "Отчёт по классам:\n",
            "              precision    recall  f1-score   support\n",
            "\n",
            "      B-GOOD       0.78      0.74      0.76      2191\n",
            "           O       0.93      0.95      0.94      8613\n",
            "\n",
            "    accuracy                           0.90     10804\n",
            "   macro avg       0.86      0.84      0.85     10804\n",
            "weighted avg       0.90      0.90      0.90     10804\n",
            "\n"
          ]
        },
        {
          "output_type": "display_data",
          "data": {
            "text/plain": [
              "<Figure size 500x500 with 2 Axes>"
            ],
            "image/png": "[encoded data removed]"
          },
          "metadata": {}
        }
      ]
    },
    {
      "cell_type": "markdown",
      "source": [
        "## TransformerEncoder"
      ],
      "metadata": {
        "id": "w-VQFyH3XDDJ"
      },
      "id": "w-VQFyH3XDDJ"
    },
    {
      "cell_type": "code",
      "source": [
        "import torch\n",
        "import torch.nn as nn\n",
        "import pytorch_lightning as pl\n",
        "from torch.nn import TransformerEncoder, TransformerEncoderLayer\n",
        "\n",
        "class ReceiptsModule2(pl.LightningModule):\n",
        "    def __init__(self,\n",
        "                 rnn_input_size,\n",
        "                 rnn_hidden_size,\n",
        "                 rnn_num_layers,\n",
        "                 rnn_dropout,\n",
        "                 mlp_hidden_size,\n",
        "                 learning_rate,\n",
        "                 nhead=6,\n",
        "                 dim_feedforward=2048):\n",
        "        super().__init__()\n",
        "        self.learning_rate = learning_rate\n",
        "        self.save_hyperparameters()\n",
        "\n",
        "        encoder_layer = TransformerEncoderLayer(\n",
        "            d_model=rnn_input_size,\n",
        "            nhead=nhead,\n",
        "            dim_feedforward=dim_feedforward,\n",
        "            dropout=rnn_dropout,\n",
        "            batch_first=True\n",
        "        )\n",
        "        self.transformer = TransformerEncoder(\n",
        "            encoder_layer=encoder_layer,\n",
        "            num_layers=rnn_num_layers\n",
        "        )\n",
        "\n",
        "        self.mlp = nn.Sequential(\n",
        "            nn.Linear(rnn_hidden_size, mlp_hidden_size),\n",
        "            nn.ReLU(),\n",
        "            nn.Linear(mlp_hidden_size, len(index_to_tag))\n",
        "        )\n",
        "\n",
        "        self.criterion = nn.CrossEntropyLoss(ignore_index=tag_to_index[\"PAD\"], reduction=\"mean\")\n",
        "        self.f1_good_train = F1Score()\n",
        "        self.f1_good_val = F1Score()\n",
        "\n",
        "    def forward(self, sequences):\n",
        "        sequences = self.transformer(sequences)\n",
        "        logits = self.mlp(sequences)\n",
        "        return logits\n",
        "\n",
        "    def training_step(self, batch, _):\n",
        "        ids, tokens_sequence, embeddings_sequence, goods, targets = batch\n",
        "        logits = self(embeddings_sequence)\n",
        "        loss = self.criterion(logits.transpose(1, 2), targets)\n",
        "        tags_indices_sequence = torch.argmax(logits, dim=-1).detach().cpu().numpy().tolist()\n",
        "        for i, tags_indices in enumerate(tags_indices_sequence):\n",
        "            tags = [index_to_tag[index] for index in tags_indices[:len(tokens_sequence[i])]]\n",
        "            entities = get_entities(tags)\n",
        "            goods_pred = [' '.join(tokens_sequence[i][start:finish + 1]) for t, start, finish in entities if t == \"GOOD\"]\n",
        "            self.f1_good_train.update(goods_pred, goods[i])\n",
        "        self.log(\"loss/train\", loss, on_epoch=True, batch_size=len(tags_indices_sequence))\n",
        "        return loss\n",
        "\n",
        "    def on_train_epoch_end(self):\n",
        "        f1 = self.f1_good_train.get_f1()\n",
        "        precision = self.f1_good_train.get_precision()\n",
        "        recall = self.f1_good_train.get_recall()\n",
        "\n",
        "        self.log(\"metric/f1_good_train\", f1)\n",
        "        self.log(\"metric/precision_good_train\", precision)\n",
        "        self.log(\"metric/recall_good_train\", recall)\n",
        "\n",
        "        self.f1_good_train.reset()\n",
        "\n",
        "    def validation_step(self, batch, _):\n",
        "        ids, tokens_sequence, embeddings_sequence, goods, targets = batch\n",
        "        logits = self(embeddings_sequence)\n",
        "        loss = self.criterion(logits.transpose(1, 2), targets)\n",
        "        tags_indices_sequence = torch.argmax(logits, dim=-1).detach().cpu().numpy().tolist()\n",
        "        for i, tags_indices in enumerate(tags_indices_sequence):\n",
        "            tags = [index_to_tag[index] for index in tags_indices[:len(tokens_sequence[i])]]\n",
        "            entities = get_entities(tags)\n",
        "            goods_pred = [' '.join(tokens_sequence[i][start:finish + 1]) for t, start, finish in entities if t == \"GOOD\"]\n",
        "            self.f1_good_val.update(goods_pred, goods[i])\n",
        "        self.log(\"loss/val\", loss, batch_size=len(tags_indices_sequence))\n",
        "\n",
        "    def on_validation_epoch_end(self):\n",
        "        f1 = self.f1_good_val.get_f1()\n",
        "        precision = self.f1_good_val.get_precision()\n",
        "        recall = self.f1_good_val.get_recall()\n",
        "\n",
        "        self.log(\"metric/f1_good_val\", f1)\n",
        "        self.log(\"metric/precision_good_val\", precision)\n",
        "        self.log(\"metric/recall_good_val\", recall)\n",
        "\n",
        "        self.f1_good_val.reset()\n",
        "\n",
        "    def predict_step(self, batch, _):\n",
        "        ids, tokens_sequence, embeddings_sequence, _, _ = batch\n",
        "        logits = self(embeddings_sequence)\n",
        "        tags_indices_sequence = torch.argmax(logits, dim=-1).detach().cpu().numpy().tolist()\n",
        "        result = list()\n",
        "        for i, tags_indices in enumerate(tags_indices_sequence):\n",
        "            tags = [index_to_tag[index] for index in tags_indices[:len(tokens_sequence[i])]]\n",
        "            entities = get_entities(tags)\n",
        "            goods_pred = ','.join([' '.join(tokens_sequence[i][start:finish + 1]) for t, start, finish in entities if t == \"GOOD\"])\n",
        "            result.append([ids[i], goods_pred])\n",
        "        return result\n",
        "\n",
        "    def configure_optimizers(self):\n",
        "        return torch.optim.Adam(self.parameters(), self.learning_rate, weight_decay=0.001)"
      ],
      "metadata": {
        "id": "XOZBCQ26ZHWL"
      },
      "id": "XOZBCQ26ZHWL",
      "execution_count": null,
      "outputs": []
    },
    {
      "cell_type": "code",
      "execution_count": null,
      "metadata": {
        "ExecuteTime": {
          "end_time": "2023-06-08T10:54:51.855590100Z",
          "start_time": "2023-06-08T10:54:51.838893600Z"
        },
        "id": "hNdsIqNXaGNy"
      },
      "outputs": [],
      "source": [
        "RNN_INPUT_SIZE = 300\n",
        "RNN_HIDDEN_SIZE = 300\n",
        "RNN_NUM_LAYERS = 3\n",
        "RNN_DROPOUT = 0.1\n",
        "MLP_HIDDEN_SIZE = 500\n",
        "LEARNING_RATE = 1e-4\n",
        "model2 = ReceiptsModule2(\n",
        "    RNN_INPUT_SIZE,\n",
        "    RNN_HIDDEN_SIZE,\n",
        "    RNN_NUM_LAYERS,\n",
        "    RNN_DROPOUT,\n",
        "    MLP_HIDDEN_SIZE,\n",
        "    LEARNING_RATE\n",
        ")"
      ],
      "id": "hNdsIqNXaGNy"
    },
    {
      "cell_type": "code",
      "source": [
        "from pytorch_lightning.callbacks import EarlyStopping\n",
        "\n",
        "early_stop_callback = EarlyStopping(\n",
        "    monitor='metric/f1_good_val',\n",
        "    patience=5,\n",
        "    verbose=True,\n",
        "    mode='max'\n",
        ")"
      ],
      "metadata": {
        "id": "Cu6si30Uhr_r"
      },
      "id": "Cu6si30Uhr_r",
      "execution_count": null,
      "outputs": []
    },
    {
      "cell_type": "code",
      "execution_count": null,
      "metadata": {
        "ExecuteTime": {
          "end_time": "2023-06-08T10:54:51.960372Z",
          "start_time": "2023-06-08T10:54:51.856590400Z"
        },
        "id": "U6xA20TcaGNz"
      },
      "outputs": [],
      "source": [
        "trainer = pl.Trainer(\n",
        "    accelerator=\"gpu\",\n",
        "    devices=[0],\n",
        "    logger=pl.loggers.TensorBoardLogger(\"tb_logs\", name=\"ner_trans_baseline\"),\n",
        "    max_epochs=30,\n",
        "    log_every_n_steps=1\n",
        ")"
      ],
      "id": "U6xA20TcaGNz"
    },
    {
      "cell_type": "code",
      "source": [
        "%load_ext tensorboard\n",
        "%tensorboard --logdir=tb_logs"
      ],
      "metadata": {
        "id": "RMJ_2lRueC5Y"
      },
      "id": "RMJ_2lRueC5Y",
      "execution_count": null,
      "outputs": []
    },
    {
      "cell_type": "code",
      "execution_count": null,
      "metadata": {
        "ExecuteTime": {
          "end_time": "2023-06-08T10:57:08.087368500Z",
          "start_time": "2023-06-08T10:54:52.005941600Z"
        },
        "id": "VhZv4dRmaGN0"
      },
      "outputs": [],
      "source": [
        "trainer.fit(model2, datamodule=dm)"
      ],
      "id": "VhZv4dRmaGN0"
    },
    {
      "cell_type": "code",
      "source": [
        "metrics_val = evaluate_model(model2, dm.val_dataloader())"
      ],
      "metadata": {
        "colab": {
          "base_uri": "https://localhost:8080/",
          "height": 944
        },
        "outputId": "7fa0a504-390f-4e76-c79e-06241a264011",
        "id": "6W29xyFuaGN1"
      },
      "execution_count": null,
      "outputs": [
        {
          "output_type": "stream",
          "name": "stdout",
          "text": [
            "Итоговый результат:\n",
            "F1-score (weighted): 0.8081\n",
            "Precision (weighted): 0.8084\n",
            "Recall (weighted): 0.8302\n",
            "\n",
            "\n",
            "Отчёт по классам:\n",
            "              precision    recall  f1-score   support\n",
            "\n",
            "      B-GOOD       0.64      0.34      0.45      2151\n",
            "      I-GOOD       0.00      0.00      0.00         2\n",
            "           O       0.85      0.95      0.90      8740\n",
            "\n",
            "    accuracy                           0.83     10893\n",
            "   macro avg       0.50      0.43      0.45     10893\n",
            "weighted avg       0.81      0.83      0.81     10893\n",
            "\n"
          ]
        },
        {
          "output_type": "display_data",
          "data": {
            "text/plain": [
              "<Figure size 500x500 with 2 Axes>"
            ],
            "image/png": "[encoded data removed]"
          },
          "metadata": {}
        },
        {
          "output_type": "stream",
          "name": "stderr",
          "text": [
            "/usr/local/lib/python3.11/dist-packages/sklearn/metrics/_classification.py:1565: UndefinedMetricWarning: Precision is ill-defined and being set to 0.0 in labels with no predicted samples. Use `zero_division` parameter to control this behavior.\n",
            "  _warn_prf(average, modifier, f\"{metric.capitalize()} is\", len(result))\n",
            "/usr/local/lib/python3.11/dist-packages/sklearn/metrics/_classification.py:1565: UndefinedMetricWarning: Precision is ill-defined and being set to 0.0 in labels with no predicted samples. Use `zero_division` parameter to control this behavior.\n",
            "  _warn_prf(average, modifier, f\"{metric.capitalize()} is\", len(result))\n",
            "/usr/local/lib/python3.11/dist-packages/sklearn/metrics/_classification.py:1565: UndefinedMetricWarning: Precision is ill-defined and being set to 0.0 in labels with no predicted samples. Use `zero_division` parameter to control this behavior.\n",
            "  _warn_prf(average, modifier, f\"{metric.capitalize()} is\", len(result))\n"
          ]
        }
      ],
      "id": "6W29xyFuaGN1"
    },
    {
      "cell_type": "code",
      "source": [
        "metrics_test = evaluate_model(model2, dm.test_dataloader())"
      ],
      "metadata": {
        "colab": {
          "base_uri": "https://localhost:8080/",
          "height": 797
        },
        "outputId": "7f489dd2-6417-4113-d500-92c093041dac",
        "id": "2iNQhQ_saGN1"
      },
      "execution_count": null,
      "outputs": [
        {
          "output_type": "stream",
          "name": "stdout",
          "text": [
            "Итоговый результат:\n",
            "F1-score (weighted): 0.8050\n",
            "Precision (weighted): 0.8030\n",
            "Recall (weighted): 0.8255\n",
            "\n",
            "\n",
            "Отчёт по классам:\n",
            "              precision    recall  f1-score   support\n",
            "\n",
            "      B-GOOD       0.61      0.35      0.44      2156\n",
            "           O       0.85      0.95      0.90      8710\n",
            "\n",
            "    accuracy                           0.83     10866\n",
            "   macro avg       0.73      0.65      0.67     10866\n",
            "weighted avg       0.81      0.83      0.81     10866\n",
            "\n"
          ]
        },
        {
          "output_type": "display_data",
          "data": {
            "text/plain": [
              "<Figure size 500x500 with 2 Axes>"
            ],
            "image/png": "[encoded data removed]"
          },
          "metadata": {}
        }
      ],
      "id": "2iNQhQ_saGN1"
    },
    {
      "cell_type": "markdown",
      "source": [
        "## GCNConv"
      ],
      "metadata": {
        "id": "Tv9LJKIKnaE4"
      },
      "id": "Tv9LJKIKnaE4"
    },
    {
      "cell_type": "code",
      "source": [
        "!pip install torch_geometric"
      ],
      "metadata": {
        "colab": {
          "base_uri": "https://localhost:8080/"
        },
        "collapsed": true,
        "id": "7xiVU4Gnnn2G",
        "outputId": "c09ec674-7fc4-44a7-9eda-e41d905fb452"
      },
      "id": "7xiVU4Gnnn2G",
      "execution_count": null,
      "outputs": [
        {
          "output_type": "stream",
          "name": "stdout",
          "text": [
            "Collecting torch_geometric\n",
            "  Downloading torch_geometric-2.6.1-py3-none-any.whl.metadata (63 kB)\n",
            "\u001b[?25l     \u001b[90m━━━━━━━━━━━━━━━━━━━━━━━━━━━━━━━━━━━━━━━━\u001b[0m \u001b[32m0.0/63.1 kB\u001b[0m \u001b[31m?\u001b[0m eta \u001b[36m-:--:--\u001b[0m\r\u001b[2K     \u001b[90m━━━━━━━━━━━━━━━━━━━━━━━━━━━━━━━━━━━━━━━━\u001b[0m \u001b[32m63.1/63.1 kB\u001b[0m \u001b[31m3.9 MB/s\u001b[0m eta \u001b[36m0:00:00\u001b[0m\n",
            "\u001b[?25hRequirement already satisfied: aiohttp in /usr/local/lib/python3.11/dist-packages (from torch_geometric) (3.11.15)\n",
            "Requirement already satisfied: fsspec in /usr/local/lib/python3.11/dist-packages (from torch_geometric) (2025.3.2)\n",
            "Requirement already satisfied: jinja2 in /usr/local/lib/python3.11/dist-packages (from torch_geometric) (3.1.6)\n",
            "Requirement already satisfied: numpy in /usr/local/lib/python3.11/dist-packages (from torch_geometric) (1.26.4)\n",
            "Requirement already satisfied: psutil>=5.8.0 in /usr/local/lib/python3.11/dist-packages (from torch_geometric) (5.9.5)\n",
            "Requirement already satisfied: pyparsing in /usr/local/lib/python3.11/dist-packages (from torch_geometric) (3.2.3)\n",
            "Requirement already satisfied: requests in /usr/local/lib/python3.11/dist-packages (from torch_geometric) (2.32.3)\n",
            "Requirement already satisfied: tqdm in /usr/local/lib/python3.11/dist-packages (from torch_geometric) (4.67.1)\n",
            "Requirement already satisfied: aiohappyeyeballs>=2.3.0 in /usr/local/lib/python3.11/dist-packages (from aiohttp->torch_geometric) (2.6.1)\n",
            "Requirement already satisfied: aiosignal>=1.1.2 in /usr/local/lib/python3.11/dist-packages (from aiohttp->torch_geometric) (1.3.2)\n",
            "Requirement already satisfied: attrs>=17.3.0 in /usr/local/lib/python3.11/dist-packages (from aiohttp->torch_geometric) (25.3.0)\n",
            "Requirement already satisfied: frozenlist>=1.1.1 in /usr/local/lib/python3.11/dist-packages (from aiohttp->torch_geometric) (1.6.0)\n",
            "Requirement already satisfied: multidict<7.0,>=4.5 in /usr/local/lib/python3.11/dist-packages (from aiohttp->torch_geometric) (6.4.3)\n",
            "Requirement already satisfied: propcache>=0.2.0 in /usr/local/lib/python3.11/dist-packages (from aiohttp->torch_geometric) (0.3.1)\n",
            "Requirement already satisfied: yarl<2.0,>=1.17.0 in /usr/local/lib/python3.11/dist-packages (from aiohttp->torch_geometric) (1.20.0)\n",
            "Requirement already satisfied: MarkupSafe>=2.0 in /usr/local/lib/python3.11/dist-packages (from jinja2->torch_geometric) (3.0.2)\n",
            "Requirement already satisfied: charset-normalizer<4,>=2 in /usr/local/lib/python3.11/dist-packages (from requests->torch_geometric) (3.4.2)\n",
            "Requirement already satisfied: idna<4,>=2.5 in /usr/local/lib/python3.11/dist-packages (from requests->torch_geometric) (3.10)\n",
            "Requirement already satisfied: urllib3<3,>=1.21.1 in /usr/local/lib/python3.11/dist-packages (from requests->torch_geometric) (2.4.0)\n",
            "Requirement already satisfied: certifi>=2017.4.17 in /usr/local/lib/python3.11/dist-packages (from requests->torch_geometric) (2025.4.26)\n",
            "Downloading torch_geometric-2.6.1-py3-none-any.whl (1.1 MB)\n",
            "\u001b[2K   \u001b[90m━━━━━━━━━━━━━━━━━━━━━━━━━━━━━━━━━━━━━━━━\u001b[0m \u001b[32m1.1/1.1 MB\u001b[0m \u001b[31m36.3 MB/s\u001b[0m eta \u001b[36m0:00:00\u001b[0m\n",
            "\u001b[?25hInstalling collected packages: torch_geometric\n",
            "Successfully installed torch_geometric-2.6.1\n"
          ]
        }
      ]
    },
    {
      "cell_type": "code",
      "source": [
        "import torch\n",
        "import torch.nn as nn\n",
        "import torch.nn.functional as F\n",
        "from torch.utils.data import Dataset, DataLoader\n",
        "from torch.nn.utils.rnn import pad_sequence\n",
        "\n",
        "import pytorch_lightning as pl\n",
        "from pytorch_lightning.loggers import TensorBoardLogger\n",
        "\n",
        "from torch_geometric.data import Data, Batch\n",
        "from torch_geometric.nn import GCNConv\n",
        "from sklearn.model_selection import train_test_split\n",
        "from seqeval.metrics import f1_score, precision_score, recall_score\n",
        "\n",
        "import pandas as pd\n",
        "import numpy as np\n",
        "from gensim.models import FastText\n",
        "from typing import List, Tuple"
      ],
      "metadata": {
        "id": "PgVAqBBknmgg"
      },
      "id": "PgVAqBBknmgg",
      "execution_count": null,
      "outputs": []
    },
    {
      "cell_type": "code",
      "source": [
        "def apply_bio_tagging(row):\n",
        "    tokens = row[\"tokens\"]\n",
        "    if pd.isna(row[\"good\"]):\n",
        "        return [\"O\"] * len(tokens)\n",
        "    goods = row[\"good\"].split(',')[0].split()\n",
        "    tags = [\"O\"] * len(tokens)\n",
        "    for i in range(len(tokens)):\n",
        "        if tokens[i:i+len(goods)] == goods and goods:\n",
        "            tags[i] = \"B-GOOD\"\n",
        "            for j in range(1, len(goods)):\n",
        "                tags[i + j] = \"I-GOOD\"\n",
        "            break\n",
        "    return tags"
      ],
      "metadata": {
        "id": "fSeV8AxLwog3"
      },
      "id": "fSeV8AxLwog3",
      "execution_count": null,
      "outputs": []
    },
    {
      "cell_type": "code",
      "source": [
        "def get_entities(seq):\n",
        "    entities = []\n",
        "    entity_type, start = None, None\n",
        "    for i, tag in enumerate(seq):\n",
        "        if tag.startswith(\"B-\"):\n",
        "            if entity_type is not None:\n",
        "                entities.append((entity_type, start, i - 1))\n",
        "            entity_type = tag[2:]\n",
        "            start = i\n",
        "        elif tag.startswith(\"I-\") and entity_type != tag[2:]:\n",
        "            if entity_type:\n",
        "                entities.append((entity_type, start, i - 1))\n",
        "            entity_type, start = tag[2:], i\n",
        "        elif tag == \"O\":\n",
        "            if entity_type:\n",
        "                entities.append((entity_type, start, i - 1))\n",
        "                entity_type = None\n",
        "    if entity_type:\n",
        "        entities.append((entity_type, start, len(seq) - 1))\n",
        "    return entities"
      ],
      "metadata": {
        "id": "nUwc18d-n1-c"
      },
      "id": "nUwc18d-n1-c",
      "execution_count": null,
      "outputs": []
    },
    {
      "cell_type": "markdown",
      "source": [
        "Граф формируется на основе локального контекста каждого токена с использованием скользящего окна.\n",
        "\n"
      ],
      "metadata": {
        "id": "3i0vrD6rpbE9"
      },
      "id": "3i0vrD6rpbE9"
    },
    {
      "cell_type": "code",
      "source": [
        "def build_graph(tokens: List[str], embeddings: torch.Tensor, window_size: int = 2) -> Data:\n",
        "    edges = []\n",
        "    for i in range(len(tokens)):\n",
        "        for j in range(max(0, i - window_size), min(len(tokens), i + window_size + 1)):\n",
        "            if i != j:\n",
        "                edges.append([i, j])\n",
        "                edges.append([j, i])\n",
        "    if not edges:\n",
        "        edges = [[0, 0]]\n",
        "    edge_index = torch.tensor(edges, dtype=torch.long).T\n",
        "    return Data(x=embeddings[:len(tokens)], edge_index=edge_index, num_nodes=len(tokens))"
      ],
      "metadata": {
        "id": "iZoE_kFwn3gx"
      },
      "id": "iZoE_kFwn3gx",
      "execution_count": null,
      "outputs": []
    },
    {
      "cell_type": "code",
      "source": [
        "class ReceiptsGraphDataset(Dataset):\n",
        "    def __init__(self, df, fasttext, is_predict=False):\n",
        "        self.data = df[[\"tokens\", \"id\"]] if is_predict else df[[\"tokens\", \"good\", \"tags\"]]\n",
        "        self.data = self.data.values\n",
        "        self.fasttext = fasttext\n",
        "        self.is_predict = is_predict\n",
        "\n",
        "    def __len__(self):\n",
        "        return len(self.data)\n",
        "\n",
        "    def __getitem__(self, index):\n",
        "        if self.is_predict:\n",
        "            tokens, id_ = self.data[index]\n",
        "            embeddings = torch.tensor(np.array([self.fasttext.wv[t] for t in tokens]), dtype=torch.float)\n",
        "            graph = build_graph(tokens, embeddings)\n",
        "            return id_, tokens, graph, torch.zeros(len(tokens), dtype=torch.long)\n",
        "        else:\n",
        "            tokens, good, tags = self.data[index]\n",
        "            embeddings = torch.tensor(np.array([self.fasttext.wv[t] for t in tokens]), dtype=torch.float)\n",
        "            graph = build_graph(tokens, embeddings)\n",
        "            target = torch.tensor([tag_to_index[tag] for tag in tags], dtype=torch.long)\n",
        "            return None, tokens, graph, target"
      ],
      "metadata": {
        "id": "PYB-tnOhn5nu"
      },
      "id": "PYB-tnOhn5nu",
      "execution_count": null,
      "outputs": []
    },
    {
      "cell_type": "code",
      "source": [
        "def collate_graph_fn(batch):\n",
        "    ids, tokens_seq, graphs, targets = zip(*batch)\n",
        "    batched_graph = Batch.from_data_list(graphs)\n",
        "    flat_targets = torch.cat(targets, dim=0)\n",
        "    return ids, tokens_seq, batched_graph, flat_targets"
      ],
      "metadata": {
        "id": "jPmsRJgEn7lC"
      },
      "id": "jPmsRJgEn7lC",
      "execution_count": null,
      "outputs": []
    },
    {
      "cell_type": "code",
      "source": [
        "class ReceiptsGraphDataModule(pl.LightningDataModule):\n",
        "    def __init__(self, train_path, test_path, fasttext_path, val_size, batch_size, num_workers):\n",
        "        super().__init__()\n",
        "        self.train_path = train_path\n",
        "        self.test_path = test_path\n",
        "        self.fasttext_path = fasttext_path\n",
        "        self.val_size = val_size\n",
        "        self.batch_size = batch_size\n",
        "        self.num_workers = num_workers\n",
        "\n",
        "    def prepare_data(self):\n",
        "        self.fasttext = FastText.load(self.fasttext_path)\n",
        "        self.train_df = pd.read_csv(self.train_path)\n",
        "        self.test_df = pd.read_csv(self.test_path)\n",
        "\n",
        "        if 'name' not in self.train_df.columns:\n",
        "            raise KeyError(\"Training data must contain 'name' column\")\n",
        "\n",
        "        self.train_df[\"tokens\"] = self.train_df[\"name\"].apply(lambda x: clean_text(x, stopwords_set=custom_stopwords))\n",
        "\n",
        "        if not 'good':\n",
        "            raise KeyError(\"Could not find goods column (tried: good, goods, product, products)\")\n",
        "        self.train_df[\"tags\"] = self.train_df.apply(\n",
        "            lambda row: apply_bio_tagging({\"tokens\": row[\"tokens\"], \"good\": row['good']}),\n",
        "            axis=1\n",
        "        )\n",
        "        if 'name' not in self.test_df.columns:\n",
        "            raise KeyError(\"Test data must contain 'name' column\")\n",
        "        self.test_df[\"tokens\"] = self.test_df[\"name\"].apply(lambda x: clean_text(x, stopwords_set=custom_stopwords))\n",
        "\n",
        "    def setup(self, stage=None):\n",
        "        required_cols = ['tokens', 'tags']\n",
        "        missing_cols = [col for col in required_cols if col not in self.train_df.columns]\n",
        "        if missing_cols:\n",
        "            raise KeyError(f\"Missing columns in training data: {missing_cols}\")\n",
        "\n",
        "        self.train_df, temp_df = train_test_split(self.train_df, test_size=self.val_size, random_state=42)\n",
        "        self.val_df, self.test_df = train_test_split(temp_df, test_size=0.5, random_state=42)\n",
        "\n",
        "        self.train_dataset = ReceiptsGraphDataset(self.train_df, self.fasttext)\n",
        "        self.val_dataset = ReceiptsGraphDataset(self.val_df, self.fasttext)\n",
        "        self.test_dataset = ReceiptsGraphDataset(self.test_df, self.fasttext)\n",
        "        self.predict_dataset = ReceiptsGraphDataset(self.test_df, self.fasttext, is_predict=True)\n",
        "\n",
        "    def train_dataloader(self):\n",
        "        return DataLoader(self.train_dataset,\n",
        "                          batch_size=self.batch_size,\n",
        "                          num_workers=self.num_workers,\n",
        "                          collate_fn=collate_graph_fn)\n",
        "\n",
        "    def val_dataloader(self):\n",
        "        return DataLoader(self.val_dataset,\n",
        "                          batch_size=self.batch_size,\n",
        "                          num_workers=self.num_workers,\n",
        "                          collate_fn=collate_graph_fn)\n",
        "    def test_dataloader(self):\n",
        "        return DataLoader(self.test_dataset,\n",
        "                          batch_size=self.batch_size,\n",
        "                          num_workers=self.num_workers,\n",
        "                          collate_fn=collate_graph_fn)\n",
        "    def predict_dataloader(self):\n",
        "        return torch.utils.data.DataLoader(self.predict_dataset,\n",
        "                                           batch_size=self.batch_size,\n",
        "                                           num_workers=self.num_workers,\n",
        "                                           collate_fn=collate_graph_fn)"
      ],
      "metadata": {
        "id": "-ubZWwgIvm4U"
      },
      "id": "-ubZWwgIvm4U",
      "execution_count": null,
      "outputs": []
    },
    {
      "cell_type": "code",
      "source": [
        "dm = ReceiptsGraphDataModule(TRAIN_DATASET_PATH, TEST_DATASET_PATH, FASTTEXT_PATH, VAL_SPLIT_SIZE, BATCH_SIZE, NUM_WORKERS)\n",
        "dm.prepare_data()\n",
        "dm.setup()"
      ],
      "metadata": {
        "id": "4zErcudkoJlo"
      },
      "id": "4zErcudkoJlo",
      "execution_count": null,
      "outputs": []
    },
    {
      "cell_type": "code",
      "source": [
        "import networkx as nx\n",
        "import matplotlib.pyplot as plt\n",
        "from torch_geometric.utils import to_networkx\n",
        "\n",
        "def visualize_graph(graph_data: Data, tokens: List[str] = None, with_labels: bool = True):\n",
        "    G = to_networkx(graph_data, to_undirected=True)\n",
        "    pos = nx.spring_layout(G)\n",
        "\n",
        "    plt.figure(figsize=(6, 6))\n",
        "\n",
        "    nx.draw_networkx_nodes(G, pos, node_size=500, node_color='skyblue')\n",
        "    nx.draw_networkx_edges(G, pos, width=1, alpha=0.5, edge_color='gray')\n",
        "\n",
        "    if with_labels:\n",
        "        labels = {}\n",
        "        for idx, node in enumerate(G.nodes()):\n",
        "            if tokens and idx < len(tokens):\n",
        "                labels[node] = tokens[idx]\n",
        "            else:\n",
        "                labels[node] = str(node)\n",
        "        nx.draw_networkx_labels(G, pos, labels, font_size=10)\n",
        "\n",
        "    plt.title(\"Визуализация одного графа\")\n",
        "    plt.axis('off')\n",
        "    plt.show()"
      ],
      "metadata": {
        "id": "_iEwjkNpo9Gc"
      },
      "id": "_iEwjkNpo9Gc",
      "execution_count": null,
      "outputs": []
    },
    {
      "cell_type": "code",
      "source": [
        "sample = dm.train_dataset[1]\n",
        "_, tokens, graph, _ = sample\n",
        "\n",
        "visualize_graph(graph, tokens=tokens)"
      ],
      "metadata": {
        "colab": {
          "base_uri": "https://localhost:8080/",
          "height": 521
        },
        "id": "2c9t_ik0oUp0",
        "outputId": "3ac379ba-b971-4dd4-87dd-4dc9461f10d6"
      },
      "id": "2c9t_ik0oUp0",
      "execution_count": null,
      "outputs": [
        {
          "output_type": "display_data",
          "data": {
            "text/plain": [
              "<Figure size 600x600 with 1 Axes>"
            ],
            "image/png": "[encoded data removed]"
          },
          "metadata": {}
        }
      ]
    },
    {
      "cell_type": "code",
      "source": [
        "class GNNModel(nn.Module):\n",
        "    def __init__(self, input_dim, hidden_dim, output_dim, num_layers=2, dropout=0.1):\n",
        "        super().__init__()\n",
        "        self.convs = nn.ModuleList([GCNConv(input_dim, hidden_dim)] +\n",
        "                                   [GCNConv(hidden_dim, hidden_dim) for _ in range(num_layers - 1)])\n",
        "        self.dropout = dropout\n",
        "        self.fc = nn.Linear(hidden_dim, output_dim)\n",
        "\n",
        "    def forward(self, x, edge_index):\n",
        "        for conv in self.convs:\n",
        "            x = F.relu(conv(x, edge_index))\n",
        "            x = F.dropout(x, p=self.dropout, training=self.training)\n",
        "        return self.fc(x)"
      ],
      "metadata": {
        "id": "TRIB6uG7oAeB"
      },
      "id": "TRIB6uG7oAeB",
      "execution_count": null,
      "outputs": []
    },
    {
      "cell_type": "code",
      "source": [
        "class ReceiptsGraphModule(pl.LightningModule):\n",
        "    def __init__(self, input_dim=300, hidden_dim=256, num_layers=2, dropout=0.1, learning_rate=1e-3):\n",
        "        super().__init__()\n",
        "        self.save_hyperparameters()\n",
        "        self.model = GNNModel(input_dim, hidden_dim, len(index_to_tag), num_layers, dropout)\n",
        "        self.criterion = nn.CrossEntropyLoss(ignore_index=tag_to_index[\"PAD\"])\n",
        "        self.train_preds, self.train_targets = [], []\n",
        "        self.val_preds, self.val_targets = [], []\n",
        "\n",
        "    def forward(self, graph):\n",
        "        return self.model(graph.x, graph.edge_index)\n",
        "\n",
        "    def training_step(self, batch, batch_idx):\n",
        "        _, tokens, graph, targets = batch\n",
        "        logits = self(graph)\n",
        "        loss = self.criterion(logits, targets)\n",
        "        self.log(\"train_loss\", loss, prog_bar=True, batch_size=len(tokens))\n",
        "        preds = torch.argmax(logits, dim=1)\n",
        "        self.train_preds.extend(preds.cpu().tolist())\n",
        "        self.train_targets.extend(targets.cpu().tolist())\n",
        "        return loss\n",
        "\n",
        "    def validation_step(self, batch, batch_idx):\n",
        "        _, tokens, graph, targets = batch\n",
        "        logits = self(graph)\n",
        "        loss = self.criterion(logits, targets)\n",
        "        self.log(\"val_loss\", loss, prog_bar=True, batch_size=len(tokens))\n",
        "        preds = torch.argmax(logits, dim=1)\n",
        "        self.val_preds.extend(preds.cpu().tolist())\n",
        "        self.val_targets.extend(targets.cpu().tolist())\n",
        "        return loss\n",
        "\n",
        "    def on_train_epoch_end(self):\n",
        "        self._log_metrics(\"train\", self.train_preds, self.train_targets)\n",
        "        self.train_preds.clear()\n",
        "        self.train_targets.clear()\n",
        "\n",
        "    def on_validation_epoch_end(self):\n",
        "        self._log_metrics(\"val\", self.val_preds, self.val_targets)\n",
        "        self.val_preds.clear()\n",
        "        self.val_targets.clear()\n",
        "\n",
        "    def _log_metrics(self, prefix, preds, targets):\n",
        "        pred_tags = [index_to_tag[p] for p in preds]\n",
        "        true_tags = [index_to_tag[t] for t in targets]\n",
        "        self.log(f\"{prefix}_f1\", f1_score([true_tags], [pred_tags]), prog_bar=True, batch_size=1)\n",
        "        self.log(f\"{prefix}_precision\", precision_score([true_tags], [pred_tags]), batch_size=1)\n",
        "        self.log(f\"{prefix}_recall\", recall_score([true_tags], [pred_tags]), batch_size=1)\n",
        "\n",
        "    def predict_step(self, batch, batch_idx):\n",
        "        ids, tokens, graph, _ = batch\n",
        "        logits = self(graph)\n",
        "        preds = torch.argmax(logits, dim=1).cpu().numpy()\n",
        "        results, ptr = [], 0\n",
        "        for id_, token_seq in zip(ids, tokens):\n",
        "            seq_preds = preds[ptr:ptr + len(token_seq)]\n",
        "            ptr += len(token_seq)\n",
        "            tags = [index_to_tag[p] for p in seq_preds]\n",
        "            entities = get_entities(tags)\n",
        "            goods = ','.join([' '.join(token_seq[start:end+1]) for t, start, end in entities if t == \"GOOD\"])\n",
        "            results.append([id_, goods])\n",
        "        return results\n",
        "\n",
        "    def configure_optimizers(self):\n",
        "        return torch.optim.Adam(self.parameters(), lr=self.hparams.learning_rate)"
      ],
      "metadata": {
        "id": "IrcYSEjxoFuX"
      },
      "id": "IrcYSEjxoFuX",
      "execution_count": null,
      "outputs": []
    },
    {
      "cell_type": "code",
      "source": [
        "import gc\n",
        "gc.collect()"
      ],
      "metadata": {
        "colab": {
          "base_uri": "https://localhost:8080/"
        },
        "id": "tUV6bpj5vV-i",
        "outputId": "edd59aa5-9c73-4ff0-8c0f-6f720560afef"
      },
      "id": "tUV6bpj5vV-i",
      "execution_count": null,
      "outputs": [
        {
          "output_type": "execute_result",
          "data": {
            "text/plain": [
              "1326"
            ]
          },
          "metadata": {},
          "execution_count": 22
        }
      ]
    },
    {
      "cell_type": "code",
      "source": [
        "model3 = ReceiptsGraphModule()"
      ],
      "metadata": {
        "id": "uC4D2PtUoQZd"
      },
      "id": "uC4D2PtUoQZd",
      "execution_count": null,
      "outputs": []
    },
    {
      "cell_type": "code",
      "source": [
        "trainer = pl.Trainer(\n",
        "        accelerator=\"gpu\" if torch.cuda.is_available() else \"cpu\",\n",
        "        devices=1,\n",
        "        max_epochs=10,\n",
        "        logger=TensorBoardLogger(\"gnn_logs\", name=\"gnn_good_extraction\"),\n",
        "        log_every_n_steps=1\n",
        "    )"
      ],
      "metadata": {
        "colab": {
          "base_uri": "https://localhost:8080/"
        },
        "id": "UkYfaKDls-Bc",
        "outputId": "57ef4762-c2e5-4d4d-df27-67cc90084279"
      },
      "id": "UkYfaKDls-Bc",
      "execution_count": null,
      "outputs": [
        {
          "output_type": "stream",
          "name": "stderr",
          "text": [
            "INFO:pytorch_lightning.utilities.rank_zero:Using default `ModelCheckpoint`. Consider installing `litmodels` package to enable `LitModelCheckpoint` for automatic upload to the Lightning model registry.\n",
            "INFO:pytorch_lightning.utilities.rank_zero:GPU available: True (cuda), used: True\n",
            "INFO:pytorch_lightning.utilities.rank_zero:TPU available: False, using: 0 TPU cores\n",
            "INFO:pytorch_lightning.utilities.rank_zero:HPU available: False, using: 0 HPUs\n"
          ]
        }
      ]
    },
    {
      "cell_type": "code",
      "source": [
        "trainer = pl.Trainer(\n",
        "        accelerator=\"gpu\" if torch.cuda.is_available() else \"cpu\",\n",
        "        devices=1,\n",
        "        max_epochs=30,\n",
        "        logger=TensorBoardLogger(\"gnn_logs\", name=\"gnn_good_extraction\"),\n",
        "        log_every_n_steps=1\n",
        "    )"
      ],
      "metadata": {
        "colab": {
          "base_uri": "https://localhost:8080/"
        },
        "id": "ky4FQUgS_5vx",
        "outputId": "162ead2c-f3c2-46ec-a675-3fe6e0bd892c"
      },
      "id": "ky4FQUgS_5vx",
      "execution_count": null,
      "outputs": [
        {
          "output_type": "stream",
          "name": "stderr",
          "text": [
            "INFO:pytorch_lightning.utilities.rank_zero:Using default `ModelCheckpoint`. Consider installing `litmodels` package to enable `LitModelCheckpoint` for automatic upload to the Lightning model registry.\n",
            "INFO:pytorch_lightning.utilities.rank_zero:GPU available: True (cuda), used: True\n",
            "INFO:pytorch_lightning.utilities.rank_zero:TPU available: False, using: 0 TPU cores\n",
            "INFO:pytorch_lightning.utilities.rank_zero:HPU available: False, using: 0 HPUs\n"
          ]
        }
      ]
    },
    {
      "cell_type": "code",
      "source": [
        "%load_ext tensorboard\n",
        "%tensorboard --logdir=gnn_logs"
      ],
      "metadata": {
        "id": "_D1TEJoAy-JB"
      },
      "id": "_D1TEJoAy-JB",
      "execution_count": null,
      "outputs": []
    },
    {
      "cell_type": "code",
      "source": [
        "trainer.fit(model3, datamodule=dm)"
      ],
      "metadata": {
        "id": "k3FpaSz7_LyN"
      },
      "id": "k3FpaSz7_LyN",
      "execution_count": null,
      "outputs": []
    },
    {
      "cell_type": "code",
      "source": [
        "from sklearn.metrics import (classification_report, confusion_matrix,\n",
        "                            precision_score, recall_score, f1_score)\n",
        "import seaborn as sns\n",
        "import matplotlib.pyplot as plt\n",
        "import pandas as pd\n",
        "\n",
        "def evaluate_model(y_true, y_pred, index_to_tag, plot_cm=True, verbose=True):\n",
        "    if isinstance(y_true[0], list):\n",
        "        y_true = [tag for seq in y_true for tag in seq]\n",
        "        y_pred = [tag for seq in y_pred for tag in seq]\n",
        "\n",
        "    assert len(y_true) == len(y_pred), \"Длины y_true и y_pred не совпадают\"\n",
        "\n",
        "    tags = [tag for tag in index_to_tag if tag != \"PAD\"]\n",
        "\n",
        "    results = {\n",
        "        'overall_precision': precision_score(y_true, y_pred, labels=tags, average='weighted', zero_division=0),\n",
        "        'overall_recall': recall_score(y_true, y_pred, labels=tags, average='weighted', zero_division=0),\n",
        "        'overall_f1': f1_score(y_true, y_pred, labels=tags, average='weighted', zero_division=0)\n",
        "    }\n",
        "\n",
        "    if verbose:\n",
        "        print(\"\\nИтоговый результат:\")\n",
        "        print(f\"F1-score (weighted): {results['overall_f1']:.4f}\")\n",
        "        print(f\"Precision (weighted): {results['overall_precision']:.4f}\")\n",
        "        print(f\"Macro Recall (weighted): {results['overall_recall']:.4f}\")\n",
        "\n",
        "    if verbose:\n",
        "        print(\"\\nОтчёт по классам:\")\n",
        "        print(classification_report(y_true, y_pred, zero_division=0))\n",
        "\n",
        "    if plot_cm:\n",
        "        cm = confusion_matrix(y_true, y_pred, labels=tags)\n",
        "        plt.figure(figsize=(6, 6))\n",
        "        sns.heatmap(cm, annot=True, fmt='d', cmap='Blues',\n",
        "                   xticklabels=tags, yticklabels=tags)\n",
        "        plt.title('Confusion Matrix')\n",
        "        plt.xlabel('Предсказанные')\n",
        "        plt.ylabel('Истинные')\n",
        "        plt.show()\n",
        "\n",
        "    return results"
      ],
      "metadata": {
        "id": "qYvLi3n81NIe"
      },
      "id": "qYvLi3n81NIe",
      "execution_count": null,
      "outputs": []
    },
    {
      "cell_type": "code",
      "source": [
        "from torch.nn.functional import softmax\n",
        "import numpy as np\n",
        "\n",
        "def get_true_pred_tags(model, dataloader, device='cuda'):\n",
        "    model.eval()\n",
        "    model.to(device)\n",
        "\n",
        "    true_tags = []\n",
        "    pred_tags = []\n",
        "\n",
        "    with torch.no_grad():\n",
        "        for batch in dataloader:\n",
        "            ids, tokens, graph, targets = batch\n",
        "            graph = graph.to(device)\n",
        "\n",
        "            logits = model(graph)\n",
        "            probs = softmax(logits, dim=1)\n",
        "            predictions = torch.argmax(probs, dim=1).cpu().numpy()\n",
        "\n",
        "            ptr = 0\n",
        "            for i in range(len(tokens)):\n",
        "                seq_len = len(tokens[i])\n",
        "\n",
        "                true_seq = targets[ptr:ptr+seq_len].numpy()\n",
        "                true_tags.append([index_to_tag[t] for t in true_seq])\n",
        "\n",
        "                pred_seq = predictions[ptr:ptr+seq_len]\n",
        "                pred_tags.append([index_to_tag[p] for p in pred_seq])\n",
        "\n",
        "                ptr += seq_len\n",
        "\n",
        "    return true_tags, pred_tags"
      ],
      "metadata": {
        "id": "sgRdSkYM1aO-"
      },
      "id": "sgRdSkYM1aO-",
      "execution_count": null,
      "outputs": []
    },
    {
      "cell_type": "code",
      "source": [
        "true_tags, pred_tags = get_true_pred_tags(model3, dm.val_dataloader())\n",
        "metrics = evaluate_model(y_true=true_tags, y_pred=pred_tags, index_to_tag=index_to_tag, plot_cm=True, verbose=True)"
      ],
      "metadata": {
        "colab": {
          "base_uri": "https://localhost:8080/",
          "height": 873
        },
        "id": "taClp8jc8e3-",
        "outputId": "07916681-6aa0-46ef-ebb8-5010cc80abfa"
      },
      "id": "taClp8jc8e3-",
      "execution_count": null,
      "outputs": [
        {
          "output_type": "stream",
          "name": "stdout",
          "text": [
            "\n",
            "Итоговый результат:\n",
            "F1-score (weighted): 0.7253\n",
            "Precision (weighted): 0.7252\n",
            "Macro Recall (weighted): 0.7997\n",
            "\n",
            "Отчёт по классам:\n",
            "              precision    recall  f1-score   support\n",
            "\n",
            "      B-GOOD       0.40      0.03      0.06      2148\n",
            "      I-GOOD       0.00      0.00      0.00        34\n",
            "           O       0.81      0.99      0.89      8895\n",
            "\n",
            "    accuracy                           0.80     11077\n",
            "   macro avg       0.40      0.34      0.32     11077\n",
            "weighted avg       0.73      0.80      0.73     11077\n",
            "\n"
          ]
        },
        {
          "output_type": "display_data",
          "data": {
            "text/plain": [
              "<Figure size 600x600 with 2 Axes>"
            ],
            "image/png": "[encoded data removed]"
          },
          "metadata": {}
        }
      ]
    },
    {
      "cell_type": "code",
      "source": [
        "true_tags, pred_tags = get_true_pred_tags(model3, dm.test_dataloader())\n",
        "metrics = evaluate_model(y_true=true_tags, y_pred=pred_tags, index_to_tag=index_to_tag, plot_cm=True, verbose=True)"
      ],
      "metadata": {
        "colab": {
          "base_uri": "https://localhost:8080/",
          "height": 873
        },
        "id": "YJId8I3kDtrS",
        "outputId": "d1155524-1b14-4de4-87ba-a296a616880d"
      },
      "id": "YJId8I3kDtrS",
      "execution_count": null,
      "outputs": [
        {
          "output_type": "stream",
          "name": "stdout",
          "text": [
            "\n",
            "Итоговый результат:\n",
            "F1-score (weighted): 0.7163\n",
            "Precision (weighted): 0.7113\n",
            "Macro Recall (weighted): 0.7943\n",
            "\n",
            "Отчёт по классам:\n",
            "              precision    recall  f1-score   support\n",
            "\n",
            "      B-GOOD       0.36      0.03      0.05      2160\n",
            "      I-GOOD       0.00      0.00      0.00        34\n",
            "           O       0.80      0.99      0.88      8688\n",
            "\n",
            "    accuracy                           0.79     10882\n",
            "   macro avg       0.39      0.34      0.31     10882\n",
            "weighted avg       0.71      0.79      0.72     10882\n",
            "\n"
          ]
        },
        {
          "output_type": "display_data",
          "data": {
            "text/plain": [
              "<Figure size 600x600 with 2 Axes>"
            ],
            "image/png": "[encoded data removed]"
          },
          "metadata": {}
        }
      ]
    },
    {
      "cell_type": "markdown",
      "source": [
        "# Сравнение и результат"
      ],
      "metadata": {
        "id": "36-eA5gWBFcs"
      },
      "id": "36-eA5gWBFcs"
    },
    {
      "cell_type": "code",
      "source": [
        "import pandas as pd\n",
        "\n",
        "metrics = {\n",
        "    'Metric': ['RNN', 'LSTM', 'Transformer', 'GCNN'],\n",
        "    'Weighted F1': [0.9021, 0.9002, 0.8050, 0.7163],\n",
        "    'Weighted Precision': [0.9006, 0.8984, 0.8030, 0.7113],\n",
        "    'Weighted Recall': [0.9037, 0.9025, 0.8255, 0.7943],\n",
        "    'Accuracy': [0.91, 0.90, 0.83, 0.79],\n",
        "    'B-GOOD F1': [0.76, 0.76, 0.44, 0.05],\n",
        "    'O F1': [0.94, 0.94, 0.90, 0.88]\n",
        "}\n",
        "\n",
        "df_metrics = pd.DataFrame(metrics).set_index('Metric').T\n",
        "df_metrics"
      ],
      "metadata": {
        "colab": {
          "base_uri": "https://localhost:8080/",
          "height": 237
        },
        "id": "Tv0drO5BBMXw",
        "outputId": "923f63ee-0d90-430d-d8c2-3634a9197967"
      },
      "id": "Tv0drO5BBMXw",
      "execution_count": null,
      "outputs": [
        {
          "output_type": "execute_result",
          "data": {
            "text/plain": [
              "Metric                 RNN    LSTM  Transformer    GCNN\n",
              "Weighted F1         0.9021  0.9002       0.8050  0.7163\n",
              "Weighted Precision  0.9006  0.8984       0.8030  0.7113\n",
              "Weighted Recall     0.9037  0.9025       0.8255  0.7943\n",
              "Accuracy            0.9100  0.9000       0.8300  0.7900\n",
              "B-GOOD F1           0.7600  0.7600       0.4400  0.0500\n",
              "O F1                0.9400  0.9400       0.9000  0.8800"
            ],
            "text/html": [
              "\n",
              "  <div id=\"df-1040ddbc-f1d4-4872-8120-ef2b450dcee4\" class=\"colab-df-container\">\n",
              "    <div>\n",
              "<style scoped>\n",
              "    .dataframe tbody tr th:only-of-type {\n",
              "        vertical-align: middle;\n",
              "    }\n",
              "\n",
              "    .dataframe tbody tr th {\n",
              "        vertical-align: top;\n",
              "    }\n",
              "\n",
              "    .dataframe thead th {\n",
              "        text-align: right;\n",
              "    }\n",
              "</style>\n",
              "<table border=\"1\" class=\"dataframe\">\n",
              "  <thead>\n",
              "    <tr style=\"text-align: right;\">\n",
              "      <th>Metric</th>\n",
              "      <th>RNN</th>\n",
              "      <th>LSTM</th>\n",
              "      <th>Transformer</th>\n",
              "      <th>GCNN</th>\n",
              "    </tr>\n",
              "  </thead>\n",
              "  <tbody>\n",
              "    <tr>\n",
              "      <th>Weighted F1</th>\n",
              "      <td>0.9021</td>\n",
              "      <td>0.9002</td>\n",
              "      <td>0.8050</td>\n",
              "      <td>0.7163</td>\n",
              "    </tr>\n",
              "    <tr>\n",
              "      <th>Weighted Precision</th>\n",
              "      <td>0.9006</td>\n",
              "      <td>0.8984</td>\n",
              "      <td>0.8030</td>\n",
              "      <td>0.7113</td>\n",
              "    </tr>\n",
              "    <tr>\n",
              "      <th>Weighted Recall</th>\n",
              "      <td>0.9037</td>\n",
              "      <td>0.9025</td>\n",
              "      <td>0.8255</td>\n",
              "      <td>0.7943</td>\n",
              "    </tr>\n",
              "    <tr>\n",
              "      <th>Accuracy</th>\n",
              "      <td>0.9100</td>\n",
              "      <td>0.9000</td>\n",
              "      <td>0.8300</td>\n",
              "      <td>0.7900</td>\n",
              "    </tr>\n",
              "    <tr>\n",
              "      <th>B-GOOD F1</th>\n",
              "      <td>0.7600</td>\n",
              "      <td>0.7600</td>\n",
              "      <td>0.4400</td>\n",
              "      <td>0.0500</td>\n",
              "    </tr>\n",
              "    <tr>\n",
              "      <th>O F1</th>\n",
              "      <td>0.9400</td>\n",
              "      <td>0.9400</td>\n",
              "      <td>0.9000</td>\n",
              "      <td>0.8800</td>\n",
              "    </tr>\n",
              "  </tbody>\n",
              "</table>\n",
              "</div>\n",
              "    <div class=\"colab-df-buttons\">\n",
              "\n",
              "  <div class=\"colab-df-container\">\n",
              "    <button class=\"colab-df-convert\" onclick=\"convertToInteractive('df-1040ddbc-f1d4-4872-8120-ef2b450dcee4')\"\n",
              "            title=\"Convert this dataframe to an interactive table.\"\n",
              "            style=\"display:none;\">\n",
              "\n",
              "  <svg xmlns=\"http://www.w3.org/2000/svg\" height=\"24px\" viewBox=\"0 -960 960 960\">\n",
              "    <path d=\"M120-120v-720h720v720H120Zm60-500h600v-160H180v160Zm220 220h160v-160H400v160Zm0 220h160v-160H400v160ZM180-400h160v-160H180v160Zm440 0h160v-160H620v160ZM180-180h160v-160H180v160Zm440 0h160v-160H620v160Z\"/>\n",
              "  </svg>\n",
              "    </button>\n",
              "\n",
              "  <style>\n",
              "    .colab-df-container {\n",
              "      display:flex;\n",
              "      gap: 12px;\n",
              "    }\n",
              "\n",
              "    .colab-df-convert {\n",
              "      background-color: #E8F0FE;\n",
              "      border: none;\n",
              "      border-radius: 50%;\n",
              "      cursor: pointer;\n",
              "      display: none;\n",
              "      fill: #1967D2;\n",
              "      height: 32px;\n",
              "      padding: 0 0 0 0;\n",
              "      width: 32px;\n",
              "    }\n",
              "\n",
              "    .colab-df-convert:hover {\n",
              "      background-color: #E2EBFA;\n",
              "      box-shadow: 0px 1px 2px rgba(60, 64, 67, 0.3), 0px 1px 3px 1px rgba(60, 64, 67, 0.15);\n",
              "      fill: #174EA6;\n",
              "    }\n",
              "\n",
              "    .colab-df-buttons div {\n",
              "      margin-bottom: 4px;\n",
              "    }\n",
              "\n",
              "    [theme=dark] .colab-df-convert {\n",
              "      background-color: #3B4455;\n",
              "      fill: #D2E3FC;\n",
              "    }\n",
              "\n",
              "    [theme=dark] .colab-df-convert:hover {\n",
              "      background-color: #434B5C;\n",
              "      box-shadow: 0px 1px 3px 1px rgba(0, 0, 0, 0.15);\n",
              "      filter: drop-shadow(0px 1px 2px rgba(0, 0, 0, 0.3));\n",
              "      fill: #FFFFFF;\n",
              "    }\n",
              "  </style>\n",
              "\n",
              "    <script>\n",
              "      const buttonEl =\n",
              "        document.querySelector('#df-1040ddbc-f1d4-4872-8120-ef2b450dcee4 button.colab-df-convert');\n",
              "      buttonEl.style.display =\n",
              "        google.colab.kernel.accessAllowed ? 'block' : 'none';\n",
              "\n",
              "      async function convertToInteractive(key) {\n",
              "        const element = document.querySelector('#df-1040ddbc-f1d4-4872-8120-ef2b450dcee4');\n",
              "        const dataTable =\n",
              "          await google.colab.kernel.invokeFunction('convertToInteractive',\n",
              "                                                    [key], {});\n",
              "        if (!dataTable) return;\n",
              "\n",
              "        const docLinkHtml = 'Like what you see? Visit the ' +\n",
              "          '<a target=\"_blank\" href=https://colab.research.google.com/notebooks/data_table.ipynb>data table notebook</a>'\n",
              "          + ' to learn more about interactive tables.';\n",
              "        element.innerHTML = '';\n",
              "        dataTable['output_type'] = 'display_data';\n",
              "        await google.colab.output.renderOutput(dataTable, element);\n",
              "        const docLink = document.createElement('div');\n",
              "        docLink.innerHTML = docLinkHtml;\n",
              "        element.appendChild(docLink);\n",
              "      }\n",
              "    </script>\n",
              "  </div>\n",
              "\n",
              "\n",
              "    <div id=\"df-c0d7b434-5a4b-452d-88ce-9c3d998d000a\">\n",
              "      <button class=\"colab-df-quickchart\" onclick=\"quickchart('df-c0d7b434-5a4b-452d-88ce-9c3d998d000a')\"\n",
              "                title=\"Suggest charts\"\n",
              "                style=\"display:none;\">\n",
              "\n",
              "<svg xmlns=\"http://www.w3.org/2000/svg\" height=\"24px\"viewBox=\"0 0 24 24\"\n",
              "     width=\"24px\">\n",
              "    <g>\n",
              "        <path d=\"M19 3H5c-1.1 0-2 .9-2 2v14c0 1.1.9 2 2 2h14c1.1 0 2-.9 2-2V5c0-1.1-.9-2-2-2zM9 17H7v-7h2v7zm4 0h-2V7h2v10zm4 0h-2v-4h2v4z\"/>\n",
              "    </g>\n",
              "</svg>\n",
              "      </button>\n",
              "\n",
              "<style>\n",
              "  .colab-df-quickchart {\n",
              "      --bg-color: #E8F0FE;\n",
              "      --fill-color: #1967D2;\n",
              "      --hover-bg-color: #E2EBFA;\n",
              "      --hover-fill-color: #174EA6;\n",
              "      --disabled-fill-color: #AAA;\n",
              "      --disabled-bg-color: #DDD;\n",
              "  }\n",
              "\n",
              "  [theme=dark] .colab-df-quickchart {\n",
              "      --bg-color: #3B4455;\n",
              "      --fill-color: #D2E3FC;\n",
              "      --hover-bg-color: #434B5C;\n",
              "      --hover-fill-color: #FFFFFF;\n",
              "      --disabled-bg-color: #3B4455;\n",
              "      --disabled-fill-color: #666;\n",
              "  }\n",
              "\n",
              "  .colab-df-quickchart {\n",
              "    background-color: var(--bg-color);\n",
              "    border: none;\n",
              "    border-radius: 50%;\n",
              "    cursor: pointer;\n",
              "    display: none;\n",
              "    fill: var(--fill-color);\n",
              "    height: 32px;\n",
              "    padding: 0;\n",
              "    width: 32px;\n",
              "  }\n",
              "\n",
              "  .colab-df-quickchart:hover {\n",
              "    background-color: var(--hover-bg-color);\n",
              "    box-shadow: 0 1px 2px rgba(60, 64, 67, 0.3), 0 1px 3px 1px rgba(60, 64, 67, 0.15);\n",
              "    fill: var(--button-hover-fill-color);\n",
              "  }\n",
              "\n",
              "  .colab-df-quickchart-complete:disabled,\n",
              "  .colab-df-quickchart-complete:disabled:hover {\n",
              "    background-color: var(--disabled-bg-color);\n",
              "    fill: var(--disabled-fill-color);\n",
              "    box-shadow: none;\n",
              "  }\n",
              "\n",
              "  .colab-df-spinner {\n",
              "    border: 2px solid var(--fill-color);\n",
              "    border-color: transparent;\n",
              "    border-bottom-color: var(--fill-color);\n",
              "    animation:\n",
              "      spin 1s steps(1) infinite;\n",
              "  }\n",
              "\n",
              "  @keyframes spin {\n",
              "    0% {\n",
              "      border-color: transparent;\n",
              "      border-bottom-color: var(--fill-color);\n",
              "      border-left-color: var(--fill-color);\n",
              "    }\n",
              "    20% {\n",
              "      border-color: transparent;\n",
              "      border-left-color: var(--fill-color);\n",
              "      border-top-color: var(--fill-color);\n",
              "    }\n",
              "    30% {\n",
              "      border-color: transparent;\n",
              "      border-left-color: var(--fill-color);\n",
              "      border-top-color: var(--fill-color);\n",
              "      border-right-color: var(--fill-color);\n",
              "    }\n",
              "    40% {\n",
              "      border-color: transparent;\n",
              "      border-right-color: var(--fill-color);\n",
              "      border-top-color: var(--fill-color);\n",
              "    }\n",
              "    60% {\n",
              "      border-color: transparent;\n",
              "      border-right-color: var(--fill-color);\n",
              "    }\n",
              "    80% {\n",
              "      border-color: transparent;\n",
              "      border-right-color: var(--fill-color);\n",
              "      border-bottom-color: var(--fill-color);\n",
              "    }\n",
              "    90% {\n",
              "      border-color: transparent;\n",
              "      border-bottom-color: var(--fill-color);\n",
              "    }\n",
              "  }\n",
              "</style>\n",
              "\n",
              "      <script>\n",
              "        async function quickchart(key) {\n",
              "          const quickchartButtonEl =\n",
              "            document.querySelector('#' + key + ' button');\n",
              "          quickchartButtonEl.disabled = true;  // To prevent multiple clicks.\n",
              "          quickchartButtonEl.classList.add('colab-df-spinner');\n",
              "          try {\n",
              "            const charts = await google.colab.kernel.invokeFunction(\n",
              "                'suggestCharts', [key], {});\n",
              "          } catch (error) {\n",
              "            console.error('Error during call to suggestCharts:', error);\n",
              "          }\n",
              "          quickchartButtonEl.classList.remove('colab-df-spinner');\n",
              "          quickchartButtonEl.classList.add('colab-df-quickchart-complete');\n",
              "        }\n",
              "        (() => {\n",
              "          let quickchartButtonEl =\n",
              "            document.querySelector('#df-c0d7b434-5a4b-452d-88ce-9c3d998d000a button');\n",
              "          quickchartButtonEl.style.display =\n",
              "            google.colab.kernel.accessAllowed ? 'block' : 'none';\n",
              "        })();\n",
              "      </script>\n",
              "    </div>\n",
              "    </div>\n",
              "  </div>\n"
            ],
            "application/vnd.google.colaboratory.intrinsic+json": {
              "type": "dataframe",
              "variable_name": "df_metrics",
              "summary": "{\n  \"name\": \"df_metrics\",\n  \"rows\": 6,\n  \"fields\": [\n    {\n      \"column\": \"RNN\",\n      \"properties\": {\n        \"dtype\": \"number\",\n        \"std\": 0.06348800411626329,\n        \"min\": 0.76,\n        \"max\": 0.94,\n        \"num_unique_values\": 6,\n        \"samples\": [\n          0.9021,\n          0.9006,\n          0.94\n        ],\n        \"semantic_type\": \"\",\n        \"description\": \"\"\n      }\n    },\n    {\n      \"column\": \"LSTM\",\n      \"properties\": {\n        \"dtype\": \"number\",\n        \"std\": 0.06257579137866867,\n        \"min\": 0.76,\n        \"max\": 0.94,\n        \"num_unique_values\": 6,\n        \"samples\": [\n          0.9002,\n          0.8984,\n          0.94\n        ],\n        \"semantic_type\": \"\",\n        \"description\": \"\"\n      }\n    },\n    {\n      \"column\": \"Transformer\",\n      \"properties\": {\n        \"dtype\": \"number\",\n        \"std\": 0.16416386630437282,\n        \"min\": 0.44,\n        \"max\": 0.9,\n        \"num_unique_values\": 6,\n        \"samples\": [\n          0.805,\n          0.803,\n          0.9\n        ],\n        \"semantic_type\": \"\",\n        \"description\": \"\"\n      }\n    },\n    {\n      \"column\": \"GCNN\",\n      \"properties\": {\n        \"dtype\": \"number\",\n        \"std\": 0.3037048792276256,\n        \"min\": 0.05,\n        \"max\": 0.88,\n        \"num_unique_values\": 6,\n        \"samples\": [\n          0.7163,\n          0.7113,\n          0.88\n        ],\n        \"semantic_type\": \"\",\n        \"description\": \"\"\n      }\n    }\n  ]\n}"
            }
          },
          "metadata": {},
          "execution_count": 37
        }
      ]
    },
    {
      "cell_type": "markdown",
      "source": [
        "Наиболее подходящая модель: RNN\n",
        "\n",
        "Графики: см. TensorBoard\n",
        "\n"
      ],
      "metadata": {
        "id": "2-S8CyyMEtIM"
      },
      "id": "2-S8CyyMEtIM"
    },
    {
      "cell_type": "markdown",
      "source": [
        "# Тонкая настройка лучшей модели"
      ],
      "metadata": {
        "id": "SK3YZ3sa9Bvs"
      },
      "id": "SK3YZ3sa9Bvs"
    },
    {
      "cell_type": "code",
      "source": [
        "import itertools\n",
        "from pytorch_lightning.callbacks import EarlyStopping\n",
        "import pandas as pd\n",
        "\n",
        "param_grid = {\n",
        "    'rnn_hidden_size': [256, 512],\n",
        "    'rnn_num_layers': [1, 2, 3],\n",
        "    'dropout': [0.0, 0.1, 0.2],\n",
        "}\n",
        "\n",
        "all_params = [dict(zip(param_grid.keys(), v)) for v in itertools.product(*param_grid.values())]\n",
        "print(f\"Всего комбинаций для тестирования: {len(all_params)}\")\n",
        "\n",
        "results = []\n",
        "failed_configs = []"
      ],
      "metadata": {
        "id": "Qbtk-1QN_cqt",
        "colab": {
          "base_uri": "https://localhost:8080/"
        },
        "outputId": "8d37f088-272f-4b6c-9e44-14e776acf92c"
      },
      "execution_count": null,
      "outputs": [
        {
          "output_type": "stream",
          "name": "stdout",
          "text": [
            "Всего комбинаций для тестирования: 18\n"
          ]
        }
      ],
      "id": "Qbtk-1QN_cqt"
    },
    {
      "cell_type": "code",
      "source": [
        "%load_ext tensorboard\n",
        "%tensorboard --logdir=b_logs"
      ],
      "metadata": {
        "id": "NNFn2xtJNvWM"
      },
      "execution_count": null,
      "outputs": [],
      "id": "NNFn2xtJNvWM"
    },
    {
      "cell_type": "code",
      "source": [
        "for i, params in enumerate(all_params, 1):\n",
        "    print(f\"\\n[{i}/{len(all_params)}] Тестирование параметров: {params}\")\n",
        "\n",
        "    try:\n",
        "        model = ReceiptsModule(\n",
        "            rnn_input_size=300,\n",
        "            rnn_hidden_size=params['rnn_hidden_size'],\n",
        "            rnn_num_layers=params['rnn_num_layers'],\n",
        "            rnn_dropout=params['dropout'] if params['rnn_num_layers'] > 1 else 0.0,\n",
        "            mlp_hidden_size=500,\n",
        "            learning_rate=0.001\n",
        "        )\n",
        "\n",
        "        trainer = pl.Trainer(\n",
        "            max_epochs=10,\n",
        "            callbacks=[EarlyStopping(monitor=\"metric/f1_good_val\", patience=3, mode=\"max\")],\n",
        "            enable_progress_bar=True,\n",
        "            logger=pl.loggers.TensorBoardLogger(\"b_logs\", name=\"ner_rnn_grid_search\"),\n",
        "            log_every_n_steps=1,\n",
        "            accelerator='auto'\n",
        "        )\n",
        "        trainer.fit(model, dm)\n",
        "\n",
        "        f1_good_val = trainer.callback_metrics.get(\"metric/f1_good_val\", 0.0)\n",
        "        if isinstance(f1_good_val, torch.Tensor):\n",
        "            f1_good_val = f1_good_val.item()\n",
        "\n",
        "        results.append({\n",
        "            'params': params,\n",
        "            'f1_good_val': f1_good_val\n",
        "        })\n",
        "        print(f\"Успешно завершено. Val F1: {f1_good_val:.4f}\")\n",
        "\n",
        "    except Exception as e:\n",
        "        print(f\"Ошибка при тестировании {params}: {str(e)}\")\n",
        "        failed_configs.append({\n",
        "            'params': params,\n",
        "            'error': str(e)\n",
        "        })\n",
        "        continue"
      ],
      "metadata": {
        "id": "rmhKcr3HUDMH"
      },
      "execution_count": null,
      "outputs": [],
      "id": "rmhKcr3HUDMH"
    },
    {
      "cell_type": "code",
      "source": [
        "if results:\n",
        "    results_df = pd.DataFrame(results)\n",
        "    results_df.to_csv(\"grid_search_results.csv\", index=False)\n",
        "\n",
        "    results_df = results_df.sort_values('f1_good_val', ascending=False)\n",
        "\n",
        "    print(\"\\nТоп-3 конфигурации:\")\n",
        "    print(results_df.head(3))\n",
        "\n",
        "    best_result = results_df.iloc[0]\n",
        "    print(\"\\nЛучшая конфигурация:\")\n",
        "    print(f\"Параметры: {best_result['params']}\")\n",
        "    print(f\"Val F1-score: {best_result['f1_good_val']:.4f}\")\n",
        "\n",
        "    best_model = ReceiptsModule(\n",
        "        rnn_input_size=300,\n",
        "        rnn_hidden_size=best_result['params']['rnn_hidden_size'],\n",
        "        rnn_num_layers=best_result['params']['rnn_num_layers'],\n",
        "        rnn_dropout=best_result['params']['dropout'],\n",
        "        mlp_hidden_size=500,\n",
        "        learning_rate=0.001\n",
        "    )\n",
        "    torch.save(best_model.state_dict(), \"best_model.pth\")\n",
        "else:\n",
        "    print(\"\\nНи одна конфигурация не завершилась успешно. Анализ ошибок:\")\n",
        "    for error in failed_configs:\n",
        "        print(f\"\\nПараметры: {error['params']}\")\n",
        "        print(f\"Ошибка: {error['error']}\")"
      ],
      "metadata": {
        "colab": {
          "base_uri": "https://localhost:8080/"
        },
        "id": "qsB_ZSQJCPuL",
        "outputId": "fb22262b-f7d2-4b84-e120-1cd4f8b21042"
      },
      "id": "qsB_ZSQJCPuL",
      "execution_count": null,
      "outputs": [
        {
          "output_type": "stream",
          "name": "stdout",
          "text": [
            "\n",
            "Топ-3 конфигурации:\n",
            "                                               params  f1_good_val\n",
            "17  {'rnn_hidden_size': 512, 'rnn_num_layers': 3, ...     0.715157\n",
            "0   {'rnn_hidden_size': 256, 'rnn_num_layers': 1, ...     0.711943\n",
            "14  {'rnn_hidden_size': 512, 'rnn_num_layers': 2, ...     0.711333\n",
            "\n",
            "Лучшая конфигурация:\n",
            "Параметры: {'rnn_hidden_size': 512, 'rnn_num_layers': 3, 'dropout': 0.2}\n",
            "Val F1-score: 0.7152\n"
          ]
        }
      ]
    },
    {
      "cell_type": "code",
      "source": [
        "RNN_INPUT_SIZE = 300\n",
        "RNN_HIDDEN_SIZE = 512\n",
        "RNN_NUM_LAYERS = 3\n",
        "RNN_DROPOUT = 0.2\n",
        "MLP_HIDDEN_SIZE = 500\n",
        "LEARNING_RATE = 0.001\n",
        "model_best = ReceiptsModule(\n",
        "    RNN_INPUT_SIZE,\n",
        "    RNN_HIDDEN_SIZE,\n",
        "    RNN_NUM_LAYERS,\n",
        "    RNN_DROPOUT,\n",
        "    MLP_HIDDEN_SIZE,\n",
        "    LEARNING_RATE\n",
        ")"
      ],
      "metadata": {
        "id": "ERPoYZRiRNtb"
      },
      "id": "ERPoYZRiRNtb",
      "execution_count": null,
      "outputs": []
    },
    {
      "cell_type": "markdown",
      "source": [
        "Для сравнения с baseline необходимо дообучить её, так как 10 эпох недостаточно для сравнения"
      ],
      "metadata": {
        "id": "AcQ1qx6cQE6d"
      },
      "id": "AcQ1qx6cQE6d"
    },
    {
      "cell_type": "code",
      "source": [
        "%load_ext tensorboard\n",
        "%tensorboard --logdir=tb_logs"
      ],
      "metadata": {
        "id": "P5br6lFKg0-Y"
      },
      "id": "P5br6lFKg0-Y",
      "execution_count": null,
      "outputs": []
    },
    {
      "cell_type": "code",
      "source": [
        "trainer = pl.Trainer(\n",
        "    accelerator=\"gpu\",\n",
        "    devices=[0],\n",
        "    logger=pl.loggers.TensorBoardLogger(\"tb_logs\", name=\"ner_rnn_best\"),\n",
        "    max_epochs=70,\n",
        "    log_every_n_steps=1\n",
        ")"
      ],
      "metadata": {
        "colab": {
          "base_uri": "https://localhost:8080/"
        },
        "id": "Z9-QeoWrPc12",
        "outputId": "f444ddec-3a15-4fc5-fecb-a04eae434a1b"
      },
      "id": "Z9-QeoWrPc12",
      "execution_count": null,
      "outputs": [
        {
          "output_type": "stream",
          "name": "stderr",
          "text": [
            "INFO:pytorch_lightning.utilities.rank_zero:Using default `ModelCheckpoint`. Consider installing `litmodels` package to enable `LitModelCheckpoint` for automatic upload to the Lightning model registry.\n",
            "INFO:pytorch_lightning.utilities.rank_zero:GPU available: True (cuda), used: True\n",
            "INFO:pytorch_lightning.utilities.rank_zero:TPU available: False, using: 0 TPU cores\n",
            "INFO:pytorch_lightning.utilities.rank_zero:HPU available: False, using: 0 HPUs\n"
          ]
        }
      ]
    },
    {
      "cell_type": "code",
      "source": [
        "trainer.fit(model_best, datamodule=dm)"
      ],
      "metadata": {
        "id": "12i6U0lyP2qJ"
      },
      "id": "12i6U0lyP2qJ",
      "execution_count": null,
      "outputs": []
    },
    {
      "cell_type": "code",
      "source": [
        "import matplotlib.pyplot as plt"
      ],
      "metadata": {
        "id": "DP6pQgbDZQfB"
      },
      "id": "DP6pQgbDZQfB",
      "execution_count": null,
      "outputs": []
    },
    {
      "cell_type": "code",
      "source": [
        "metrics_val = evaluate_model(model, dm.val_dataloader())"
      ],
      "metadata": {
        "colab": {
          "base_uri": "https://localhost:8080/",
          "height": 785
        },
        "id": "m_CXjAaVZDYR",
        "outputId": "d6559e82-9d46-4427-c50a-5e6f57738801"
      },
      "id": "m_CXjAaVZDYR",
      "execution_count": null,
      "outputs": [
        {
          "output_type": "stream",
          "name": "stdout",
          "text": [
            "Итоговый результат:\n",
            "F1-score (weighted): 0.9060\n",
            "Precision (weighted): 0.9058\n",
            "Recall (weighted): 0.9063\n",
            "\n",
            "\n",
            "Отчёт по классам:\n",
            "              precision    recall  f1-score   support\n",
            "\n",
            "      B-GOOD       0.76      0.78      0.77      2151\n",
            "           O       0.95      0.94      0.94      8713\n",
            "\n",
            "    accuracy                           0.91     10864\n",
            "   macro avg       0.85      0.86      0.86     10864\n",
            "weighted avg       0.91      0.91      0.91     10864\n",
            "\n"
          ]
        },
        {
          "output_type": "display_data",
          "data": {
            "text/plain": [
              "<Figure size 500x500 with 2 Axes>"
            ],
            "image/png": "[encoded data removed]"
          },
          "metadata": {}
        }
      ]
    },
    {
      "cell_type": "code",
      "source": [
        "metrics_test = evaluate_model(model, dm.test_dataloader())"
      ],
      "metadata": {
        "colab": {
          "base_uri": "https://localhost:8080/",
          "height": 785
        },
        "id": "1_NBRIi5ZGfs",
        "outputId": "d8d316b6-277f-4282-ce6a-5d463348bb9a"
      },
      "id": "1_NBRIi5ZGfs",
      "execution_count": null,
      "outputs": [
        {
          "output_type": "stream",
          "name": "stdout",
          "text": [
            "Итоговый результат:\n",
            "F1-score (weighted): 0.9040\n",
            "Precision (weighted): 0.9039\n",
            "Recall (weighted): 0.9042\n",
            "\n",
            "\n",
            "Отчёт по классам:\n",
            "              precision    recall  f1-score   support\n",
            "\n",
            "      B-GOOD       0.75      0.79      0.77      2159\n",
            "           O       0.95      0.94      0.94      8679\n",
            "\n",
            "    accuracy                           0.91     10838\n",
            "   macro avg       0.85      0.86      0.86     10838\n",
            "weighted avg       0.91      0.91      0.91     10838\n",
            "\n"
          ]
        },
        {
          "output_type": "display_data",
          "data": {
            "text/plain": [
              "<Figure size 500x500 with 2 Axes>"
            ],
            "image/png": "[encoded data removed]"
          },
          "metadata": {}
        }
      ]
    },
    {
      "cell_type": "markdown",
      "source": [
        "# Сравнение baseline и best model"
      ],
      "metadata": {
        "id": "QwuuRNeSbqm5"
      },
      "id": "QwuuRNeSbqm5"
    },
    {
      "cell_type": "code",
      "source": [
        "import pandas as pd\n",
        "\n",
        "data = {\n",
        "    'Metric': ['Baseline', 'Best'],\n",
        "    'F1-score (weighted)': [0.9021, 0.9040],\n",
        "    'Precision (weighted)': [0.9006, 0.9039],\n",
        "    'Recall (weighted)': [0.9037, 0.9042],\n",
        "    'B-GOOD F1': [0.76, 0.77],\n",
        "    'O F1': [0.94, 0.94],\n",
        "    'Accuracy': [0.91, 0.91]\n",
        "}\n",
        "\n",
        "df = pd.DataFrame(data).set_index('Metric').T\n",
        "df"
      ],
      "metadata": {
        "colab": {
          "base_uri": "https://localhost:8080/",
          "height": 237
        },
        "id": "1hEq_lMTZGVz",
        "outputId": "49e0e099-6090-4ddd-fbac-5d9ea456733c"
      },
      "id": "1hEq_lMTZGVz",
      "execution_count": null,
      "outputs": [
        {
          "output_type": "execute_result",
          "data": {
            "text/plain": [
              "Metric                Baseline    Best\n",
              "F1-score (weighted)     0.9021  0.9040\n",
              "Precision (weighted)    0.9006  0.9039\n",
              "Recall (weighted)       0.9037  0.9042\n",
              "B-GOOD F1               0.7600  0.7700\n",
              "O F1                    0.9400  0.9400\n",
              "Accuracy                0.9100  0.9100"
            ],
            "text/html": [
              "\n",
              "  <div id=\"df-910a9b22-0530-426d-b3be-bc983ff5d224\" class=\"colab-df-container\">\n",
              "    <div>\n",
              "<style scoped>\n",
              "    .dataframe tbody tr th:only-of-type {\n",
              "        vertical-align: middle;\n",
              "    }\n",
              "\n",
              "    .dataframe tbody tr th {\n",
              "        vertical-align: top;\n",
              "    }\n",
              "\n",
              "    .dataframe thead th {\n",
              "        text-align: right;\n",
              "    }\n",
              "</style>\n",
              "<table border=\"1\" class=\"dataframe\">\n",
              "  <thead>\n",
              "    <tr style=\"text-align: right;\">\n",
              "      <th>Metric</th>\n",
              "      <th>Baseline</th>\n",
              "      <th>Best</th>\n",
              "    </tr>\n",
              "  </thead>\n",
              "  <tbody>\n",
              "    <tr>\n",
              "      <th>F1-score (weighted)</th>\n",
              "      <td>0.9021</td>\n",
              "      <td>0.9040</td>\n",
              "    </tr>\n",
              "    <tr>\n",
              "      <th>Precision (weighted)</th>\n",
              "      <td>0.9006</td>\n",
              "      <td>0.9039</td>\n",
              "    </tr>\n",
              "    <tr>\n",
              "      <th>Recall (weighted)</th>\n",
              "      <td>0.9037</td>\n",
              "      <td>0.9042</td>\n",
              "    </tr>\n",
              "    <tr>\n",
              "      <th>B-GOOD F1</th>\n",
              "      <td>0.7600</td>\n",
              "      <td>0.7700</td>\n",
              "    </tr>\n",
              "    <tr>\n",
              "      <th>O F1</th>\n",
              "      <td>0.9400</td>\n",
              "      <td>0.9400</td>\n",
              "    </tr>\n",
              "    <tr>\n",
              "      <th>Accuracy</th>\n",
              "      <td>0.9100</td>\n",
              "      <td>0.9100</td>\n",
              "    </tr>\n",
              "  </tbody>\n",
              "</table>\n",
              "</div>\n",
              "    <div class=\"colab-df-buttons\">\n",
              "\n",
              "  <div class=\"colab-df-container\">\n",
              "    <button class=\"colab-df-convert\" onclick=\"convertToInteractive('df-910a9b22-0530-426d-b3be-bc983ff5d224')\"\n",
              "            title=\"Convert this dataframe to an interactive table.\"\n",
              "            style=\"display:none;\">\n",
              "\n",
              "  <svg xmlns=\"http://www.w3.org/2000/svg\" height=\"24px\" viewBox=\"0 -960 960 960\">\n",
              "    <path d=\"M120-120v-720h720v720H120Zm60-500h600v-160H180v160Zm220 220h160v-160H400v160Zm0 220h160v-160H400v160ZM180-400h160v-160H180v160Zm440 0h160v-160H620v160ZM180-180h160v-160H180v160Zm440 0h160v-160H620v160Z\"/>\n",
              "  </svg>\n",
              "    </button>\n",
              "\n",
              "  <style>\n",
              "    .colab-df-container {\n",
              "      display:flex;\n",
              "      gap: 12px;\n",
              "    }\n",
              "\n",
              "    .colab-df-convert {\n",
              "      background-color: #E8F0FE;\n",
              "      border: none;\n",
              "      border-radius: 50%;\n",
              "      cursor: pointer;\n",
              "      display: none;\n",
              "      fill: #1967D2;\n",
              "      height: 32px;\n",
              "      padding: 0 0 0 0;\n",
              "      width: 32px;\n",
              "    }\n",
              "\n",
              "    .colab-df-convert:hover {\n",
              "      background-color: #E2EBFA;\n",
              "      box-shadow: 0px 1px 2px rgba(60, 64, 67, 0.3), 0px 1px 3px 1px rgba(60, 64, 67, 0.15);\n",
              "      fill: #174EA6;\n",
              "    }\n",
              "\n",
              "    .colab-df-buttons div {\n",
              "      margin-bottom: 4px;\n",
              "    }\n",
              "\n",
              "    [theme=dark] .colab-df-convert {\n",
              "      background-color: #3B4455;\n",
              "      fill: #D2E3FC;\n",
              "    }\n",
              "\n",
              "    [theme=dark] .colab-df-convert:hover {\n",
              "      background-color: #434B5C;\n",
              "      box-shadow: 0px 1px 3px 1px rgba(0, 0, 0, 0.15);\n",
              "      filter: drop-shadow(0px 1px 2px rgba(0, 0, 0, 0.3));\n",
              "      fill: #FFFFFF;\n",
              "    }\n",
              "  </style>\n",
              "\n",
              "    <script>\n",
              "      const buttonEl =\n",
              "        document.querySelector('#df-910a9b22-0530-426d-b3be-bc983ff5d224 button.colab-df-convert');\n",
              "      buttonEl.style.display =\n",
              "        google.colab.kernel.accessAllowed ? 'block' : 'none';\n",
              "\n",
              "      async function convertToInteractive(key) {\n",
              "        const element = document.querySelector('#df-910a9b22-0530-426d-b3be-bc983ff5d224');\n",
              "        const dataTable =\n",
              "          await google.colab.kernel.invokeFunction('convertToInteractive',\n",
              "                                                    [key], {});\n",
              "        if (!dataTable) return;\n",
              "\n",
              "        const docLinkHtml = 'Like what you see? Visit the ' +\n",
              "          '<a target=\"_blank\" href=https://colab.research.google.com/notebooks/data_table.ipynb>data table notebook</a>'\n",
              "          + ' to learn more about interactive tables.';\n",
              "        element.innerHTML = '';\n",
              "        dataTable['output_type'] = 'display_data';\n",
              "        await google.colab.output.renderOutput(dataTable, element);\n",
              "        const docLink = document.createElement('div');\n",
              "        docLink.innerHTML = docLinkHtml;\n",
              "        element.appendChild(docLink);\n",
              "      }\n",
              "    </script>\n",
              "  </div>\n",
              "\n",
              "\n",
              "    <div id=\"df-3ad7202d-36c1-4a22-ba2d-aa475f7d5384\">\n",
              "      <button class=\"colab-df-quickchart\" onclick=\"quickchart('df-3ad7202d-36c1-4a22-ba2d-aa475f7d5384')\"\n",
              "                title=\"Suggest charts\"\n",
              "                style=\"display:none;\">\n",
              "\n",
              "<svg xmlns=\"http://www.w3.org/2000/svg\" height=\"24px\"viewBox=\"0 0 24 24\"\n",
              "     width=\"24px\">\n",
              "    <g>\n",
              "        <path d=\"M19 3H5c-1.1 0-2 .9-2 2v14c0 1.1.9 2 2 2h14c1.1 0 2-.9 2-2V5c0-1.1-.9-2-2-2zM9 17H7v-7h2v7zm4 0h-2V7h2v10zm4 0h-2v-4h2v4z\"/>\n",
              "    </g>\n",
              "</svg>\n",
              "      </button>\n",
              "\n",
              "<style>\n",
              "  .colab-df-quickchart {\n",
              "      --bg-color: #E8F0FE;\n",
              "      --fill-color: #1967D2;\n",
              "      --hover-bg-color: #E2EBFA;\n",
              "      --hover-fill-color: #174EA6;\n",
              "      --disabled-fill-color: #AAA;\n",
              "      --disabled-bg-color: #DDD;\n",
              "  }\n",
              "\n",
              "  [theme=dark] .colab-df-quickchart {\n",
              "      --bg-color: #3B4455;\n",
              "      --fill-color: #D2E3FC;\n",
              "      --hover-bg-color: #434B5C;\n",
              "      --hover-fill-color: #FFFFFF;\n",
              "      --disabled-bg-color: #3B4455;\n",
              "      --disabled-fill-color: #666;\n",
              "  }\n",
              "\n",
              "  .colab-df-quickchart {\n",
              "    background-color: var(--bg-color);\n",
              "    border: none;\n",
              "    border-radius: 50%;\n",
              "    cursor: pointer;\n",
              "    display: none;\n",
              "    fill: var(--fill-color);\n",
              "    height: 32px;\n",
              "    padding: 0;\n",
              "    width: 32px;\n",
              "  }\n",
              "\n",
              "  .colab-df-quickchart:hover {\n",
              "    background-color: var(--hover-bg-color);\n",
              "    box-shadow: 0 1px 2px rgba(60, 64, 67, 0.3), 0 1px 3px 1px rgba(60, 64, 67, 0.15);\n",
              "    fill: var(--button-hover-fill-color);\n",
              "  }\n",
              "\n",
              "  .colab-df-quickchart-complete:disabled,\n",
              "  .colab-df-quickchart-complete:disabled:hover {\n",
              "    background-color: var(--disabled-bg-color);\n",
              "    fill: var(--disabled-fill-color);\n",
              "    box-shadow: none;\n",
              "  }\n",
              "\n",
              "  .colab-df-spinner {\n",
              "    border: 2px solid var(--fill-color);\n",
              "    border-color: transparent;\n",
              "    border-bottom-color: var(--fill-color);\n",
              "    animation:\n",
              "      spin 1s steps(1) infinite;\n",
              "  }\n",
              "\n",
              "  @keyframes spin {\n",
              "    0% {\n",
              "      border-color: transparent;\n",
              "      border-bottom-color: var(--fill-color);\n",
              "      border-left-color: var(--fill-color);\n",
              "    }\n",
              "    20% {\n",
              "      border-color: transparent;\n",
              "      border-left-color: var(--fill-color);\n",
              "      border-top-color: var(--fill-color);\n",
              "    }\n",
              "    30% {\n",
              "      border-color: transparent;\n",
              "      border-left-color: var(--fill-color);\n",
              "      border-top-color: var(--fill-color);\n",
              "      border-right-color: var(--fill-color);\n",
              "    }\n",
              "    40% {\n",
              "      border-color: transparent;\n",
              "      border-right-color: var(--fill-color);\n",
              "      border-top-color: var(--fill-color);\n",
              "    }\n",
              "    60% {\n",
              "      border-color: transparent;\n",
              "      border-right-color: var(--fill-color);\n",
              "    }\n",
              "    80% {\n",
              "      border-color: transparent;\n",
              "      border-right-color: var(--fill-color);\n",
              "      border-bottom-color: var(--fill-color);\n",
              "    }\n",
              "    90% {\n",
              "      border-color: transparent;\n",
              "      border-bottom-color: var(--fill-color);\n",
              "    }\n",
              "  }\n",
              "</style>\n",
              "\n",
              "      <script>\n",
              "        async function quickchart(key) {\n",
              "          const quickchartButtonEl =\n",
              "            document.querySelector('#' + key + ' button');\n",
              "          quickchartButtonEl.disabled = true;  // To prevent multiple clicks.\n",
              "          quickchartButtonEl.classList.add('colab-df-spinner');\n",
              "          try {\n",
              "            const charts = await google.colab.kernel.invokeFunction(\n",
              "                'suggestCharts', [key], {});\n",
              "          } catch (error) {\n",
              "            console.error('Error during call to suggestCharts:', error);\n",
              "          }\n",
              "          quickchartButtonEl.classList.remove('colab-df-spinner');\n",
              "          quickchartButtonEl.classList.add('colab-df-quickchart-complete');\n",
              "        }\n",
              "        (() => {\n",
              "          let quickchartButtonEl =\n",
              "            document.querySelector('#df-3ad7202d-36c1-4a22-ba2d-aa475f7d5384 button');\n",
              "          quickchartButtonEl.style.display =\n",
              "            google.colab.kernel.accessAllowed ? 'block' : 'none';\n",
              "        })();\n",
              "      </script>\n",
              "    </div>\n",
              "    </div>\n",
              "  </div>\n"
            ],
            "application/vnd.google.colaboratory.intrinsic+json": {
              "type": "dataframe",
              "variable_name": "df",
              "summary": "{\n  \"name\": \"df\",\n  \"rows\": 6,\n  \"fields\": [\n    {\n      \"column\": \"Baseline\",\n      \"properties\": {\n        \"dtype\": \"number\",\n        \"std\": 0.06348800411626329,\n        \"min\": 0.76,\n        \"max\": 0.94,\n        \"num_unique_values\": 6,\n        \"samples\": [\n          0.9021,\n          0.9006,\n          0.91\n        ],\n        \"semantic_type\": \"\",\n        \"description\": \"\"\n      }\n    },\n    {\n      \"column\": \"Best\",\n      \"properties\": {\n        \"dtype\": \"number\",\n        \"std\": 0.059800415271690756,\n        \"min\": 0.77,\n        \"max\": 0.94,\n        \"num_unique_values\": 6,\n        \"samples\": [\n          0.904,\n          0.9039,\n          0.91\n        ],\n        \"semantic_type\": \"\",\n        \"description\": \"\"\n      }\n    }\n  ]\n}"
            }
          },
          "metadata": {},
          "execution_count": 36
        }
      ]
    },
    {
      "cell_type": "markdown",
      "source": [
        "Действительно, модель стала лучше на тестовой выборке.\n",
        "\n",
        "#### В дальнейшем можно проводить обучение с большим числом эпох, а также повысить значения гиперпараметров"
      ],
      "metadata": {
        "id": "LpmOaSyMb0Mz"
      },
      "id": "LpmOaSyMb0Mz"
    }
  ],
  "metadata": {
    "kernelspec": {
      "display_name": "Python 3",
      "name": "python3"
    },
    "language_info": {
      "codemirror_mode": {
        "name": "ipython",
        "version": 3
      },
      "file_extension": ".py",
      "mimetype": "text/x-python",
      "name": "python",
      "nbconvert_exporter": "python",
      "pygments_lexer": "ipython3",
      "version": "3.10.11"
    },
    "colab": {
      "provenance": [],
      "gpuType": "T4"
    },
    "accelerator": "GPU",
    "widgets": {
      "application/vnd.jupyter.widget-state+json": {
        "a61be028c1bf49aea55d848920d6b88b": {
          "model_module": "@jupyter-widgets/controls",
          "model_name": "HBoxModel",
          "model_module_version": "1.5.0",
          "state": {
            "_dom_classes": [],
            "_model_module": "@jupyter-widgets/controls",
            "_model_module_version": "1.5.0",
            "_model_name": "HBoxModel",
            "_view_count": null,
            "_view_module": "@jupyter-widgets/controls",
            "_view_module_version": "1.5.0",
            "_view_name": "HBoxView",
            "box_style": "",
            "children": [
              "IPY_MODEL_3b22dca6d163445787a6a1094f530952",
              "IPY_MODEL_0d4b36a4992f47ddb9e27f9ccafa9d2d",
              "IPY_MODEL_9a64c24e14424ba481dc16515eea536e"
            ],
            "layout": "IPY_MODEL_5a8bdc83082d4ac5879cd289737730fe"
          }
        },
        "3b22dca6d163445787a6a1094f530952": {
          "model_module": "@jupyter-widgets/controls",
          "model_name": "HTMLModel",
          "model_module_version": "1.5.0",
          "state": {
            "_dom_classes": [],
            "_model_module": "@jupyter-widgets/controls",
            "_model_module_version": "1.5.0",
            "_model_name": "HTMLModel",
            "_view_count": null,
            "_view_module": "@jupyter-widgets/controls",
            "_view_module_version": "1.5.0",
            "_view_name": "HTMLView",
            "description": "",
            "description_tooltip": null,
            "layout": "IPY_MODEL_d22b7585404243f7a734c896ecf0b4f5",
            "placeholder": "​",
            "style": "IPY_MODEL_5c988f9e65964ab9af221d0661729af8",
            "value": "Predicting DataLoader 0: 100%"
          }
        },
        "0d4b36a4992f47ddb9e27f9ccafa9d2d": {
          "model_module": "@jupyter-widgets/controls",
          "model_name": "FloatProgressModel",
          "model_module_version": "1.5.0",
          "state": {
            "_dom_classes": [],
            "_model_module": "@jupyter-widgets/controls",
            "_model_module_version": "1.5.0",
            "_model_name": "FloatProgressModel",
            "_view_count": null,
            "_view_module": "@jupyter-widgets/controls",
            "_view_module_version": "1.5.0",
            "_view_name": "ProgressView",
            "bar_style": "success",
            "description": "",
            "description_tooltip": null,
            "layout": "IPY_MODEL_14b77f10d249460a9f0a2d6f6d77787b",
            "max": 10,
            "min": 0,
            "orientation": "horizontal",
            "style": "IPY_MODEL_cbf610a337414c3385be575601b09fc4",
            "value": 10
          }
        },
        "9a64c24e14424ba481dc16515eea536e": {
          "model_module": "@jupyter-widgets/controls",
          "model_name": "HTMLModel",
          "model_module_version": "1.5.0",
          "state": {
            "_dom_classes": [],
            "_model_module": "@jupyter-widgets/controls",
            "_model_module_version": "1.5.0",
            "_model_name": "HTMLModel",
            "_view_count": null,
            "_view_module": "@jupyter-widgets/controls",
            "_view_module_version": "1.5.0",
            "_view_name": "HTMLView",
            "description": "",
            "description_tooltip": null,
            "layout": "IPY_MODEL_49aae459fe154475b70ea2f55b3ad8e2",
            "placeholder": "​",
            "style": "IPY_MODEL_c3bdb03af4e64fecb9b3c17b3caa5d06",
            "value": " 10/10 [00:00&lt;00:00, 16.51it/s]"
          }
        },
        "5a8bdc83082d4ac5879cd289737730fe": {
          "model_module": "@jupyter-widgets/base",
          "model_name": "LayoutModel",
          "model_module_version": "1.2.0",
          "state": {
            "_model_module": "@jupyter-widgets/base",
            "_model_module_version": "1.2.0",
            "_model_name": "LayoutModel",
            "_view_count": null,
            "_view_module": "@jupyter-widgets/base",
            "_view_module_version": "1.2.0",
            "_view_name": "LayoutView",
            "align_content": null,
            "align_items": null,
            "align_self": null,
            "border": null,
            "bottom": null,
            "display": "inline-flex",
            "flex": null,
            "flex_flow": "row wrap",
            "grid_area": null,
            "grid_auto_columns": null,
            "grid_auto_flow": null,
            "grid_auto_rows": null,
            "grid_column": null,
            "grid_gap": null,
            "grid_row": null,
            "grid_template_areas": null,
            "grid_template_columns": null,
            "grid_template_rows": null,
            "height": null,
            "justify_content": null,
            "justify_items": null,
            "left": null,
            "margin": null,
            "max_height": null,
            "max_width": null,
            "min_height": null,
            "min_width": null,
            "object_fit": null,
            "object_position": null,
            "order": null,
            "overflow": null,
            "overflow_x": null,
            "overflow_y": null,
            "padding": null,
            "right": null,
            "top": null,
            "visibility": null,
            "width": "100%"
          }
        },
        "d22b7585404243f7a734c896ecf0b4f5": {
          "model_module": "@jupyter-widgets/base",
          "model_name": "LayoutModel",
          "model_module_version": "1.2.0",
          "state": {
            "_model_module": "@jupyter-widgets/base",
            "_model_module_version": "1.2.0",
            "_model_name": "LayoutModel",
            "_view_count": null,
            "_view_module": "@jupyter-widgets/base",
            "_view_module_version": "1.2.0",
            "_view_name": "LayoutView",
            "align_content": null,
            "align_items": null,
            "align_self": null,
            "border": null,
            "bottom": null,
            "display": null,
            "flex": null,
            "flex_flow": null,
            "grid_area": null,
            "grid_auto_columns": null,
            "grid_auto_flow": null,
            "grid_auto_rows": null,
            "grid_column": null,
            "grid_gap": null,
            "grid_row": null,
            "grid_template_areas": null,
            "grid_template_columns": null,
            "grid_template_rows": null,
            "height": null,
            "justify_content": null,
            "justify_items": null,
            "left": null,
            "margin": null,
            "max_height": null,
            "max_width": null,
            "min_height": null,
            "min_width": null,
            "object_fit": null,
            "object_position": null,
            "order": null,
            "overflow": null,
            "overflow_x": null,
            "overflow_y": null,
            "padding": null,
            "right": null,
            "top": null,
            "visibility": null,
            "width": null
          }
        },
        "5c988f9e65964ab9af221d0661729af8": {
          "model_module": "@jupyter-widgets/controls",
          "model_name": "DescriptionStyleModel",
          "model_module_version": "1.5.0",
          "state": {
            "_model_module": "@jupyter-widgets/controls",
            "_model_module_version": "1.5.0",
            "_model_name": "DescriptionStyleModel",
            "_view_count": null,
            "_view_module": "@jupyter-widgets/base",
            "_view_module_version": "1.2.0",
            "_view_name": "StyleView",
            "description_width": ""
          }
        },
        "14b77f10d249460a9f0a2d6f6d77787b": {
          "model_module": "@jupyter-widgets/base",
          "model_name": "LayoutModel",
          "model_module_version": "1.2.0",
          "state": {
            "_model_module": "@jupyter-widgets/base",
            "_model_module_version": "1.2.0",
            "_model_name": "LayoutModel",
            "_view_count": null,
            "_view_module": "@jupyter-widgets/base",
            "_view_module_version": "1.2.0",
            "_view_name": "LayoutView",
            "align_content": null,
            "align_items": null,
            "align_self": null,
            "border": null,
            "bottom": null,
            "display": null,
            "flex": "2",
            "flex_flow": null,
            "grid_area": null,
            "grid_auto_columns": null,
            "grid_auto_flow": null,
            "grid_auto_rows": null,
            "grid_column": null,
            "grid_gap": null,
            "grid_row": null,
            "grid_template_areas": null,
            "grid_template_columns": null,
            "grid_template_rows": null,
            "height": null,
            "justify_content": null,
            "justify_items": null,
            "left": null,
            "margin": null,
            "max_height": null,
            "max_width": null,
            "min_height": null,
            "min_width": null,
            "object_fit": null,
            "object_position": null,
            "order": null,
            "overflow": null,
            "overflow_x": null,
            "overflow_y": null,
            "padding": null,
            "right": null,
            "top": null,
            "visibility": null,
            "width": null
          }
        },
        "cbf610a337414c3385be575601b09fc4": {
          "model_module": "@jupyter-widgets/controls",
          "model_name": "ProgressStyleModel",
          "model_module_version": "1.5.0",
          "state": {
            "_model_module": "@jupyter-widgets/controls",
            "_model_module_version": "1.5.0",
            "_model_name": "ProgressStyleModel",
            "_view_count": null,
            "_view_module": "@jupyter-widgets/base",
            "_view_module_version": "1.2.0",
            "_view_name": "StyleView",
            "bar_color": null,
            "description_width": ""
          }
        },
        "49aae459fe154475b70ea2f55b3ad8e2": {
          "model_module": "@jupyter-widgets/base",
          "model_name": "LayoutModel",
          "model_module_version": "1.2.0",
          "state": {
            "_model_module": "@jupyter-widgets/base",
            "_model_module_version": "1.2.0",
            "_model_name": "LayoutModel",
            "_view_count": null,
            "_view_module": "@jupyter-widgets/base",
            "_view_module_version": "1.2.0",
            "_view_name": "LayoutView",
            "align_content": null,
            "align_items": null,
            "align_self": null,
            "border": null,
            "bottom": null,
            "display": null,
            "flex": null,
            "flex_flow": null,
            "grid_area": null,
            "grid_auto_columns": null,
            "grid_auto_flow": null,
            "grid_auto_rows": null,
            "grid_column": null,
            "grid_gap": null,
            "grid_row": null,
            "grid_template_areas": null,
            "grid_template_columns": null,
            "grid_template_rows": null,
            "height": null,
            "justify_content": null,
            "justify_items": null,
            "left": null,
            "margin": null,
            "max_height": null,
            "max_width": null,
            "min_height": null,
            "min_width": null,
            "object_fit": null,
            "object_position": null,
            "order": null,
            "overflow": null,
            "overflow_x": null,
            "overflow_y": null,
            "padding": null,
            "right": null,
            "top": null,
            "visibility": null,
            "width": null
          }
        },
        "c3bdb03af4e64fecb9b3c17b3caa5d06": {
          "model_module": "@jupyter-widgets/controls",
          "model_name": "DescriptionStyleModel",
          "model_module_version": "1.5.0",
          "state": {
            "_model_module": "@jupyter-widgets/controls",
            "_model_module_version": "1.5.0",
            "_model_name": "DescriptionStyleModel",
            "_view_count": null,
            "_view_module": "@jupyter-widgets/base",
            "_view_module_version": "1.2.0",
            "_view_name": "StyleView",
            "description_width": ""
          }
        }
      }
    }
  },
  "nbformat": 4,
  "nbformat_minor": 5
}